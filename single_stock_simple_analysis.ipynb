{
 "cells": [
  {
   "cell_type": "code",
   "execution_count": 1,
   "metadata": {},
   "outputs": [],
   "source": [
    "import pandas as pd\n",
    "from pandas_datareader.yahoo import daily as yh\n",
    "from pandas_datareader import data as wb\n",
    "import matplotlib.pyplot as plt\n",
    "%matplotlib inline"
   ]
  },
  {
   "cell_type": "code",
   "execution_count": 10,
   "metadata": {},
   "outputs": [
    {
     "data": {
      "text/plain": [
       "Date\n",
       "2022-05-02    4155.379883\n",
       "2022-05-03    4175.479980\n",
       "2022-05-04    4300.169922\n",
       "2022-05-05    4146.870117\n",
       "2022-05-06    4123.339844\n",
       "Name: Adj Close, dtype: float64"
      ]
     },
     "execution_count": 10,
     "metadata": {},
     "output_type": "execute_result"
    }
   ],
   "source": [
    "ticker = 'RIO' #change ticker here, ^GSPC for s&p500\n",
    "start_date = '2017-1-1' #change date here\n",
    "itv = 'm' # m = month, d = day, w = week for interval.\n",
    "\n",
    "price = pd.DataFrame()\n",
    "price = yh.YahooDailyReader(ticker, start = start_date, interval = itv)\n",
    "price = price.read()['Adj Close']\n",
    "price.tail()"
   ]
  },
  {
   "cell_type": "code",
   "execution_count": 3,
   "metadata": {},
   "outputs": [
    {
     "data": {
      "text/plain": [
       "<AxesSubplot:xlabel='Date'>"
      ]
     },
     "execution_count": 3,
     "metadata": {},
     "output_type": "execute_result"
    },
    {
     "data": {
      "image/png": "[encoded data removed]",
      "text/plain": [
       "<Figure size 432x288 with 1 Axes>"
      ]
     },
     "metadata": {
      "needs_background": "light"
     },
     "output_type": "display_data"
    }
   ],
   "source": [
    "# uncomment the following code to out put the daily price.\n",
    "# path_name = 'results/close_' + ticker + start_date +'.csv'\n",
    "# price.to_csv(path_name)\n",
    "price.plot()\n",
    "# c = color, ls = linestyle, maker."
   ]
  },
  {
   "cell_type": "code",
   "execution_count": 4,
   "metadata": {},
   "outputs": [
    {
     "data": {
      "text/plain": [
       "<AxesSubplot:xlabel='Date'>"
      ]
     },
     "execution_count": 4,
     "metadata": {},
     "output_type": "execute_result"
    },
    {
     "data": {
      "image/png": "[encoded data removed]",
      "text/plain": [
       "<Figure size 432x288 with 1 Axes>"
      ]
     },
     "metadata": {
      "needs_background": "light"
     },
     "output_type": "display_data"
    }
   ],
   "source": [
    "(price / price.iloc[0] * 100).plot(c = '#dc143c',ls='--') "
   ]
  },
  {
   "cell_type": "code",
   "execution_count": 5,
   "metadata": {},
   "outputs": [
    {
     "name": "stdout",
     "output_type": "stream",
     "text": [
      "If buying 1 share of ^GSPC every month since 2017-1-1, the results are:\n",
      "Total contribution: $213469.28 ; Current value: $272140.43 ; Total return: 27.48%\n"
     ]
    }
   ],
   "source": [
    "contribution = sum(price)\n",
    "value = len(price) * price[-1]\n",
    "\n",
    "ret = value/contribution - 1\n",
    "\n",
    "print(f'If buying 1 share of {ticker} every month since {start_date}, the results are:')\n",
    "print(f\"Total contribution: ${contribution :.2f} ; Current value: ${value :.2f} ; Total return: {ret*100 :.2f}%\")"
   ]
  },
  {
   "cell_type": "code",
   "execution_count": 6,
   "metadata": {},
   "outputs": [
    {
     "data": {
      "text/html": [
       "<div>\n",
       "<style scoped>\n",
       "    .dataframe tbody tr th:only-of-type {\n",
       "        vertical-align: middle;\n",
       "    }\n",
       "\n",
       "    .dataframe tbody tr th {\n",
       "        vertical-align: top;\n",
       "    }\n",
       "\n",
       "    .dataframe thead th {\n",
       "        text-align: right;\n",
       "    }\n",
       "</style>\n",
       "<table border=\"1\" class=\"dataframe\">\n",
       "  <thead>\n",
       "    <tr style=\"text-align: right;\">\n",
       "      <th></th>\n",
       "      <th>action</th>\n",
       "      <th>value</th>\n",
       "    </tr>\n",
       "  </thead>\n",
       "  <tbody>\n",
       "  </tbody>\n",
       "</table>\n",
       "</div>"
      ],
      "text/plain": [
       "Empty DataFrame\n",
       "Columns: [action, value]\n",
       "Index: []"
      ]
     },
     "execution_count": 6,
     "metadata": {},
     "output_type": "execute_result"
    }
   ],
   "source": [
    "# dividend analysis\n",
    "\n",
    "dividends = pd.DataFrame()\n",
    "\n",
    "dividends = wb.DataReader(ticker,data_source = 'yahoo-dividends',start = start_date,) #use yahoo-actions see split.\n",
    "dividends.head()"
   ]
  },
  {
   "cell_type": "code",
   "execution_count": 7,
   "metadata": {},
   "outputs": [
    {
     "data": {
      "text/html": [
       "<div>\n",
       "<style scoped>\n",
       "    .dataframe tbody tr th:only-of-type {\n",
       "        vertical-align: middle;\n",
       "    }\n",
       "\n",
       "    .dataframe tbody tr th {\n",
       "        vertical-align: top;\n",
       "    }\n",
       "\n",
       "    .dataframe thead th {\n",
       "        text-align: right;\n",
       "    }\n",
       "</style>\n",
       "<table border=\"1\" class=\"dataframe\">\n",
       "  <thead>\n",
       "    <tr style=\"text-align: right;\">\n",
       "      <th></th>\n",
       "      <th>action</th>\n",
       "      <th>value</th>\n",
       "    </tr>\n",
       "  </thead>\n",
       "  <tbody>\n",
       "  </tbody>\n",
       "</table>\n",
       "</div>"
      ],
      "text/plain": [
       "Empty DataFrame\n",
       "Columns: [action, value]\n",
       "Index: []"
      ]
     },
     "execution_count": 7,
     "metadata": {},
     "output_type": "execute_result"
    }
   ],
   "source": [
    "dividends.tail()"
   ]
  },
  {
   "cell_type": "code",
   "execution_count": 8,
   "metadata": {},
   "outputs": [
    {
     "ename": "TypeError",
     "evalue": "no numeric data to plot",
     "output_type": "error",
     "traceback": [
      "\u001b[0;31m---------------------------------------------------------------------------\u001b[0m",
      "\u001b[0;31mTypeError\u001b[0m                                 Traceback (most recent call last)",
      "\u001b[1;32m/home/mlk/Documents/GitHub/simulate-efficient-frontier-3tickers/single_stock_simple_analysis.ipynb Cell 8'\u001b[0m in \u001b[0;36m<cell line: 1>\u001b[0;34m()\u001b[0m\n\u001b[0;32m----> <a href='vscode-notebook-cell:/home/mlk/Documents/GitHub/simulate-efficient-frontier-3tickers/single_stock_simple_analysis.ipynb#ch0000007?line=0'>1</a>\u001b[0m dividends\u001b[39m.\u001b[39;49mplot(c \u001b[39m=\u001b[39;49m \u001b[39m'\u001b[39;49m\u001b[39mg\u001b[39;49m\u001b[39m'\u001b[39;49m,marker\u001b[39m=\u001b[39;49m\u001b[39m'\u001b[39;49m\u001b[39mo\u001b[39;49m\u001b[39m'\u001b[39;49m, ls \u001b[39m=\u001b[39;49m \u001b[39m'\u001b[39;49m\u001b[39m:\u001b[39;49m\u001b[39m'\u001b[39;49m)\n",
      "File \u001b[0;32m~/.local/lib/python3.8/site-packages/pandas/plotting/_core.py:972\u001b[0m, in \u001b[0;36mPlotAccessor.__call__\u001b[0;34m(self, *args, **kwargs)\u001b[0m\n\u001b[1;32m    <a href='file:///home/mlk/.local/lib/python3.8/site-packages/pandas/plotting/_core.py?line=968'>969</a>\u001b[0m             label_name \u001b[39m=\u001b[39m label_kw \u001b[39mor\u001b[39;00m data\u001b[39m.\u001b[39mcolumns\n\u001b[1;32m    <a href='file:///home/mlk/.local/lib/python3.8/site-packages/pandas/plotting/_core.py?line=969'>970</a>\u001b[0m             data\u001b[39m.\u001b[39mcolumns \u001b[39m=\u001b[39m label_name\n\u001b[0;32m--> <a href='file:///home/mlk/.local/lib/python3.8/site-packages/pandas/plotting/_core.py?line=971'>972</a>\u001b[0m \u001b[39mreturn\u001b[39;00m plot_backend\u001b[39m.\u001b[39;49mplot(data, kind\u001b[39m=\u001b[39;49mkind, \u001b[39m*\u001b[39;49m\u001b[39m*\u001b[39;49mkwargs)\n",
      "File \u001b[0;32m~/.local/lib/python3.8/site-packages/pandas/plotting/_matplotlib/__init__.py:71\u001b[0m, in \u001b[0;36mplot\u001b[0;34m(data, kind, **kwargs)\u001b[0m\n\u001b[1;32m     <a href='file:///home/mlk/.local/lib/python3.8/site-packages/pandas/plotting/_matplotlib/__init__.py?line=68'>69</a>\u001b[0m         kwargs[\u001b[39m\"\u001b[39m\u001b[39max\u001b[39m\u001b[39m\"\u001b[39m] \u001b[39m=\u001b[39m \u001b[39mgetattr\u001b[39m(ax, \u001b[39m\"\u001b[39m\u001b[39mleft_ax\u001b[39m\u001b[39m\"\u001b[39m, ax)\n\u001b[1;32m     <a href='file:///home/mlk/.local/lib/python3.8/site-packages/pandas/plotting/_matplotlib/__init__.py?line=69'>70</a>\u001b[0m plot_obj \u001b[39m=\u001b[39m PLOT_CLASSES[kind](data, \u001b[39m*\u001b[39m\u001b[39m*\u001b[39mkwargs)\n\u001b[0;32m---> <a href='file:///home/mlk/.local/lib/python3.8/site-packages/pandas/plotting/_matplotlib/__init__.py?line=70'>71</a>\u001b[0m plot_obj\u001b[39m.\u001b[39;49mgenerate()\n\u001b[1;32m     <a href='file:///home/mlk/.local/lib/python3.8/site-packages/pandas/plotting/_matplotlib/__init__.py?line=71'>72</a>\u001b[0m plot_obj\u001b[39m.\u001b[39mdraw()\n\u001b[1;32m     <a href='file:///home/mlk/.local/lib/python3.8/site-packages/pandas/plotting/_matplotlib/__init__.py?line=72'>73</a>\u001b[0m \u001b[39mreturn\u001b[39;00m plot_obj\u001b[39m.\u001b[39mresult\n",
      "File \u001b[0;32m~/.local/lib/python3.8/site-packages/pandas/plotting/_matplotlib/core.py:327\u001b[0m, in \u001b[0;36mMPLPlot.generate\u001b[0;34m(self)\u001b[0m\n\u001b[1;32m    <a href='file:///home/mlk/.local/lib/python3.8/site-packages/pandas/plotting/_matplotlib/core.py?line=324'>325</a>\u001b[0m \u001b[39mdef\u001b[39;00m \u001b[39mgenerate\u001b[39m(\u001b[39mself\u001b[39m):\n\u001b[1;32m    <a href='file:///home/mlk/.local/lib/python3.8/site-packages/pandas/plotting/_matplotlib/core.py?line=325'>326</a>\u001b[0m     \u001b[39mself\u001b[39m\u001b[39m.\u001b[39m_args_adjust()\n\u001b[0;32m--> <a href='file:///home/mlk/.local/lib/python3.8/site-packages/pandas/plotting/_matplotlib/core.py?line=326'>327</a>\u001b[0m     \u001b[39mself\u001b[39;49m\u001b[39m.\u001b[39;49m_compute_plot_data()\n\u001b[1;32m    <a href='file:///home/mlk/.local/lib/python3.8/site-packages/pandas/plotting/_matplotlib/core.py?line=327'>328</a>\u001b[0m     \u001b[39mself\u001b[39m\u001b[39m.\u001b[39m_setup_subplots()\n\u001b[1;32m    <a href='file:///home/mlk/.local/lib/python3.8/site-packages/pandas/plotting/_matplotlib/core.py?line=328'>329</a>\u001b[0m     \u001b[39mself\u001b[39m\u001b[39m.\u001b[39m_make_plot()\n",
      "File \u001b[0;32m~/.local/lib/python3.8/site-packages/pandas/plotting/_matplotlib/core.py:506\u001b[0m, in \u001b[0;36mMPLPlot._compute_plot_data\u001b[0;34m(self)\u001b[0m\n\u001b[1;32m    <a href='file:///home/mlk/.local/lib/python3.8/site-packages/pandas/plotting/_matplotlib/core.py?line=503'>504</a>\u001b[0m \u001b[39m# no non-numeric frames or series allowed\u001b[39;00m\n\u001b[1;32m    <a href='file:///home/mlk/.local/lib/python3.8/site-packages/pandas/plotting/_matplotlib/core.py?line=504'>505</a>\u001b[0m \u001b[39mif\u001b[39;00m is_empty:\n\u001b[0;32m--> <a href='file:///home/mlk/.local/lib/python3.8/site-packages/pandas/plotting/_matplotlib/core.py?line=505'>506</a>\u001b[0m     \u001b[39mraise\u001b[39;00m \u001b[39mTypeError\u001b[39;00m(\u001b[39m\"\u001b[39m\u001b[39mno numeric data to plot\u001b[39m\u001b[39m\"\u001b[39m)\n\u001b[1;32m    <a href='file:///home/mlk/.local/lib/python3.8/site-packages/pandas/plotting/_matplotlib/core.py?line=507'>508</a>\u001b[0m \u001b[39mself\u001b[39m\u001b[39m.\u001b[39mdata \u001b[39m=\u001b[39m numeric_data\u001b[39m.\u001b[39mapply(\u001b[39mself\u001b[39m\u001b[39m.\u001b[39m_convert_to_ndarray)\n",
      "\u001b[0;31mTypeError\u001b[0m: no numeric data to plot"
     ]
    }
   ],
   "source": [
    "dividends.plot(c = 'g',marker='o', ls = ':') #ls or linestyle."
   ]
  },
  {
   "cell_type": "code",
   "execution_count": null,
   "metadata": {},
   "outputs": [
    {
     "name": "stdout",
     "output_type": "stream",
     "text": [
      "current yeild 13.89%\n"
     ]
    }
   ],
   "source": [
    "# calculate the most recent dividend yieldu\n",
    "# dividend frequency, how many times a year.\n",
    "freq_div = 2 # change frequency here\n",
    "\n",
    "yd = dividends.iloc[0]['value'] / price.iloc[-1]\n",
    "print(f'current yeild {yd * freq_div * 100 :.02f}%')"
   ]
  }
 ],
 "metadata": {
  "interpreter": {
   "hash": "916dbcbb3f70747c44a77c7bcd40155683ae19c65e1c03b4aa3499c5328201f1"
  },
  "kernelspec": {
   "display_name": "Python 3.8.10 64-bit",
   "language": "python",
   "name": "python3"
  },
  "language_info": {
   "codemirror_mode": {
    "name": "ipython",
    "version": 3
   },
   "file_extension": ".py",
   "mimetype": "text/x-python",
   "name": "python",
   "nbconvert_exporter": "python",
   "pygments_lexer": "ipython3",
   "version": "3.8.10"
  },
  "orig_nbformat": 4
 },
 "nbformat": 4,
 "nbformat_minor": 2
}
