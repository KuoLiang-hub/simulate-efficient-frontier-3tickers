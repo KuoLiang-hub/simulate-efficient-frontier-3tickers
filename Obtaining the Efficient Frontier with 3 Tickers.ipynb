{
 "cells": [
  {
   "cell_type": "code",
   "execution_count": 1,
   "metadata": {},
   "outputs": [],
   "source": [
    "# This program is based on the Udemy course \"Python for Finance: Investment Fundamentals & Data Analytics\" \n",
    "# by Martin and Ned from 365\n",
    "# Link to the course: https://www.udemy.com/course/python-for-finance-investment-fundamentals-data-analytics/\n",
    "# This is a jupyter notebook file, better to run in jupyter notebook enviorment.\n",
    "# Author: Martin and Ned, 365 Team. \n",
    "# Updated by: Kuo L. 2022-01-28\n",
    "\n",
    "import numpy as np\n",
    "import pandas as pd\n",
    "from pandas_datareader import data as wb\n",
    "import matplotlib.pyplot as plt\n",
    "%matplotlib inline"
   ]
  },
  {
   "cell_type": "code",
   "execution_count": 2,
   "metadata": {},
   "outputs": [],
   "source": [
    "# It uses yahoo finance api to get close price for each ticker stock/ETF.\n",
    "# use any 3 tickers, I just use vanguard ETFs.\n",
    "# you can put more than 3 tickers, just note that the more tickers in, \n",
    "# the more calculation needed to plot efficient frontier. change num_simulation to a higher number as needed.\n",
    "\n",
    "num_simulation = 2000\n",
    "assets = ['VYM', 'VTI', 'VOO','VGIT']\n",
    "pf_data = pd.DataFrame()\n",
    "\n",
    "for a in assets:\n",
    "    #you can chagne the start date to any date in 'yyyy-mm-dd' format.\n",
    "    pf_data[a] = wb.DataReader(a, data_source = 'yahoo', start = '2018-1-1')['Adj Close'] "
   ]
  },
  {
   "cell_type": "code",
   "execution_count": 3,
   "metadata": {},
   "outputs": [
    {
     "data": {
      "text/html": [
       "<div>\n",
       "<style scoped>\n",
       "    .dataframe tbody tr th:only-of-type {\n",
       "        vertical-align: middle;\n",
       "    }\n",
       "\n",
       "    .dataframe tbody tr th {\n",
       "        vertical-align: top;\n",
       "    }\n",
       "\n",
       "    .dataframe thead th {\n",
       "        text-align: right;\n",
       "    }\n",
       "</style>\n",
       "<table border=\"1\" class=\"dataframe\">\n",
       "  <thead>\n",
       "    <tr style=\"text-align: right;\">\n",
       "      <th></th>\n",
       "      <th>VYM</th>\n",
       "      <th>VTI</th>\n",
       "      <th>VOO</th>\n",
       "      <th>VGIT</th>\n",
       "    </tr>\n",
       "    <tr>\n",
       "      <th>Date</th>\n",
       "      <th></th>\n",
       "      <th></th>\n",
       "      <th></th>\n",
       "      <th></th>\n",
       "    </tr>\n",
       "  </thead>\n",
       "  <tbody>\n",
       "    <tr>\n",
       "      <th>2018-01-02</th>\n",
       "      <td>75.506042</td>\n",
       "      <td>129.037643</td>\n",
       "      <td>230.026474</td>\n",
       "      <td>58.771889</td>\n",
       "    </tr>\n",
       "    <tr>\n",
       "      <th>2018-01-03</th>\n",
       "      <td>75.752106</td>\n",
       "      <td>129.784485</td>\n",
       "      <td>231.394943</td>\n",
       "      <td>58.790321</td>\n",
       "    </tr>\n",
       "    <tr>\n",
       "      <th>2018-01-04</th>\n",
       "      <td>76.086037</td>\n",
       "      <td>130.279266</td>\n",
       "      <td>232.409683</td>\n",
       "      <td>58.744247</td>\n",
       "    </tr>\n",
       "    <tr>\n",
       "      <th>2018-01-05</th>\n",
       "      <td>76.428780</td>\n",
       "      <td>131.044815</td>\n",
       "      <td>233.899185</td>\n",
       "      <td>58.707420</td>\n",
       "    </tr>\n",
       "    <tr>\n",
       "      <th>2018-01-08</th>\n",
       "      <td>76.569382</td>\n",
       "      <td>131.343552</td>\n",
       "      <td>234.383255</td>\n",
       "      <td>58.670578</td>\n",
       "    </tr>\n",
       "  </tbody>\n",
       "</table>\n",
       "</div>"
      ],
      "text/plain": [
       "                  VYM         VTI         VOO       VGIT\n",
       "Date                                                    \n",
       "2018-01-02  75.506042  129.037643  230.026474  58.771889\n",
       "2018-01-03  75.752106  129.784485  231.394943  58.790321\n",
       "2018-01-04  76.086037  130.279266  232.409683  58.744247\n",
       "2018-01-05  76.428780  131.044815  233.899185  58.707420\n",
       "2018-01-08  76.569382  131.343552  234.383255  58.670578"
      ]
     },
     "execution_count": 3,
     "metadata": {},
     "output_type": "execute_result"
    }
   ],
   "source": [
    "pf_data.head() #makre sure companies were public at starting date"
   ]
  },
  {
   "cell_type": "code",
   "execution_count": 4,
   "metadata": {},
   "outputs": [
    {
     "data": {
      "text/html": [
       "<div>\n",
       "<style scoped>\n",
       "    .dataframe tbody tr th:only-of-type {\n",
       "        vertical-align: middle;\n",
       "    }\n",
       "\n",
       "    .dataframe tbody tr th {\n",
       "        vertical-align: top;\n",
       "    }\n",
       "\n",
       "    .dataframe thead th {\n",
       "        text-align: right;\n",
       "    }\n",
       "</style>\n",
       "<table border=\"1\" class=\"dataframe\">\n",
       "  <thead>\n",
       "    <tr style=\"text-align: right;\">\n",
       "      <th></th>\n",
       "      <th>VYM</th>\n",
       "      <th>VTI</th>\n",
       "      <th>VOO</th>\n",
       "      <th>VGIT</th>\n",
       "    </tr>\n",
       "    <tr>\n",
       "      <th>Date</th>\n",
       "      <th></th>\n",
       "      <th></th>\n",
       "      <th></th>\n",
       "      <th></th>\n",
       "    </tr>\n",
       "  </thead>\n",
       "  <tbody>\n",
       "    <tr>\n",
       "      <th>2022-01-24</th>\n",
       "      <td>110.080002</td>\n",
       "      <td>222.330002</td>\n",
       "      <td>404.369995</td>\n",
       "      <td>65.620003</td>\n",
       "    </tr>\n",
       "    <tr>\n",
       "      <th>2022-01-25</th>\n",
       "      <td>110.160004</td>\n",
       "      <td>219.220001</td>\n",
       "      <td>399.459991</td>\n",
       "      <td>65.550003</td>\n",
       "    </tr>\n",
       "    <tr>\n",
       "      <th>2022-01-26</th>\n",
       "      <td>109.660004</td>\n",
       "      <td>218.369995</td>\n",
       "      <td>398.559998</td>\n",
       "      <td>65.230003</td>\n",
       "    </tr>\n",
       "    <tr>\n",
       "      <th>2022-01-27</th>\n",
       "      <td>109.529999</td>\n",
       "      <td>216.750000</td>\n",
       "      <td>396.540009</td>\n",
       "      <td>65.290001</td>\n",
       "    </tr>\n",
       "    <tr>\n",
       "      <th>2022-01-28</th>\n",
       "      <td>110.730003</td>\n",
       "      <td>222.089996</td>\n",
       "      <td>406.190002</td>\n",
       "      <td>65.419998</td>\n",
       "    </tr>\n",
       "  </tbody>\n",
       "</table>\n",
       "</div>"
      ],
      "text/plain": [
       "                   VYM         VTI         VOO       VGIT\n",
       "Date                                                     \n",
       "2022-01-24  110.080002  222.330002  404.369995  65.620003\n",
       "2022-01-25  110.160004  219.220001  399.459991  65.550003\n",
       "2022-01-26  109.660004  218.369995  398.559998  65.230003\n",
       "2022-01-27  109.529999  216.750000  396.540009  65.290001\n",
       "2022-01-28  110.730003  222.089996  406.190002  65.419998"
      ]
     },
     "execution_count": 4,
     "metadata": {},
     "output_type": "execute_result"
    }
   ],
   "source": [
    "pf_data.tail() #check companies still open and public at ending date"
   ]
  },
  {
   "cell_type": "code",
   "execution_count": 5,
   "metadata": {},
   "outputs": [
    {
     "data": {
      "text/plain": [
       "<AxesSubplot:xlabel='Date'>"
      ]
     },
     "execution_count": 5,
     "metadata": {},
     "output_type": "execute_result"
    },
    {
     "data": {
      "image/png": "[encoded data removed]",
      "text/plain": [
       "<Figure size 720x360 with 1 Axes>"
      ]
     },
     "metadata": {
      "needs_background": "light"
     },
     "output_type": "display_data"
    }
   ],
   "source": [
    "(pf_data / pf_data.iloc[0] * 100).plot(figsize=(10, 5)) #Plot of company performance without considering dividends"
   ]
  },
  {
   "cell_type": "code",
   "execution_count": 6,
   "metadata": {},
   "outputs": [],
   "source": [
    "log_returns = np.log(pf_data / pf_data.shift(1)) #get average daily log returns"
   ]
  },
  {
   "cell_type": "code",
   "execution_count": 7,
   "metadata": {},
   "outputs": [
    {
     "data": {
      "text/plain": [
       "VYM     0.093295\n",
       "VTI     0.132305\n",
       "VOO     0.138554\n",
       "VGIT    0.026112\n",
       "dtype: float64"
      ]
     },
     "execution_count": 7,
     "metadata": {},
     "output_type": "execute_result"
    }
   ],
   "source": [
    "log_returns.mean() * 250 #get yearly returns(daily return x # of days a year). Market open roughly 250 days a year, so I do not use 365. "
   ]
  },
  {
   "cell_type": "code",
   "execution_count": 8,
   "metadata": {},
   "outputs": [
    {
     "data": {
      "text/html": [
       "<div>\n",
       "<style scoped>\n",
       "    .dataframe tbody tr th:only-of-type {\n",
       "        vertical-align: middle;\n",
       "    }\n",
       "\n",
       "    .dataframe tbody tr th {\n",
       "        vertical-align: top;\n",
       "    }\n",
       "\n",
       "    .dataframe thead th {\n",
       "        text-align: right;\n",
       "    }\n",
       "</style>\n",
       "<table border=\"1\" class=\"dataframe\">\n",
       "  <thead>\n",
       "    <tr style=\"text-align: right;\">\n",
       "      <th></th>\n",
       "      <th>VYM</th>\n",
       "      <th>VTI</th>\n",
       "      <th>VOO</th>\n",
       "      <th>VGIT</th>\n",
       "    </tr>\n",
       "  </thead>\n",
       "  <tbody>\n",
       "    <tr>\n",
       "      <th>VYM</th>\n",
       "      <td>0.041415</td>\n",
       "      <td>0.040347</td>\n",
       "      <td>0.040490</td>\n",
       "      <td>-0.003132</td>\n",
       "    </tr>\n",
       "    <tr>\n",
       "      <th>VTI</th>\n",
       "      <td>0.040347</td>\n",
       "      <td>0.045072</td>\n",
       "      <td>0.044765</td>\n",
       "      <td>-0.002886</td>\n",
       "    </tr>\n",
       "    <tr>\n",
       "      <th>VOO</th>\n",
       "      <td>0.040490</td>\n",
       "      <td>0.044765</td>\n",
       "      <td>0.044853</td>\n",
       "      <td>-0.002968</td>\n",
       "    </tr>\n",
       "    <tr>\n",
       "      <th>VGIT</th>\n",
       "      <td>-0.003132</td>\n",
       "      <td>-0.002886</td>\n",
       "      <td>-0.002968</td>\n",
       "      <td>0.001204</td>\n",
       "    </tr>\n",
       "  </tbody>\n",
       "</table>\n",
       "</div>"
      ],
      "text/plain": [
       "           VYM       VTI       VOO      VGIT\n",
       "VYM   0.041415  0.040347  0.040490 -0.003132\n",
       "VTI   0.040347  0.045072  0.044765 -0.002886\n",
       "VOO   0.040490  0.044765  0.044853 -0.002968\n",
       "VGIT -0.003132 -0.002886 -0.002968  0.001204"
      ]
     },
     "execution_count": 8,
     "metadata": {},
     "output_type": "execute_result"
    }
   ],
   "source": [
    "log_returns.cov() * 250 #get coveriance between each pair."
   ]
  },
  {
   "cell_type": "code",
   "execution_count": 9,
   "metadata": {},
   "outputs": [
    {
     "data": {
      "text/html": [
       "<div>\n",
       "<style scoped>\n",
       "    .dataframe tbody tr th:only-of-type {\n",
       "        vertical-align: middle;\n",
       "    }\n",
       "\n",
       "    .dataframe tbody tr th {\n",
       "        vertical-align: top;\n",
       "    }\n",
       "\n",
       "    .dataframe thead th {\n",
       "        text-align: right;\n",
       "    }\n",
       "</style>\n",
       "<table border=\"1\" class=\"dataframe\">\n",
       "  <thead>\n",
       "    <tr style=\"text-align: right;\">\n",
       "      <th></th>\n",
       "      <th>VYM</th>\n",
       "      <th>VTI</th>\n",
       "      <th>VOO</th>\n",
       "      <th>VGIT</th>\n",
       "    </tr>\n",
       "  </thead>\n",
       "  <tbody>\n",
       "    <tr>\n",
       "      <th>VYM</th>\n",
       "      <td>1.000000</td>\n",
       "      <td>0.933855</td>\n",
       "      <td>0.939440</td>\n",
       "      <td>-0.443625</td>\n",
       "    </tr>\n",
       "    <tr>\n",
       "      <th>VTI</th>\n",
       "      <td>0.933855</td>\n",
       "      <td>1.000000</td>\n",
       "      <td>0.995616</td>\n",
       "      <td>-0.391774</td>\n",
       "    </tr>\n",
       "    <tr>\n",
       "      <th>VOO</th>\n",
       "      <td>0.939440</td>\n",
       "      <td>0.995616</td>\n",
       "      <td>1.000000</td>\n",
       "      <td>-0.403942</td>\n",
       "    </tr>\n",
       "    <tr>\n",
       "      <th>VGIT</th>\n",
       "      <td>-0.443625</td>\n",
       "      <td>-0.391774</td>\n",
       "      <td>-0.403942</td>\n",
       "      <td>1.000000</td>\n",
       "    </tr>\n",
       "  </tbody>\n",
       "</table>\n",
       "</div>"
      ],
      "text/plain": [
       "           VYM       VTI       VOO      VGIT\n",
       "VYM   1.000000  0.933855  0.939440 -0.443625\n",
       "VTI   0.933855  1.000000  0.995616 -0.391774\n",
       "VOO   0.939440  0.995616  1.000000 -0.403942\n",
       "VGIT -0.443625 -0.391774 -0.403942  1.000000"
      ]
     },
     "execution_count": 9,
     "metadata": {},
     "output_type": "execute_result"
    }
   ],
   "source": [
    "log_returns.corr() #get correlation between each pair."
   ]
  },
  {
   "cell_type": "markdown",
   "metadata": {},
   "source": [
    "### Expected Portfolio Return:"
   ]
  },
  {
   "cell_type": "markdown",
   "metadata": {},
   "source": [
    "np.sum(weights * log_returns.mean()) * 250"
   ]
  },
  {
   "cell_type": "markdown",
   "metadata": {},
   "source": [
    "### Expected Portfolio Variance:"
   ]
  },
  {
   "cell_type": "markdown",
   "metadata": {},
   "source": [
    "np.dot(weights.T, np.dot(log_returns.cov() * 250, weights))"
   ]
  },
  {
   "cell_type": "markdown",
   "metadata": {},
   "source": [
    "### Expected Portfolio Volatility:"
   ]
  },
  {
   "cell_type": "markdown",
   "metadata": {},
   "source": [
    "np.sqrt(np.dot(weights.T,np.dot(log_returns.cov() * 250, weights)))"
   ]
  },
  {
   "cell_type": "markdown",
   "metadata": {},
   "source": [
    "***"
   ]
  },
  {
   "cell_type": "code",
   "execution_count": 10,
   "metadata": {},
   "outputs": [],
   "source": [
    "num_assets = len(assets)\n",
    "pfolio_returns = []\n",
    "pfolio_volatilities = []\n",
    "\n",
    "w_lst = []\n",
    "\n",
    "for i in range(num_assets):\n",
    "    w_lst.append([])\n",
    "\n",
    "# Followig generate the simulation\n",
    "for x in range (num_simulation):\n",
    "    weights = np.random.random(num_assets)\n",
    "    weights /= np.sum(weights)\n",
    "    for i in range(num_assets):\n",
    "        w_lst[i].append(weights[i])\n",
    "\n",
    "    pfolio_returns.append(np.sum(weights * log_returns.mean()) * 250)\n",
    "    pfolio_volatilities.append(np.sqrt(np.dot(weights.T,np.dot(log_returns.cov() * 250, weights))))\n",
    "    \n",
    "pfolio_returns = np.array(pfolio_returns)\n",
    "pfolio_volatilities = np.array(pfolio_volatilities)\n",
    "\n",
    "for i in range(num_assets):\n",
    "    w_lst[i] = np.array(w_lst[i])\n",
    "\n",
    "# pfolio_returns, pfolio_volatilities, w_lst[0], w_lst[1], w_lst[2]"
   ]
  },
  {
   "cell_type": "code",
   "execution_count": 11,
   "metadata": {},
   "outputs": [],
   "source": [
    "# build simulated portfolios.\n",
    "df_build = {'Return': pfolio_returns, 'Volatility': pfolio_volatilities}\n",
    "for w in range(num_assets):\n",
    "    df_build[assets[w]] = w_lst[w]\n",
    "portfolios = pd.DataFrame(df_build)"
   ]
  },
  {
   "cell_type": "code",
   "execution_count": 12,
   "metadata": {},
   "outputs": [
    {
     "data": {
      "text/html": [
       "<div>\n",
       "<style scoped>\n",
       "    .dataframe tbody tr th:only-of-type {\n",
       "        vertical-align: middle;\n",
       "    }\n",
       "\n",
       "    .dataframe tbody tr th {\n",
       "        vertical-align: top;\n",
       "    }\n",
       "\n",
       "    .dataframe thead th {\n",
       "        text-align: right;\n",
       "    }\n",
       "</style>\n",
       "<table border=\"1\" class=\"dataframe\">\n",
       "  <thead>\n",
       "    <tr style=\"text-align: right;\">\n",
       "      <th></th>\n",
       "      <th>Return</th>\n",
       "      <th>Volatility</th>\n",
       "      <th>VYM</th>\n",
       "      <th>VTI</th>\n",
       "      <th>VOO</th>\n",
       "      <th>VGIT</th>\n",
       "    </tr>\n",
       "  </thead>\n",
       "  <tbody>\n",
       "    <tr>\n",
       "      <th>0</th>\n",
       "      <td>0.076488</td>\n",
       "      <td>0.122139</td>\n",
       "      <td>0.439501</td>\n",
       "      <td>0.018601</td>\n",
       "      <td>0.167852</td>\n",
       "      <td>0.374046</td>\n",
       "    </tr>\n",
       "    <tr>\n",
       "      <th>1</th>\n",
       "      <td>0.092852</td>\n",
       "      <td>0.132607</td>\n",
       "      <td>0.110603</td>\n",
       "      <td>0.334976</td>\n",
       "      <td>0.211104</td>\n",
       "      <td>0.343317</td>\n",
       "    </tr>\n",
       "    <tr>\n",
       "      <th>2</th>\n",
       "      <td>0.084274</td>\n",
       "      <td>0.125572</td>\n",
       "      <td>0.242556</td>\n",
       "      <td>0.342410</td>\n",
       "      <td>0.048957</td>\n",
       "      <td>0.366078</td>\n",
       "    </tr>\n",
       "    <tr>\n",
       "      <th>3</th>\n",
       "      <td>0.117634</td>\n",
       "      <td>0.194409</td>\n",
       "      <td>0.237625</td>\n",
       "      <td>0.572417</td>\n",
       "      <td>0.131363</td>\n",
       "      <td>0.058595</td>\n",
       "    </tr>\n",
       "    <tr>\n",
       "      <th>4</th>\n",
       "      <td>0.091828</td>\n",
       "      <td>0.124062</td>\n",
       "      <td>0.041761</td>\n",
       "      <td>0.204125</td>\n",
       "      <td>0.366710</td>\n",
       "      <td>0.387405</td>\n",
       "    </tr>\n",
       "  </tbody>\n",
       "</table>\n",
       "</div>"
      ],
      "text/plain": [
       "     Return  Volatility       VYM       VTI       VOO      VGIT\n",
       "0  0.076488    0.122139  0.439501  0.018601  0.167852  0.374046\n",
       "1  0.092852    0.132607  0.110603  0.334976  0.211104  0.343317\n",
       "2  0.084274    0.125572  0.242556  0.342410  0.048957  0.366078\n",
       "3  0.117634    0.194409  0.237625  0.572417  0.131363  0.058595\n",
       "4  0.091828    0.124062  0.041761  0.204125  0.366710  0.387405"
      ]
     },
     "execution_count": 12,
     "metadata": {},
     "output_type": "execute_result"
    }
   ],
   "source": [
    "portfolios.head() #checking to see if any error"
   ]
  },
  {
   "cell_type": "code",
   "execution_count": 13,
   "metadata": {},
   "outputs": [
    {
     "data": {
      "text/html": [
       "<div>\n",
       "<style scoped>\n",
       "    .dataframe tbody tr th:only-of-type {\n",
       "        vertical-align: middle;\n",
       "    }\n",
       "\n",
       "    .dataframe tbody tr th {\n",
       "        vertical-align: top;\n",
       "    }\n",
       "\n",
       "    .dataframe thead th {\n",
       "        text-align: right;\n",
       "    }\n",
       "</style>\n",
       "<table border=\"1\" class=\"dataframe\">\n",
       "  <thead>\n",
       "    <tr style=\"text-align: right;\">\n",
       "      <th></th>\n",
       "      <th>Return</th>\n",
       "      <th>Volatility</th>\n",
       "      <th>VYM</th>\n",
       "      <th>VTI</th>\n",
       "      <th>VOO</th>\n",
       "      <th>VGIT</th>\n",
       "    </tr>\n",
       "  </thead>\n",
       "  <tbody>\n",
       "    <tr>\n",
       "      <th>1995</th>\n",
       "      <td>0.090434</td>\n",
       "      <td>0.122372</td>\n",
       "      <td>0.069265</td>\n",
       "      <td>0.136907</td>\n",
       "      <td>0.401361</td>\n",
       "      <td>0.392466</td>\n",
       "    </tr>\n",
       "    <tr>\n",
       "      <th>1996</th>\n",
       "      <td>0.106400</td>\n",
       "      <td>0.165667</td>\n",
       "      <td>0.190467</td>\n",
       "      <td>0.359373</td>\n",
       "      <td>0.260836</td>\n",
       "      <td>0.189324</td>\n",
       "    </tr>\n",
       "    <tr>\n",
       "      <th>1997</th>\n",
       "      <td>0.114554</td>\n",
       "      <td>0.182236</td>\n",
       "      <td>0.220416</td>\n",
       "      <td>0.205351</td>\n",
       "      <td>0.460922</td>\n",
       "      <td>0.113311</td>\n",
       "    </tr>\n",
       "    <tr>\n",
       "      <th>1998</th>\n",
       "      <td>0.092159</td>\n",
       "      <td>0.151599</td>\n",
       "      <td>0.389165</td>\n",
       "      <td>0.262785</td>\n",
       "      <td>0.106681</td>\n",
       "      <td>0.241369</td>\n",
       "    </tr>\n",
       "    <tr>\n",
       "      <th>1999</th>\n",
       "      <td>0.095838</td>\n",
       "      <td>0.131232</td>\n",
       "      <td>0.002960</td>\n",
       "      <td>0.351474</td>\n",
       "      <td>0.286402</td>\n",
       "      <td>0.359165</td>\n",
       "    </tr>\n",
       "  </tbody>\n",
       "</table>\n",
       "</div>"
      ],
      "text/plain": [
       "        Return  Volatility       VYM       VTI       VOO      VGIT\n",
       "1995  0.090434    0.122372  0.069265  0.136907  0.401361  0.392466\n",
       "1996  0.106400    0.165667  0.190467  0.359373  0.260836  0.189324\n",
       "1997  0.114554    0.182236  0.220416  0.205351  0.460922  0.113311\n",
       "1998  0.092159    0.151599  0.389165  0.262785  0.106681  0.241369\n",
       "1999  0.095838    0.131232  0.002960  0.351474  0.286402  0.359165"
      ]
     },
     "execution_count": 13,
     "metadata": {},
     "output_type": "execute_result"
    }
   ],
   "source": [
    "portfolios.tail() #checking to see if any error"
   ]
  },
  {
   "cell_type": "code",
   "execution_count": 14,
   "metadata": {},
   "outputs": [
    {
     "data": {
      "text/html": [
       "<div>\n",
       "<style scoped>\n",
       "    .dataframe tbody tr th:only-of-type {\n",
       "        vertical-align: middle;\n",
       "    }\n",
       "\n",
       "    .dataframe tbody tr th {\n",
       "        vertical-align: top;\n",
       "    }\n",
       "\n",
       "    .dataframe thead th {\n",
       "        text-align: right;\n",
       "    }\n",
       "</style>\n",
       "<table border=\"1\" class=\"dataframe\">\n",
       "  <thead>\n",
       "    <tr style=\"text-align: right;\">\n",
       "      <th></th>\n",
       "      <th>Return</th>\n",
       "      <th>Volatility</th>\n",
       "      <th>VYM</th>\n",
       "      <th>VTI</th>\n",
       "      <th>VOO</th>\n",
       "      <th>VGIT</th>\n",
       "    </tr>\n",
       "  </thead>\n",
       "  <tbody>\n",
       "    <tr>\n",
       "      <th>67</th>\n",
       "      <td>0.044255</td>\n",
       "      <td>0.040656</td>\n",
       "      <td>0.134494</td>\n",
       "      <td>0.030483</td>\n",
       "      <td>0.052204</td>\n",
       "      <td>0.782819</td>\n",
       "    </tr>\n",
       "    <tr>\n",
       "      <th>695</th>\n",
       "      <td>0.042446</td>\n",
       "      <td>0.042105</td>\n",
       "      <td>0.203774</td>\n",
       "      <td>0.019077</td>\n",
       "      <td>0.005499</td>\n",
       "      <td>0.771650</td>\n",
       "    </tr>\n",
       "    <tr>\n",
       "      <th>1257</th>\n",
       "      <td>0.051144</td>\n",
       "      <td>0.047689</td>\n",
       "      <td>0.051531</td>\n",
       "      <td>0.122471</td>\n",
       "      <td>0.076168</td>\n",
       "      <td>0.749831</td>\n",
       "    </tr>\n",
       "    <tr>\n",
       "      <th>519</th>\n",
       "      <td>0.052537</td>\n",
       "      <td>0.051144</td>\n",
       "      <td>0.095916</td>\n",
       "      <td>0.005064</td>\n",
       "      <td>0.172915</td>\n",
       "      <td>0.726105</td>\n",
       "    </tr>\n",
       "    <tr>\n",
       "      <th>298</th>\n",
       "      <td>0.054016</td>\n",
       "      <td>0.052257</td>\n",
       "      <td>0.023899</td>\n",
       "      <td>0.230444</td>\n",
       "      <td>0.016245</td>\n",
       "      <td>0.729412</td>\n",
       "    </tr>\n",
       "    <tr>\n",
       "      <th>...</th>\n",
       "      <td>...</td>\n",
       "      <td>...</td>\n",
       "      <td>...</td>\n",
       "      <td>...</td>\n",
       "      <td>...</td>\n",
       "      <td>...</td>\n",
       "    </tr>\n",
       "    <tr>\n",
       "      <th>385</th>\n",
       "      <td>0.129914</td>\n",
       "      <td>0.208321</td>\n",
       "      <td>0.149991</td>\n",
       "      <td>0.250015</td>\n",
       "      <td>0.597424</td>\n",
       "      <td>0.002569</td>\n",
       "    </tr>\n",
       "    <tr>\n",
       "      <th>933</th>\n",
       "      <td>0.130161</td>\n",
       "      <td>0.208637</td>\n",
       "      <td>0.086852</td>\n",
       "      <td>0.593072</td>\n",
       "      <td>0.313349</td>\n",
       "      <td>0.006727</td>\n",
       "    </tr>\n",
       "    <tr>\n",
       "      <th>147</th>\n",
       "      <td>0.132088</td>\n",
       "      <td>0.208787</td>\n",
       "      <td>0.068471</td>\n",
       "      <td>0.409486</td>\n",
       "      <td>0.514857</td>\n",
       "      <td>0.007187</td>\n",
       "    </tr>\n",
       "    <tr>\n",
       "      <th>782</th>\n",
       "      <td>0.129396</td>\n",
       "      <td>0.209210</td>\n",
       "      <td>0.135260</td>\n",
       "      <td>0.485624</td>\n",
       "      <td>0.379104</td>\n",
       "      <td>0.000012</td>\n",
       "    </tr>\n",
       "    <tr>\n",
       "      <th>634</th>\n",
       "      <td>0.133282</td>\n",
       "      <td>0.210205</td>\n",
       "      <td>0.004777</td>\n",
       "      <td>0.678757</td>\n",
       "      <td>0.309226</td>\n",
       "      <td>0.007240</td>\n",
       "    </tr>\n",
       "  </tbody>\n",
       "</table>\n",
       "<p>2000 rows × 6 columns</p>\n",
       "</div>"
      ],
      "text/plain": [
       "        Return  Volatility       VYM       VTI       VOO      VGIT\n",
       "67    0.044255    0.040656  0.134494  0.030483  0.052204  0.782819\n",
       "695   0.042446    0.042105  0.203774  0.019077  0.005499  0.771650\n",
       "1257  0.051144    0.047689  0.051531  0.122471  0.076168  0.749831\n",
       "519   0.052537    0.051144  0.095916  0.005064  0.172915  0.726105\n",
       "298   0.054016    0.052257  0.023899  0.230444  0.016245  0.729412\n",
       "...        ...         ...       ...       ...       ...       ...\n",
       "385   0.129914    0.208321  0.149991  0.250015  0.597424  0.002569\n",
       "933   0.130161    0.208637  0.086852  0.593072  0.313349  0.006727\n",
       "147   0.132088    0.208787  0.068471  0.409486  0.514857  0.007187\n",
       "782   0.129396    0.209210  0.135260  0.485624  0.379104  0.000012\n",
       "634   0.133282    0.210205  0.004777  0.678757  0.309226  0.007240\n",
       "\n",
       "[2000 rows x 6 columns]"
      ]
     },
     "execution_count": 14,
     "metadata": {},
     "output_type": "execute_result"
    }
   ],
   "source": [
    "portfolios.sort_values(by=['Volatility']) # Sort by volatility. Theoretically the portfolio with lowest valatility is the best one."
   ]
  },
  {
   "cell_type": "code",
   "execution_count": 15,
   "metadata": {},
   "outputs": [
    {
     "data": {
      "text/plain": [
       "Text(0, 0.5, 'Expected Return')"
      ]
     },
     "execution_count": 15,
     "metadata": {},
     "output_type": "execute_result"
    },
    {
     "data": {
      "image/png": "[encoded data removed]",
      "text/plain": [
       "<Figure size 720x432 with 1 Axes>"
      ]
     },
     "metadata": {
      "needs_background": "light"
     },
     "output_type": "display_data"
    }
   ],
   "source": [
    "# check the plot\n",
    "portfolios.plot(x='Volatility', y='Return', kind='scatter', figsize=(10, 6));\n",
    "plt.xlabel('Expected Volatility')\n",
    "plt.ylabel('Expected Return')"
   ]
  },
  {
   "cell_type": "code",
   "execution_count": 16,
   "metadata": {},
   "outputs": [],
   "source": [
    "#generate path and name then export\n",
    "path = 'results/'\n",
    "name = '_'.join(assets) + '.csv'\n",
    "path_name = path + name \n",
    "portfolios.sort_values(by=['Volatility']).to_csv(path_name)"
   ]
  },
  {
   "cell_type": "code",
   "execution_count": 24,
   "metadata": {},
   "outputs": [
    {
     "name": "stdout",
     "output_type": "stream",
     "text": [
      "Intend to invest $25000.00 total.\n",
      "invest in VYM for $3362.36.\n",
      "invest in VTI for $762.07.\n",
      "invest in VOO for $1305.10.\n",
      "invest in VGIT for $19570.48.\n",
      "Expected annual portfolio return is 4.4%\n",
      "Expected annual portfolio volatility is 4.1%\n"
     ]
    }
   ],
   "source": [
    "# calculation\n",
    "print(\"money amount calculation for demo use only, please don't simply invest on this results alone.\")\n",
    "\n",
    "sorted_portfolios = portfolios.sort_values(by=['Volatility']).head(1)\n",
    "\n",
    "total_investment = 25000\n",
    "print(\"Intend to invest ${:.2f}\".format(total_investment) + \" total.\")\n",
    "\n",
    "for i in range(len(assets)):\n",
    "    inv = total_investment * sorted_portfolios[assets[i]].iloc[0]\n",
    "    print(\"invest in \" + assets[i] + \" for ${:.2f}\".format(inv) + \".\")\n",
    "\n",
    "print(\"Expected annual portfolio return is {:.1f}\".format(sorted_portfolios['Return'].iloc[0]*100) + \"%\")\n",
    "print(\"Expected annual portfolio volatility is {:.1f}\".format(sorted_portfolios['Volatility'].iloc[0]*100) + \"%\")"
   ]
  }
 ],
 "metadata": {
  "kernelspec": {
   "display_name": "Python 3 (ipykernel)",
   "language": "python",
   "name": "python3"
  },
  "language_info": {
   "codemirror_mode": {
    "name": "ipython",
    "version": 3
   },
   "file_extension": ".py",
   "mimetype": "text/x-python",
   "name": "python",
   "nbconvert_exporter": "python",
   "pygments_lexer": "ipython3",
   "version": "3.9.7"
  }
 },
 "nbformat": 4,
 "nbformat_minor": 2
}
