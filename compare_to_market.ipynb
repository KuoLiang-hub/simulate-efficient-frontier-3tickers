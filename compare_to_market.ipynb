{
 "cells": [
  {
   "cell_type": "code",
   "execution_count": 1,
   "metadata": {},
   "outputs": [],
   "source": [
    "# This script compares performance against the market index. \n",
    "# Updated by: Kuo L. 2022-05-02\n",
    "\n",
    "import numpy as np\n",
    "import pandas as pd\n",
    "from pandas_datareader import data as wb\n",
    "import matplotlib.pyplot as plt\n",
    "%matplotlib inline"
   ]
  },
  {
   "cell_type": "code",
   "execution_count": 2,
   "metadata": {},
   "outputs": [],
   "source": [
    "# Using pands-datareader module to connect to  yahoo finance api \n",
    "# to get close price for each ticker stock/ETF.\n",
    "# for Market Index: NASDAQ Composite (^IXIC), \n",
    "#                   S&P 500 (^GSPC), \n",
    "#                   Dow Jones Industrial Average (^DJI)\n",
    "#                   Russell 2000 (^RUT)\n",
    "\n",
    "market_inx = '^GSPC' # ^GSPC for S&P 500\n",
    "assets = [market_inx, 'AAPL','AMZN','GOOGL', 'PYPL']\n",
    "start_date = '2020-1-1'\n",
    "pf_data = pd.DataFrame()\n",
    "\n",
    "for a in assets:\n",
    "    #you can chagne the start date to any date in 'yyyy-mm-dd' format.\n",
    "    pf_data[a] = wb.DataReader(a, data_source = 'yahoo', start = start_date)['Adj Close'] "
   ]
  },
  {
   "cell_type": "code",
   "execution_count": 3,
   "metadata": {},
   "outputs": [
    {
     "data": {
      "text/html": [
       "<div>\n",
       "<style scoped>\n",
       "    .dataframe tbody tr th:only-of-type {\n",
       "        vertical-align: middle;\n",
       "    }\n",
       "\n",
       "    .dataframe tbody tr th {\n",
       "        vertical-align: top;\n",
       "    }\n",
       "\n",
       "    .dataframe thead th {\n",
       "        text-align: right;\n",
       "    }\n",
       "</style>\n",
       "<table border=\"1\" class=\"dataframe\">\n",
       "  <thead>\n",
       "    <tr style=\"text-align: right;\">\n",
       "      <th></th>\n",
       "      <th>^GSPC</th>\n",
       "      <th>AAPL</th>\n",
       "      <th>AMZN</th>\n",
       "      <th>GOOGL</th>\n",
       "      <th>PYPL</th>\n",
       "    </tr>\n",
       "    <tr>\n",
       "      <th>Date</th>\n",
       "      <th></th>\n",
       "      <th></th>\n",
       "      <th></th>\n",
       "      <th></th>\n",
       "      <th></th>\n",
       "    </tr>\n",
       "  </thead>\n",
       "  <tbody>\n",
       "    <tr>\n",
       "      <th>2020-01-02</th>\n",
       "      <td>3257.850098</td>\n",
       "      <td>73.785919</td>\n",
       "      <td>1898.010010</td>\n",
       "      <td>1368.680054</td>\n",
       "      <td>110.750000</td>\n",
       "    </tr>\n",
       "    <tr>\n",
       "      <th>2020-01-03</th>\n",
       "      <td>3234.850098</td>\n",
       "      <td>73.068565</td>\n",
       "      <td>1874.969971</td>\n",
       "      <td>1361.520020</td>\n",
       "      <td>108.760002</td>\n",
       "    </tr>\n",
       "    <tr>\n",
       "      <th>2020-01-06</th>\n",
       "      <td>3246.280029</td>\n",
       "      <td>73.650795</td>\n",
       "      <td>1902.880005</td>\n",
       "      <td>1397.810059</td>\n",
       "      <td>110.169998</td>\n",
       "    </tr>\n",
       "    <tr>\n",
       "      <th>2020-01-07</th>\n",
       "      <td>3237.179932</td>\n",
       "      <td>73.304413</td>\n",
       "      <td>1906.859985</td>\n",
       "      <td>1395.109985</td>\n",
       "      <td>109.669998</td>\n",
       "    </tr>\n",
       "    <tr>\n",
       "      <th>2020-01-08</th>\n",
       "      <td>3253.050049</td>\n",
       "      <td>74.483612</td>\n",
       "      <td>1891.969971</td>\n",
       "      <td>1405.040039</td>\n",
       "      <td>111.820000</td>\n",
       "    </tr>\n",
       "  </tbody>\n",
       "</table>\n",
       "</div>"
      ],
      "text/plain": [
       "                  ^GSPC       AAPL         AMZN        GOOGL        PYPL\n",
       "Date                                                                    \n",
       "2020-01-02  3257.850098  73.785919  1898.010010  1368.680054  110.750000\n",
       "2020-01-03  3234.850098  73.068565  1874.969971  1361.520020  108.760002\n",
       "2020-01-06  3246.280029  73.650795  1902.880005  1397.810059  110.169998\n",
       "2020-01-07  3237.179932  73.304413  1906.859985  1395.109985  109.669998\n",
       "2020-01-08  3253.050049  74.483612  1891.969971  1405.040039  111.820000"
      ]
     },
     "execution_count": 3,
     "metadata": {},
     "output_type": "execute_result"
    }
   ],
   "source": [
    "pf_data.head() #makre sure companies were public at starting date"
   ]
  },
  {
   "cell_type": "code",
   "execution_count": 4,
   "metadata": {},
   "outputs": [
    {
     "data": {
      "text/html": [
       "<div>\n",
       "<style scoped>\n",
       "    .dataframe tbody tr th:only-of-type {\n",
       "        vertical-align: middle;\n",
       "    }\n",
       "\n",
       "    .dataframe tbody tr th {\n",
       "        vertical-align: top;\n",
       "    }\n",
       "\n",
       "    .dataframe thead th {\n",
       "        text-align: right;\n",
       "    }\n",
       "</style>\n",
       "<table border=\"1\" class=\"dataframe\">\n",
       "  <thead>\n",
       "    <tr style=\"text-align: right;\">\n",
       "      <th></th>\n",
       "      <th>^GSPC</th>\n",
       "      <th>AAPL</th>\n",
       "      <th>AMZN</th>\n",
       "      <th>GOOGL</th>\n",
       "      <th>PYPL</th>\n",
       "    </tr>\n",
       "    <tr>\n",
       "      <th>Date</th>\n",
       "      <th></th>\n",
       "      <th></th>\n",
       "      <th></th>\n",
       "      <th></th>\n",
       "      <th></th>\n",
       "    </tr>\n",
       "  </thead>\n",
       "  <tbody>\n",
       "    <tr>\n",
       "      <th>2022-05-10</th>\n",
       "      <td>4001.050049</td>\n",
       "      <td>154.509995</td>\n",
       "      <td>2177.179932</td>\n",
       "      <td>2287.899902</td>\n",
       "      <td>78.750000</td>\n",
       "    </tr>\n",
       "    <tr>\n",
       "      <th>2022-05-11</th>\n",
       "      <td>3935.179932</td>\n",
       "      <td>146.500000</td>\n",
       "      <td>2107.439941</td>\n",
       "      <td>2272.050049</td>\n",
       "      <td>75.169998</td>\n",
       "    </tr>\n",
       "    <tr>\n",
       "      <th>2022-05-12</th>\n",
       "      <td>3930.080078</td>\n",
       "      <td>142.559998</td>\n",
       "      <td>2138.610107</td>\n",
       "      <td>2256.879883</td>\n",
       "      <td>74.290001</td>\n",
       "    </tr>\n",
       "    <tr>\n",
       "      <th>2022-05-13</th>\n",
       "      <td>4023.889893</td>\n",
       "      <td>147.110001</td>\n",
       "      <td>2261.100098</td>\n",
       "      <td>2321.010010</td>\n",
       "      <td>78.830002</td>\n",
       "    </tr>\n",
       "    <tr>\n",
       "      <th>2022-05-16</th>\n",
       "      <td>4008.010010</td>\n",
       "      <td>145.539993</td>\n",
       "      <td>2216.209961</td>\n",
       "      <td>2288.899902</td>\n",
       "      <td>77.650002</td>\n",
       "    </tr>\n",
       "  </tbody>\n",
       "</table>\n",
       "</div>"
      ],
      "text/plain": [
       "                  ^GSPC        AAPL         AMZN        GOOGL       PYPL\n",
       "Date                                                                    \n",
       "2022-05-10  4001.050049  154.509995  2177.179932  2287.899902  78.750000\n",
       "2022-05-11  3935.179932  146.500000  2107.439941  2272.050049  75.169998\n",
       "2022-05-12  3930.080078  142.559998  2138.610107  2256.879883  74.290001\n",
       "2022-05-13  4023.889893  147.110001  2261.100098  2321.010010  78.830002\n",
       "2022-05-16  4008.010010  145.539993  2216.209961  2288.899902  77.650002"
      ]
     },
     "execution_count": 4,
     "metadata": {},
     "output_type": "execute_result"
    }
   ],
   "source": [
    "pf_data.tail() #check companies still open and public at ending date"
   ]
  },
  {
   "cell_type": "code",
   "execution_count": 5,
   "metadata": {},
   "outputs": [
    {
     "data": {
      "text/plain": [
       "<AxesSubplot:xlabel='Date'>"
      ]
     },
     "execution_count": 5,
     "metadata": {},
     "output_type": "execute_result"
    },
    {
     "data": {
      "image/png": "[encoded data removed]",
      "text/plain": [
       "<Figure size 720x360 with 1 Axes>"
      ]
     },
     "metadata": {
      "needs_background": "light"
     },
     "output_type": "display_data"
    }
   ],
   "source": [
    "(pf_data / pf_data.iloc[0] * 100).plot(figsize=(10, 5)) #Plot of company performance without considering dividends"
   ]
  },
  {
   "cell_type": "code",
   "execution_count": 6,
   "metadata": {},
   "outputs": [],
   "source": [
    "log_returns = np.log(pf_data / pf_data.shift(1)) #get average daily log returns"
   ]
  },
  {
   "cell_type": "code",
   "execution_count": 7,
   "metadata": {},
   "outputs": [
    {
     "data": {
      "text/plain": [
       "^GSPC    0.086779\n",
       "AAPL     0.284457\n",
       "AMZN     0.064905\n",
       "GOOGL    0.215337\n",
       "PYPL    -0.148687\n",
       "dtype: float64"
      ]
     },
     "execution_count": 7,
     "metadata": {},
     "output_type": "execute_result"
    }
   ],
   "source": [
    "log_returns.mean() * 250 #get yearly returns(daily return x # of days a year). Market open roughly 250 days a year, so I do not use 365. "
   ]
  },
  {
   "cell_type": "code",
   "execution_count": 8,
   "metadata": {},
   "outputs": [
    {
     "data": {
      "text/html": [
       "<div>\n",
       "<style scoped>\n",
       "    .dataframe tbody tr th:only-of-type {\n",
       "        vertical-align: middle;\n",
       "    }\n",
       "\n",
       "    .dataframe tbody tr th {\n",
       "        vertical-align: top;\n",
       "    }\n",
       "\n",
       "    .dataframe thead th {\n",
       "        text-align: right;\n",
       "    }\n",
       "</style>\n",
       "<table border=\"1\" class=\"dataframe\">\n",
       "  <thead>\n",
       "    <tr style=\"text-align: right;\">\n",
       "      <th></th>\n",
       "      <th>^GSPC</th>\n",
       "      <th>AAPL</th>\n",
       "      <th>AMZN</th>\n",
       "      <th>GOOGL</th>\n",
       "      <th>PYPL</th>\n",
       "    </tr>\n",
       "  </thead>\n",
       "  <tbody>\n",
       "    <tr>\n",
       "      <th>^GSPC</th>\n",
       "      <td>0.066284</td>\n",
       "      <td>0.076973</td>\n",
       "      <td>0.057271</td>\n",
       "      <td>0.068934</td>\n",
       "      <td>0.084823</td>\n",
       "    </tr>\n",
       "    <tr>\n",
       "      <th>AAPL</th>\n",
       "      <td>0.076973</td>\n",
       "      <td>0.135684</td>\n",
       "      <td>0.086758</td>\n",
       "      <td>0.086622</td>\n",
       "      <td>0.114659</td>\n",
       "    </tr>\n",
       "    <tr>\n",
       "      <th>AMZN</th>\n",
       "      <td>0.057271</td>\n",
       "      <td>0.086758</td>\n",
       "      <td>0.131361</td>\n",
       "      <td>0.076993</td>\n",
       "      <td>0.103161</td>\n",
       "    </tr>\n",
       "    <tr>\n",
       "      <th>GOOGL</th>\n",
       "      <td>0.068934</td>\n",
       "      <td>0.086622</td>\n",
       "      <td>0.076993</td>\n",
       "      <td>0.108192</td>\n",
       "      <td>0.093860</td>\n",
       "    </tr>\n",
       "    <tr>\n",
       "      <th>PYPL</th>\n",
       "      <td>0.084823</td>\n",
       "      <td>0.114659</td>\n",
       "      <td>0.103161</td>\n",
       "      <td>0.093860</td>\n",
       "      <td>0.255794</td>\n",
       "    </tr>\n",
       "  </tbody>\n",
       "</table>\n",
       "</div>"
      ],
      "text/plain": [
       "          ^GSPC      AAPL      AMZN     GOOGL      PYPL\n",
       "^GSPC  0.066284  0.076973  0.057271  0.068934  0.084823\n",
       "AAPL   0.076973  0.135684  0.086758  0.086622  0.114659\n",
       "AMZN   0.057271  0.086758  0.131361  0.076993  0.103161\n",
       "GOOGL  0.068934  0.086622  0.076993  0.108192  0.093860\n",
       "PYPL   0.084823  0.114659  0.103161  0.093860  0.255794"
      ]
     },
     "execution_count": 8,
     "metadata": {},
     "output_type": "execute_result"
    }
   ],
   "source": [
    "log_returns.cov() * 250 #get coveriance between each pair."
   ]
  },
  {
   "cell_type": "code",
   "execution_count": 9,
   "metadata": {},
   "outputs": [
    {
     "data": {
      "text/html": [
       "<div>\n",
       "<style scoped>\n",
       "    .dataframe tbody tr th:only-of-type {\n",
       "        vertical-align: middle;\n",
       "    }\n",
       "\n",
       "    .dataframe tbody tr th {\n",
       "        vertical-align: top;\n",
       "    }\n",
       "\n",
       "    .dataframe thead th {\n",
       "        text-align: right;\n",
       "    }\n",
       "</style>\n",
       "<table border=\"1\" class=\"dataframe\">\n",
       "  <thead>\n",
       "    <tr style=\"text-align: right;\">\n",
       "      <th></th>\n",
       "      <th>^GSPC</th>\n",
       "      <th>AAPL</th>\n",
       "      <th>AMZN</th>\n",
       "      <th>GOOGL</th>\n",
       "      <th>PYPL</th>\n",
       "    </tr>\n",
       "  </thead>\n",
       "  <tbody>\n",
       "    <tr>\n",
       "      <th>^GSPC</th>\n",
       "      <td>1.000000</td>\n",
       "      <td>0.811652</td>\n",
       "      <td>0.613760</td>\n",
       "      <td>0.814012</td>\n",
       "      <td>0.651427</td>\n",
       "    </tr>\n",
       "    <tr>\n",
       "      <th>AAPL</th>\n",
       "      <td>0.811652</td>\n",
       "      <td>1.000000</td>\n",
       "      <td>0.649847</td>\n",
       "      <td>0.714937</td>\n",
       "      <td>0.615456</td>\n",
       "    </tr>\n",
       "    <tr>\n",
       "      <th>AMZN</th>\n",
       "      <td>0.613760</td>\n",
       "      <td>0.649847</td>\n",
       "      <td>1.000000</td>\n",
       "      <td>0.645835</td>\n",
       "      <td>0.562779</td>\n",
       "    </tr>\n",
       "    <tr>\n",
       "      <th>GOOGL</th>\n",
       "      <td>0.814012</td>\n",
       "      <td>0.714937</td>\n",
       "      <td>0.645835</td>\n",
       "      <td>1.000000</td>\n",
       "      <td>0.564208</td>\n",
       "    </tr>\n",
       "    <tr>\n",
       "      <th>PYPL</th>\n",
       "      <td>0.651427</td>\n",
       "      <td>0.615456</td>\n",
       "      <td>0.562779</td>\n",
       "      <td>0.564208</td>\n",
       "      <td>1.000000</td>\n",
       "    </tr>\n",
       "  </tbody>\n",
       "</table>\n",
       "</div>"
      ],
      "text/plain": [
       "          ^GSPC      AAPL      AMZN     GOOGL      PYPL\n",
       "^GSPC  1.000000  0.811652  0.613760  0.814012  0.651427\n",
       "AAPL   0.811652  1.000000  0.649847  0.714937  0.615456\n",
       "AMZN   0.613760  0.649847  1.000000  0.645835  0.562779\n",
       "GOOGL  0.814012  0.714937  0.645835  1.000000  0.564208\n",
       "PYPL   0.651427  0.615456  0.562779  0.564208  1.000000"
      ]
     },
     "execution_count": 9,
     "metadata": {},
     "output_type": "execute_result"
    }
   ],
   "source": [
    "log_returns.corr() #get correlation between each pair."
   ]
  },
  {
   "cell_type": "markdown",
   "metadata": {},
   "source": [
    "***"
   ]
  }
 ],
 "metadata": {
  "interpreter": {
   "hash": "916dbcbb3f70747c44a77c7bcd40155683ae19c65e1c03b4aa3499c5328201f1"
  },
  "kernelspec": {
   "display_name": "Python 3.10.4 64-bit",
   "language": "python",
   "name": "python3"
  },
  "language_info": {
   "codemirror_mode": {
    "name": "ipython",
    "version": 3
   },
   "file_extension": ".py",
   "mimetype": "text/x-python",
   "name": "python",
   "nbconvert_exporter": "python",
   "pygments_lexer": "ipython3",
   "version": "3.10.4"
  }
 },
 "nbformat": 4,
 "nbformat_minor": 2
}
