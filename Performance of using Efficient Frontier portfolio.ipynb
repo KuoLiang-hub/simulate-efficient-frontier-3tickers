{
 "cells": [
  {
   "cell_type": "code",
   "execution_count": 1,
   "metadata": {},
   "outputs": [],
   "source": [
    "# This program is based on the Udemy course \"Python for Finance: Investment Fundamentals & Data Analytics\" \n",
    "# by Martin and Ned from 365\n",
    "# Link to the course: https://www.udemy.com/course/python-for-finance-investment-fundamentals-data-analytics/\n",
    "# This is a jupyter notebook file, better to run in jupyter notebook enviorment.\n",
    "# Author: Martin and Ned, 365 Team. \n",
    "# Updated by: Kuo L. 2022-02-01\n",
    "# Use this script to compare expected performance with actual performance with 3 year increments.\n",
    "\n",
    "import numpy as np\n",
    "import pandas as pd\n",
    "from pandas_datareader import data as wb\n",
    "import matplotlib.pyplot as plt\n",
    "%matplotlib inline"
   ]
  },
  {
   "cell_type": "code",
   "execution_count": 2,
   "metadata": {},
   "outputs": [],
   "source": [
    "# It uses yahoo finance api to get close price for each ticker stock/ETF.\n",
    "# use any 3 tickers, I just use vanguard ETFs.\n",
    "# you can put more than 3 tickers, just note that the more tickers in, \n",
    "# the more calculation needed to plot efficient frontier. change num_simulation to a higher number as needed.\n",
    "\n",
    "num_simulation = 2000\n",
    "assets = ['VYM', 'VTI', 'VOO','VGIT']\n",
    "pf_data = pd.DataFrame()\n",
    "\n",
    "for a in assets:\n",
    "    #you can chagne the start date to any date in 'yyyy-mm-dd' format.\n",
    "    pf_data[a] = wb.DataReader(a, data_source = 'yahoo', start = '2018-1-1', end = '2021-1-1')['Adj Close'] "
   ]
  },
  {
   "cell_type": "code",
   "execution_count": 3,
   "metadata": {},
   "outputs": [
    {
     "data": {
      "text/html": [
       "<div>\n",
       "<style scoped>\n",
       "    .dataframe tbody tr th:only-of-type {\n",
       "        vertical-align: middle;\n",
       "    }\n",
       "\n",
       "    .dataframe tbody tr th {\n",
       "        vertical-align: top;\n",
       "    }\n",
       "\n",
       "    .dataframe thead th {\n",
       "        text-align: right;\n",
       "    }\n",
       "</style>\n",
       "<table border=\"1\" class=\"dataframe\">\n",
       "  <thead>\n",
       "    <tr style=\"text-align: right;\">\n",
       "      <th></th>\n",
       "      <th>VYM</th>\n",
       "      <th>VTI</th>\n",
       "      <th>VOO</th>\n",
       "      <th>VGIT</th>\n",
       "    </tr>\n",
       "    <tr>\n",
       "      <th>Date</th>\n",
       "      <th></th>\n",
       "      <th></th>\n",
       "      <th></th>\n",
       "      <th></th>\n",
       "    </tr>\n",
       "  </thead>\n",
       "  <tbody>\n",
       "    <tr>\n",
       "      <th>2018-01-02</th>\n",
       "      <td>75.506050</td>\n",
       "      <td>129.037628</td>\n",
       "      <td>230.026474</td>\n",
       "      <td>58.771889</td>\n",
       "    </tr>\n",
       "    <tr>\n",
       "      <th>2018-01-03</th>\n",
       "      <td>75.752098</td>\n",
       "      <td>129.784485</td>\n",
       "      <td>231.394913</td>\n",
       "      <td>58.790318</td>\n",
       "    </tr>\n",
       "    <tr>\n",
       "      <th>2018-01-04</th>\n",
       "      <td>76.086044</td>\n",
       "      <td>130.279282</td>\n",
       "      <td>232.409683</td>\n",
       "      <td>58.744274</td>\n",
       "    </tr>\n",
       "    <tr>\n",
       "      <th>2018-01-05</th>\n",
       "      <td>76.428780</td>\n",
       "      <td>131.044785</td>\n",
       "      <td>233.899185</td>\n",
       "      <td>58.707420</td>\n",
       "    </tr>\n",
       "    <tr>\n",
       "      <th>2018-01-08</th>\n",
       "      <td>76.569374</td>\n",
       "      <td>131.343567</td>\n",
       "      <td>234.383286</td>\n",
       "      <td>58.670578</td>\n",
       "    </tr>\n",
       "  </tbody>\n",
       "</table>\n",
       "</div>"
      ],
      "text/plain": [
       "                  VYM         VTI         VOO       VGIT\n",
       "Date                                                    \n",
       "2018-01-02  75.506050  129.037628  230.026474  58.771889\n",
       "2018-01-03  75.752098  129.784485  231.394913  58.790318\n",
       "2018-01-04  76.086044  130.279282  232.409683  58.744274\n",
       "2018-01-05  76.428780  131.044785  233.899185  58.707420\n",
       "2018-01-08  76.569374  131.343567  234.383286  58.670578"
      ]
     },
     "execution_count": 3,
     "metadata": {},
     "output_type": "execute_result"
    }
   ],
   "source": [
    "pf_data.head() #makre sure companies were public at starting date"
   ]
  },
  {
   "cell_type": "code",
   "execution_count": 4,
   "metadata": {},
   "outputs": [
    {
     "data": {
      "text/html": [
       "<div>\n",
       "<style scoped>\n",
       "    .dataframe tbody tr th:only-of-type {\n",
       "        vertical-align: middle;\n",
       "    }\n",
       "\n",
       "    .dataframe tbody tr th {\n",
       "        vertical-align: top;\n",
       "    }\n",
       "\n",
       "    .dataframe thead th {\n",
       "        text-align: right;\n",
       "    }\n",
       "</style>\n",
       "<table border=\"1\" class=\"dataframe\">\n",
       "  <thead>\n",
       "    <tr style=\"text-align: right;\">\n",
       "      <th></th>\n",
       "      <th>VYM</th>\n",
       "      <th>VTI</th>\n",
       "      <th>VOO</th>\n",
       "      <th>VGIT</th>\n",
       "    </tr>\n",
       "    <tr>\n",
       "      <th>Date</th>\n",
       "      <th></th>\n",
       "      <th></th>\n",
       "      <th></th>\n",
       "      <th></th>\n",
       "    </tr>\n",
       "  </thead>\n",
       "  <tbody>\n",
       "    <tr>\n",
       "      <th>2020-12-24</th>\n",
       "      <td>87.738785</td>\n",
       "      <td>190.307816</td>\n",
       "      <td>334.498718</td>\n",
       "      <td>68.192963</td>\n",
       "    </tr>\n",
       "    <tr>\n",
       "      <th>2020-12-28</th>\n",
       "      <td>87.962067</td>\n",
       "      <td>191.511917</td>\n",
       "      <td>337.408173</td>\n",
       "      <td>68.222473</td>\n",
       "    </tr>\n",
       "    <tr>\n",
       "      <th>2020-12-29</th>\n",
       "      <td>87.826157</td>\n",
       "      <td>190.712448</td>\n",
       "      <td>336.698090</td>\n",
       "      <td>68.222473</td>\n",
       "    </tr>\n",
       "    <tr>\n",
       "      <th>2020-12-30</th>\n",
       "      <td>88.088272</td>\n",
       "      <td>191.225677</td>\n",
       "      <td>337.151764</td>\n",
       "      <td>68.242142</td>\n",
       "    </tr>\n",
       "    <tr>\n",
       "      <th>2020-12-31</th>\n",
       "      <td>88.835770</td>\n",
       "      <td>192.104095</td>\n",
       "      <td>338.966492</td>\n",
       "      <td>68.271637</td>\n",
       "    </tr>\n",
       "  </tbody>\n",
       "</table>\n",
       "</div>"
      ],
      "text/plain": [
       "                  VYM         VTI         VOO       VGIT\n",
       "Date                                                    \n",
       "2020-12-24  87.738785  190.307816  334.498718  68.192963\n",
       "2020-12-28  87.962067  191.511917  337.408173  68.222473\n",
       "2020-12-29  87.826157  190.712448  336.698090  68.222473\n",
       "2020-12-30  88.088272  191.225677  337.151764  68.242142\n",
       "2020-12-31  88.835770  192.104095  338.966492  68.271637"
      ]
     },
     "execution_count": 4,
     "metadata": {},
     "output_type": "execute_result"
    }
   ],
   "source": [
    "pf_data.tail() #check companies still open and public at ending date"
   ]
  },
  {
   "cell_type": "code",
   "execution_count": 5,
   "metadata": {},
   "outputs": [
    {
     "data": {
      "text/plain": [
       "<AxesSubplot:xlabel='Date'>"
      ]
     },
     "execution_count": 5,
     "metadata": {},
     "output_type": "execute_result"
    },
    {
     "data": {
      "image/png": "[encoded data removed]",
      "text/plain": [
       "<Figure size 720x360 with 1 Axes>"
      ]
     },
     "metadata": {
      "needs_background": "light"
     },
     "output_type": "display_data"
    }
   ],
   "source": [
    "(pf_data / pf_data.iloc[0] * 100).plot(figsize=(10, 5)) #Plot of company performance without considering dividends"
   ]
  },
  {
   "cell_type": "code",
   "execution_count": 6,
   "metadata": {},
   "outputs": [],
   "source": [
    "log_returns = np.log(pf_data / pf_data.shift(1)) #get average daily log returns"
   ]
  },
  {
   "cell_type": "code",
   "execution_count": 7,
   "metadata": {},
   "outputs": [
    {
     "data": {
      "text/plain": [
       "VYM     0.053833\n",
       "VTI     0.131766\n",
       "VOO     0.128380\n",
       "VGIT    0.049613\n",
       "dtype: float64"
      ]
     },
     "execution_count": 7,
     "metadata": {},
     "output_type": "execute_result"
    }
   ],
   "source": [
    "log_returns.mean() * 250 #get yearly returns(daily return x # of days a year). Market open roughly 250 days a year, so I do not use 365. "
   ]
  },
  {
   "cell_type": "code",
   "execution_count": 8,
   "metadata": {},
   "outputs": [
    {
     "data": {
      "text/html": [
       "<div>\n",
       "<style scoped>\n",
       "    .dataframe tbody tr th:only-of-type {\n",
       "        vertical-align: middle;\n",
       "    }\n",
       "\n",
       "    .dataframe tbody tr th {\n",
       "        vertical-align: top;\n",
       "    }\n",
       "\n",
       "    .dataframe thead th {\n",
       "        text-align: right;\n",
       "    }\n",
       "</style>\n",
       "<table border=\"1\" class=\"dataframe\">\n",
       "  <thead>\n",
       "    <tr style=\"text-align: right;\">\n",
       "      <th></th>\n",
       "      <th>VYM</th>\n",
       "      <th>VTI</th>\n",
       "      <th>VOO</th>\n",
       "      <th>VGIT</th>\n",
       "    </tr>\n",
       "  </thead>\n",
       "  <tbody>\n",
       "    <tr>\n",
       "      <th>VYM</th>\n",
       "      <td>0.050683</td>\n",
       "      <td>0.049988</td>\n",
       "      <td>0.050329</td>\n",
       "      <td>-0.003952</td>\n",
       "    </tr>\n",
       "    <tr>\n",
       "      <th>VTI</th>\n",
       "      <td>0.049988</td>\n",
       "      <td>0.054165</td>\n",
       "      <td>0.054211</td>\n",
       "      <td>-0.003869</td>\n",
       "    </tr>\n",
       "    <tr>\n",
       "      <th>VOO</th>\n",
       "      <td>0.050329</td>\n",
       "      <td>0.054211</td>\n",
       "      <td>0.054593</td>\n",
       "      <td>-0.003977</td>\n",
       "    </tr>\n",
       "    <tr>\n",
       "      <th>VGIT</th>\n",
       "      <td>-0.003952</td>\n",
       "      <td>-0.003869</td>\n",
       "      <td>-0.003977</td>\n",
       "      <td>0.001251</td>\n",
       "    </tr>\n",
       "  </tbody>\n",
       "</table>\n",
       "</div>"
      ],
      "text/plain": [
       "           VYM       VTI       VOO      VGIT\n",
       "VYM   0.050683  0.049988  0.050329 -0.003952\n",
       "VTI   0.049988  0.054165  0.054211 -0.003869\n",
       "VOO   0.050329  0.054211  0.054593 -0.003977\n",
       "VGIT -0.003952 -0.003869 -0.003977  0.001251"
      ]
     },
     "execution_count": 8,
     "metadata": {},
     "output_type": "execute_result"
    }
   ],
   "source": [
    "log_returns.cov() * 250 #get coveriance between each pair."
   ]
  },
  {
   "cell_type": "code",
   "execution_count": 9,
   "metadata": {},
   "outputs": [
    {
     "data": {
      "text/html": [
       "<div>\n",
       "<style scoped>\n",
       "    .dataframe tbody tr th:only-of-type {\n",
       "        vertical-align: middle;\n",
       "    }\n",
       "\n",
       "    .dataframe tbody tr th {\n",
       "        vertical-align: top;\n",
       "    }\n",
       "\n",
       "    .dataframe thead th {\n",
       "        text-align: right;\n",
       "    }\n",
       "</style>\n",
       "<table border=\"1\" class=\"dataframe\">\n",
       "  <thead>\n",
       "    <tr style=\"text-align: right;\">\n",
       "      <th></th>\n",
       "      <th>VYM</th>\n",
       "      <th>VTI</th>\n",
       "      <th>VOO</th>\n",
       "      <th>VGIT</th>\n",
       "    </tr>\n",
       "  </thead>\n",
       "  <tbody>\n",
       "    <tr>\n",
       "      <th>VYM</th>\n",
       "      <td>1.000000</td>\n",
       "      <td>0.954073</td>\n",
       "      <td>0.956795</td>\n",
       "      <td>-0.496363</td>\n",
       "    </tr>\n",
       "    <tr>\n",
       "      <th>VTI</th>\n",
       "      <td>0.954073</td>\n",
       "      <td>1.000000</td>\n",
       "      <td>0.996920</td>\n",
       "      <td>-0.470088</td>\n",
       "    </tr>\n",
       "    <tr>\n",
       "      <th>VOO</th>\n",
       "      <td>0.956795</td>\n",
       "      <td>0.996920</td>\n",
       "      <td>1.000000</td>\n",
       "      <td>-0.481267</td>\n",
       "    </tr>\n",
       "    <tr>\n",
       "      <th>VGIT</th>\n",
       "      <td>-0.496363</td>\n",
       "      <td>-0.470088</td>\n",
       "      <td>-0.481267</td>\n",
       "      <td>1.000000</td>\n",
       "    </tr>\n",
       "  </tbody>\n",
       "</table>\n",
       "</div>"
      ],
      "text/plain": [
       "           VYM       VTI       VOO      VGIT\n",
       "VYM   1.000000  0.954073  0.956795 -0.496363\n",
       "VTI   0.954073  1.000000  0.996920 -0.470088\n",
       "VOO   0.956795  0.996920  1.000000 -0.481267\n",
       "VGIT -0.496363 -0.470088 -0.481267  1.000000"
      ]
     },
     "execution_count": 9,
     "metadata": {},
     "output_type": "execute_result"
    }
   ],
   "source": [
    "log_returns.corr() #get correlation between each pair."
   ]
  },
  {
   "cell_type": "markdown",
   "metadata": {},
   "source": [
    "***"
   ]
  },
  {
   "cell_type": "code",
   "execution_count": 10,
   "metadata": {},
   "outputs": [],
   "source": [
    "num_assets = len(assets)\n",
    "pfolio_returns = []\n",
    "pfolio_volatilities = []\n",
    "\n",
    "w_lst = []\n",
    "\n",
    "for i in range(num_assets):\n",
    "    w_lst.append([])\n",
    "\n",
    "# Followig generate the simulation\n",
    "for x in range (num_simulation):\n",
    "    weights = np.random.random(num_assets)\n",
    "    weights /= np.sum(weights)\n",
    "    for i in range(num_assets):\n",
    "        w_lst[i].append(weights[i])\n",
    "\n",
    "    pfolio_returns.append(np.sum(weights * log_returns.mean()) * 250)\n",
    "    pfolio_volatilities.append(np.sqrt(np.dot(weights.T,np.dot(log_returns.cov() * 250, weights))))\n",
    "    \n",
    "pfolio_returns = np.array(pfolio_returns)\n",
    "pfolio_volatilities = np.array(pfolio_volatilities)\n",
    "\n",
    "for i in range(num_assets):\n",
    "    w_lst[i] = np.array(w_lst[i])\n",
    "\n",
    "# pfolio_returns, pfolio_volatilities, w_lst[0], w_lst[1], w_lst[2]"
   ]
  },
  {
   "cell_type": "code",
   "execution_count": 11,
   "metadata": {},
   "outputs": [],
   "source": [
    "# build simulated portfolios.\n",
    "df_build = {'Return': pfolio_returns, 'Volatility': pfolio_volatilities}\n",
    "for w in range(num_assets):\n",
    "    df_build[assets[w]] = w_lst[w]\n",
    "portfolios = pd.DataFrame(df_build)"
   ]
  },
  {
   "cell_type": "code",
   "execution_count": 12,
   "metadata": {},
   "outputs": [
    {
     "data": {
      "text/html": [
       "<div>\n",
       "<style scoped>\n",
       "    .dataframe tbody tr th:only-of-type {\n",
       "        vertical-align: middle;\n",
       "    }\n",
       "\n",
       "    .dataframe tbody tr th {\n",
       "        vertical-align: top;\n",
       "    }\n",
       "\n",
       "    .dataframe thead th {\n",
       "        text-align: right;\n",
       "    }\n",
       "</style>\n",
       "<table border=\"1\" class=\"dataframe\">\n",
       "  <thead>\n",
       "    <tr style=\"text-align: right;\">\n",
       "      <th></th>\n",
       "      <th>Return</th>\n",
       "      <th>Volatility</th>\n",
       "      <th>VYM</th>\n",
       "      <th>VTI</th>\n",
       "      <th>VOO</th>\n",
       "      <th>VGIT</th>\n",
       "    </tr>\n",
       "  </thead>\n",
       "  <tbody>\n",
       "    <tr>\n",
       "      <th>0</th>\n",
       "      <td>0.086002</td>\n",
       "      <td>0.164724</td>\n",
       "      <td>0.300732</td>\n",
       "      <td>0.095237</td>\n",
       "      <td>0.346538</td>\n",
       "      <td>0.257493</td>\n",
       "    </tr>\n",
       "    <tr>\n",
       "      <th>1</th>\n",
       "      <td>0.101898</td>\n",
       "      <td>0.166394</td>\n",
       "      <td>0.106247</td>\n",
       "      <td>0.558101</td>\n",
       "      <td>0.076009</td>\n",
       "      <td>0.259642</td>\n",
       "    </tr>\n",
       "    <tr>\n",
       "      <th>2</th>\n",
       "      <td>0.083321</td>\n",
       "      <td>0.171771</td>\n",
       "      <td>0.369991</td>\n",
       "      <td>0.100771</td>\n",
       "      <td>0.303020</td>\n",
       "      <td>0.226218</td>\n",
       "    </tr>\n",
       "    <tr>\n",
       "      <th>3</th>\n",
       "      <td>0.083226</td>\n",
       "      <td>0.171678</td>\n",
       "      <td>0.377252</td>\n",
       "      <td>0.221842</td>\n",
       "      <td>0.175154</td>\n",
       "      <td>0.225752</td>\n",
       "    </tr>\n",
       "    <tr>\n",
       "      <th>4</th>\n",
       "      <td>0.097118</td>\n",
       "      <td>0.159307</td>\n",
       "      <td>0.129664</td>\n",
       "      <td>0.306684</td>\n",
       "      <td>0.276299</td>\n",
       "      <td>0.287353</td>\n",
       "    </tr>\n",
       "  </tbody>\n",
       "</table>\n",
       "</div>"
      ],
      "text/plain": [
       "     Return  Volatility       VYM       VTI       VOO      VGIT\n",
       "0  0.086002    0.164724  0.300732  0.095237  0.346538  0.257493\n",
       "1  0.101898    0.166394  0.106247  0.558101  0.076009  0.259642\n",
       "2  0.083321    0.171771  0.369991  0.100771  0.303020  0.226218\n",
       "3  0.083226    0.171678  0.377252  0.221842  0.175154  0.225752\n",
       "4  0.097118    0.159307  0.129664  0.306684  0.276299  0.287353"
      ]
     },
     "execution_count": 12,
     "metadata": {},
     "output_type": "execute_result"
    }
   ],
   "source": [
    "portfolios.head() #checking to see if any error"
   ]
  },
  {
   "cell_type": "code",
   "execution_count": 13,
   "metadata": {},
   "outputs": [
    {
     "data": {
      "text/html": [
       "<div>\n",
       "<style scoped>\n",
       "    .dataframe tbody tr th:only-of-type {\n",
       "        vertical-align: middle;\n",
       "    }\n",
       "\n",
       "    .dataframe tbody tr th {\n",
       "        vertical-align: top;\n",
       "    }\n",
       "\n",
       "    .dataframe thead th {\n",
       "        text-align: right;\n",
       "    }\n",
       "</style>\n",
       "<table border=\"1\" class=\"dataframe\">\n",
       "  <thead>\n",
       "    <tr style=\"text-align: right;\">\n",
       "      <th></th>\n",
       "      <th>Return</th>\n",
       "      <th>Volatility</th>\n",
       "      <th>VYM</th>\n",
       "      <th>VTI</th>\n",
       "      <th>VOO</th>\n",
       "      <th>VGIT</th>\n",
       "    </tr>\n",
       "  </thead>\n",
       "  <tbody>\n",
       "    <tr>\n",
       "      <th>1995</th>\n",
       "      <td>0.087977</td>\n",
       "      <td>0.184763</td>\n",
       "      <td>0.380216</td>\n",
       "      <td>0.439232</td>\n",
       "      <td>0.008575</td>\n",
       "      <td>0.171977</td>\n",
       "    </tr>\n",
       "    <tr>\n",
       "      <th>1996</th>\n",
       "      <td>0.101674</td>\n",
       "      <td>0.157428</td>\n",
       "      <td>0.054247</td>\n",
       "      <td>0.284292</td>\n",
       "      <td>0.361530</td>\n",
       "      <td>0.299931</td>\n",
       "    </tr>\n",
       "    <tr>\n",
       "      <th>1997</th>\n",
       "      <td>0.075905</td>\n",
       "      <td>0.135189</td>\n",
       "      <td>0.307611</td>\n",
       "      <td>0.049451</td>\n",
       "      <td>0.265734</td>\n",
       "      <td>0.377204</td>\n",
       "    </tr>\n",
       "    <tr>\n",
       "      <th>1998</th>\n",
       "      <td>0.100866</td>\n",
       "      <td>0.178385</td>\n",
       "      <td>0.156658</td>\n",
       "      <td>0.195779</td>\n",
       "      <td>0.438111</td>\n",
       "      <td>0.209453</td>\n",
       "    </tr>\n",
       "    <tr>\n",
       "      <th>1999</th>\n",
       "      <td>0.097878</td>\n",
       "      <td>0.225623</td>\n",
       "      <td>0.405605</td>\n",
       "      <td>0.109371</td>\n",
       "      <td>0.476956</td>\n",
       "      <td>0.008067</td>\n",
       "    </tr>\n",
       "  </tbody>\n",
       "</table>\n",
       "</div>"
      ],
      "text/plain": [
       "        Return  Volatility       VYM       VTI       VOO      VGIT\n",
       "1995  0.087977    0.184763  0.380216  0.439232  0.008575  0.171977\n",
       "1996  0.101674    0.157428  0.054247  0.284292  0.361530  0.299931\n",
       "1997  0.075905    0.135189  0.307611  0.049451  0.265734  0.377204\n",
       "1998  0.100866    0.178385  0.156658  0.195779  0.438111  0.209453\n",
       "1999  0.097878    0.225623  0.405605  0.109371  0.476956  0.008067"
      ]
     },
     "execution_count": 13,
     "metadata": {},
     "output_type": "execute_result"
    }
   ],
   "source": [
    "portfolios.tail() #checking to see if any error"
   ]
  },
  {
   "cell_type": "code",
   "execution_count": 14,
   "metadata": {},
   "outputs": [
    {
     "data": {
      "text/html": [
       "<div>\n",
       "<style scoped>\n",
       "    .dataframe tbody tr th:only-of-type {\n",
       "        vertical-align: middle;\n",
       "    }\n",
       "\n",
       "    .dataframe tbody tr th {\n",
       "        vertical-align: top;\n",
       "    }\n",
       "\n",
       "    .dataframe thead th {\n",
       "        text-align: right;\n",
       "    }\n",
       "</style>\n",
       "<table border=\"1\" class=\"dataframe\">\n",
       "  <thead>\n",
       "    <tr style=\"text-align: right;\">\n",
       "      <th></th>\n",
       "      <th>Return</th>\n",
       "      <th>Volatility</th>\n",
       "      <th>VYM</th>\n",
       "      <th>VTI</th>\n",
       "      <th>VOO</th>\n",
       "      <th>VGIT</th>\n",
       "    </tr>\n",
       "  </thead>\n",
       "  <tbody>\n",
       "    <tr>\n",
       "      <th>1742</th>\n",
       "      <td>0.052877</td>\n",
       "      <td>0.039215</td>\n",
       "      <td>0.166828</td>\n",
       "      <td>0.028710</td>\n",
       "      <td>0.002559</td>\n",
       "      <td>0.801903</td>\n",
       "    </tr>\n",
       "    <tr>\n",
       "      <th>551</th>\n",
       "      <td>0.056224</td>\n",
       "      <td>0.046450</td>\n",
       "      <td>0.164689</td>\n",
       "      <td>0.063148</td>\n",
       "      <td>0.009248</td>\n",
       "      <td>0.762915</td>\n",
       "    </tr>\n",
       "    <tr>\n",
       "      <th>207</th>\n",
       "      <td>0.063920</td>\n",
       "      <td>0.052464</td>\n",
       "      <td>0.085722</td>\n",
       "      <td>0.001118</td>\n",
       "      <td>0.175885</td>\n",
       "      <td>0.737275</td>\n",
       "    </tr>\n",
       "    <tr>\n",
       "      <th>320</th>\n",
       "      <td>0.061884</td>\n",
       "      <td>0.057786</td>\n",
       "      <td>0.147069</td>\n",
       "      <td>0.100947</td>\n",
       "      <td>0.042622</td>\n",
       "      <td>0.709362</td>\n",
       "    </tr>\n",
       "    <tr>\n",
       "      <th>1597</th>\n",
       "      <td>0.067018</td>\n",
       "      <td>0.058910</td>\n",
       "      <td>0.076750</td>\n",
       "      <td>0.040779</td>\n",
       "      <td>0.174328</td>\n",
       "      <td>0.708143</td>\n",
       "    </tr>\n",
       "    <tr>\n",
       "      <th>...</th>\n",
       "      <td>...</td>\n",
       "      <td>...</td>\n",
       "      <td>...</td>\n",
       "      <td>...</td>\n",
       "      <td>...</td>\n",
       "      <td>...</td>\n",
       "    </tr>\n",
       "    <tr>\n",
       "      <th>110</th>\n",
       "      <td>0.117295</td>\n",
       "      <td>0.229751</td>\n",
       "      <td>0.162286</td>\n",
       "      <td>0.363085</td>\n",
       "      <td>0.471880</td>\n",
       "      <td>0.002750</td>\n",
       "    </tr>\n",
       "    <tr>\n",
       "      <th>1296</th>\n",
       "      <td>0.123220</td>\n",
       "      <td>0.229752</td>\n",
       "      <td>0.067169</td>\n",
       "      <td>0.181588</td>\n",
       "      <td>0.741495</td>\n",
       "      <td>0.009747</td>\n",
       "    </tr>\n",
       "    <tr>\n",
       "      <th>1727</th>\n",
       "      <td>0.117348</td>\n",
       "      <td>0.230048</td>\n",
       "      <td>0.162130</td>\n",
       "      <td>0.349463</td>\n",
       "      <td>0.486774</td>\n",
       "      <td>0.001632</td>\n",
       "    </tr>\n",
       "    <tr>\n",
       "      <th>935</th>\n",
       "      <td>0.128357</td>\n",
       "      <td>0.230603</td>\n",
       "      <td>0.019880</td>\n",
       "      <td>0.612924</td>\n",
       "      <td>0.359374</td>\n",
       "      <td>0.007822</td>\n",
       "    </tr>\n",
       "    <tr>\n",
       "      <th>1239</th>\n",
       "      <td>0.125141</td>\n",
       "      <td>0.230658</td>\n",
       "      <td>0.051237</td>\n",
       "      <td>0.322931</td>\n",
       "      <td>0.619324</td>\n",
       "      <td>0.006508</td>\n",
       "    </tr>\n",
       "  </tbody>\n",
       "</table>\n",
       "<p>2000 rows × 6 columns</p>\n",
       "</div>"
      ],
      "text/plain": [
       "        Return  Volatility       VYM       VTI       VOO      VGIT\n",
       "1742  0.052877    0.039215  0.166828  0.028710  0.002559  0.801903\n",
       "551   0.056224    0.046450  0.164689  0.063148  0.009248  0.762915\n",
       "207   0.063920    0.052464  0.085722  0.001118  0.175885  0.737275\n",
       "320   0.061884    0.057786  0.147069  0.100947  0.042622  0.709362\n",
       "1597  0.067018    0.058910  0.076750  0.040779  0.174328  0.708143\n",
       "...        ...         ...       ...       ...       ...       ...\n",
       "110   0.117295    0.229751  0.162286  0.363085  0.471880  0.002750\n",
       "1296  0.123220    0.229752  0.067169  0.181588  0.741495  0.009747\n",
       "1727  0.117348    0.230048  0.162130  0.349463  0.486774  0.001632\n",
       "935   0.128357    0.230603  0.019880  0.612924  0.359374  0.007822\n",
       "1239  0.125141    0.230658  0.051237  0.322931  0.619324  0.006508\n",
       "\n",
       "[2000 rows x 6 columns]"
      ]
     },
     "execution_count": 14,
     "metadata": {},
     "output_type": "execute_result"
    }
   ],
   "source": [
    "portfolios.sort_values(by=['Volatility']) # Sort by volatility. Theoretically the portfolio with lowest valatility is the best one."
   ]
  },
  {
   "cell_type": "code",
   "execution_count": 15,
   "metadata": {},
   "outputs": [
    {
     "data": {
      "text/plain": [
       "Text(0, 0.5, 'Expected Return')"
      ]
     },
     "execution_count": 15,
     "metadata": {},
     "output_type": "execute_result"
    },
    {
     "data": {
      "image/png": "[encoded data removed]",
      "text/plain": [
       "<Figure size 720x432 with 1 Axes>"
      ]
     },
     "metadata": {
      "needs_background": "light"
     },
     "output_type": "display_data"
    }
   ],
   "source": [
    "# check the plot\n",
    "portfolios.plot(x='Volatility', y='Return', kind='scatter', figsize=(10, 6));\n",
    "plt.xlabel('Expected Volatility')\n",
    "plt.ylabel('Expected Return')"
   ]
  },
  {
   "cell_type": "code",
   "execution_count": 16,
   "metadata": {},
   "outputs": [],
   "source": [
    "# #generate path and name then export\n",
    "# path = 'results/'\n",
    "# name = '_'.join(assets) + '.csv'\n",
    "# path_name = path + name \n",
    "# portfolios.sort_values(by=['Volatility']).to_csv(path_name)"
   ]
  },
  {
   "cell_type": "code",
   "execution_count": 18,
   "metadata": {},
   "outputs": [
    {
     "name": "stdout",
     "output_type": "stream",
     "text": [
      "money amount calculation for demo use only, please don't simply invest on this results alone.\n",
      "Intend to invest $25000.00 total.\n",
      "invest in VYM for $4170.69.\n",
      "invest in VTI for $717.75.\n",
      "invest in VOO for $63.99.\n",
      "invest in VGIT for $20047.58.\n",
      "Expected annual portfolio return is 5.3%\n",
      "Expected annual portfolio volatility is 3.9%\n"
     ]
    }
   ],
   "source": [
    "# calculation\n",
    "print(\"money amount calculation for demo use only, please don't simply invest on this results alone.\")\n",
    "\n",
    "sorted_portfolios = portfolios.sort_values(by=['Volatility']).head(1)\n",
    "\n",
    "total_investment = 25000\n",
    "print(\"Intend to invest ${:.2f}\".format(total_investment) + \" total.\")\n",
    "\n",
    "for i in range(num_assets)):\n",
    "    inv = total_investment * sorted_portfolios[assets[i]].iloc[0]\n",
    "    print(\"invest in \" + assets[i] + \" for ${:.2f}\".format(inv) + \".\")\n",
    "\n",
    "print(\"Expected annual portfolio return is {:.1f}\".format(sorted_portfolios['Return'].iloc[0]*100) + \"%\")\n",
    "print(\"Expected annual portfolio volatility is {:.1f}\".format(sorted_portfolios['Volatility'].iloc[0]*100) + \"%\")"
   ]
  },
  {
   "cell_type": "markdown",
   "metadata": {},
   "source": [
    "# above is the expected return using 3-year data\n",
    "# below is the actual return using 1 year data."
   ]
  },
  {
   "cell_type": "code",
   "execution_count": 30,
   "metadata": {},
   "outputs": [
    {
     "name": "stdout",
     "output_type": "stream",
     "text": [
      "Actual annual portfolio return is 2.7%\n",
      "Expected annual portfolio volatility is 3.1%\n"
     ]
    }
   ],
   "source": [
    "pf_data_actual = pd.DataFrame()\n",
    "invested_weights = []\n",
    "\n",
    "for i in range(num_assets):\n",
    "    invested_weights.append(sorted_portfolios[assets[i]].iloc[0])\n",
    "invested_weights = np.array(invested_weights)\n",
    "\n",
    "for a in assets:\n",
    "    pf_data_actual[a] = wb.DataReader(a, data_source = 'yahoo', start = '2021-1-1', end = '2022-1-1')['Adj Close'] \n",
    "\n",
    "log_returns_actual = np.log(pf_data_actual / pf_data_actual.shift(1))   #compute actual daily log return for all stocks\n",
    "\n",
    "#get actual portfolio return\n",
    "print(\"Actual annual portfolio return is {:.1f}\".format(np.sum(invested_weights * log_returns_actual.mean()) * 250 *100) + \"%\")\n",
    "#get actual portfolio volatility\n",
    "print(\"Actual annual portfolio volatility is {:.1f}\".format(np.sqrt(np.dot(invested_weights.T,np.dot(log_returns_actual.cov() * 250, invested_weights)))*100) +\"%\")\n"
   ]
  },
  {
   "cell_type": "code",
   "execution_count": null,
   "metadata": {},
   "outputs": [],
   "source": []
  }
 ],
 "metadata": {
  "kernelspec": {
   "display_name": "Python 3 (ipykernel)",
   "language": "python",
   "name": "python3"
  },
  "language_info": {
   "codemirror_mode": {
    "name": "ipython",
    "version": 3
   },
   "file_extension": ".py",
   "mimetype": "text/x-python",
   "name": "python",
   "nbconvert_exporter": "python",
   "pygments_lexer": "ipython3",
   "version": "3.9.7"
  }
 },
 "nbformat": 4,
 "nbformat_minor": 2
}
