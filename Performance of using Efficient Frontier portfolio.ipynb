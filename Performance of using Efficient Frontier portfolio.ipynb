{
 "cells": [
  {
   "cell_type": "code",
   "execution_count": 1,
   "metadata": {},
   "outputs": [],
   "source": [
    "# This program is based on the Udemy course \"Python for Finance: Investment Fundamentals & Data Analytics\" \n",
    "# by Martin and Ned from 365\n",
    "# Link to the course: https://www.udemy.com/course/python-for-finance-investment-fundamentals-data-analytics/\n",
    "# This is a jupyter notebook file, better to run in jupyter notebook enviorment.\n",
    "# Author: Martin and Ned, 365 Team. \n",
    "# Updated by: Kuo L. 2022-02-01\n",
    "# Use this script to compare expected performance with actual performance with 3 year increments.\n",
    "\n",
    "import numpy as np\n",
    "import pandas as pd\n",
    "from pandas_datareader import data as wb\n",
    "import matplotlib.pyplot as plt\n",
    "%matplotlib inline"
   ]
  },
  {
   "cell_type": "code",
   "execution_count": 2,
   "metadata": {},
   "outputs": [],
   "source": [
    "# It uses yahoo finance api to get close price for each ticker stock/ETF.\n",
    "# use any 3 tickers, I just use vanguard ETFs.\n",
    "# you can put more than 3 tickers, just note that the more tickers in, \n",
    "# the more calculation needed to plot efficient frontier. change num_simulation to a higher number as needed.\n",
    "\n",
    "num_simulation = 2000\n",
    "assets = ['VYM', 'VTI', 'VOO','AAPL']\n",
    "pf_data = pd.DataFrame()\n",
    "\n",
    "for a in assets:\n",
    "    #you can chagne the start date to any date in 'yyyy-mm-dd' format.\n",
    "    pf_data[a] = wb.DataReader(a, data_source = 'yahoo', start = '2016-1-1', end = '2019-1-1')['Adj Close'] "
   ]
  },
  {
   "cell_type": "code",
   "execution_count": 3,
   "metadata": {},
   "outputs": [
    {
     "data": {
      "text/html": [
       "<div>\n",
       "<style scoped>\n",
       "    .dataframe tbody tr th:only-of-type {\n",
       "        vertical-align: middle;\n",
       "    }\n",
       "\n",
       "    .dataframe tbody tr th {\n",
       "        vertical-align: top;\n",
       "    }\n",
       "\n",
       "    .dataframe thead th {\n",
       "        text-align: right;\n",
       "    }\n",
       "</style>\n",
       "<table border=\"1\" class=\"dataframe\">\n",
       "  <thead>\n",
       "    <tr style=\"text-align: right;\">\n",
       "      <th></th>\n",
       "      <th>VYM</th>\n",
       "      <th>VTI</th>\n",
       "      <th>VOO</th>\n",
       "      <th>AAPL</th>\n",
       "    </tr>\n",
       "    <tr>\n",
       "      <th>Date</th>\n",
       "      <th></th>\n",
       "      <th></th>\n",
       "      <th></th>\n",
       "      <th></th>\n",
       "    </tr>\n",
       "  </thead>\n",
       "  <tbody>\n",
       "    <tr>\n",
       "      <th>2016-01-04</th>\n",
       "      <td>54.567036</td>\n",
       "      <td>92.296410</td>\n",
       "      <td>164.837189</td>\n",
       "      <td>24.251438</td>\n",
       "    </tr>\n",
       "    <tr>\n",
       "      <th>2016-01-05</th>\n",
       "      <td>54.840076</td>\n",
       "      <td>92.503036</td>\n",
       "      <td>165.132324</td>\n",
       "      <td>23.643711</td>\n",
       "    </tr>\n",
       "    <tr>\n",
       "      <th>2016-01-06</th>\n",
       "      <td>54.120239</td>\n",
       "      <td>91.263313</td>\n",
       "      <td>163.039551</td>\n",
       "      <td>23.181013</td>\n",
       "    </tr>\n",
       "    <tr>\n",
       "      <th>2016-01-07</th>\n",
       "      <td>52.953602</td>\n",
       "      <td>89.026413</td>\n",
       "      <td>159.068619</td>\n",
       "      <td>22.202667</td>\n",
       "    </tr>\n",
       "    <tr>\n",
       "      <th>2016-01-08</th>\n",
       "      <td>52.357876</td>\n",
       "      <td>88.011307</td>\n",
       "      <td>157.378342</td>\n",
       "      <td>22.320070</td>\n",
       "    </tr>\n",
       "  </tbody>\n",
       "</table>\n",
       "</div>"
      ],
      "text/plain": [
       "                  VYM        VTI         VOO       AAPL\n",
       "Date                                                   \n",
       "2016-01-04  54.567036  92.296410  164.837189  24.251438\n",
       "2016-01-05  54.840076  92.503036  165.132324  23.643711\n",
       "2016-01-06  54.120239  91.263313  163.039551  23.181013\n",
       "2016-01-07  52.953602  89.026413  159.068619  22.202667\n",
       "2016-01-08  52.357876  88.011307  157.378342  22.320070"
      ]
     },
     "execution_count": 3,
     "metadata": {},
     "output_type": "execute_result"
    }
   ],
   "source": [
    "pf_data.head() #makre sure companies were public at starting date"
   ]
  },
  {
   "cell_type": "code",
   "execution_count": 4,
   "metadata": {},
   "outputs": [
    {
     "data": {
      "text/html": [
       "<div>\n",
       "<style scoped>\n",
       "    .dataframe tbody tr th:only-of-type {\n",
       "        vertical-align: middle;\n",
       "    }\n",
       "\n",
       "    .dataframe tbody tr th {\n",
       "        vertical-align: top;\n",
       "    }\n",
       "\n",
       "    .dataframe thead th {\n",
       "        text-align: right;\n",
       "    }\n",
       "</style>\n",
       "<table border=\"1\" class=\"dataframe\">\n",
       "  <thead>\n",
       "    <tr style=\"text-align: right;\">\n",
       "      <th></th>\n",
       "      <th>VYM</th>\n",
       "      <th>VTI</th>\n",
       "      <th>VOO</th>\n",
       "      <th>AAPL</th>\n",
       "    </tr>\n",
       "    <tr>\n",
       "      <th>Date</th>\n",
       "      <th></th>\n",
       "      <th></th>\n",
       "      <th></th>\n",
       "      <th></th>\n",
       "    </tr>\n",
       "  </thead>\n",
       "  <tbody>\n",
       "    <tr>\n",
       "      <th>2018-12-24</th>\n",
       "      <td>66.909416</td>\n",
       "      <td>113.880165</td>\n",
       "      <td>204.086212</td>\n",
       "      <td>35.634811</td>\n",
       "    </tr>\n",
       "    <tr>\n",
       "      <th>2018-12-26</th>\n",
       "      <td>69.550941</td>\n",
       "      <td>119.360130</td>\n",
       "      <td>214.410553</td>\n",
       "      <td>38.144268</td>\n",
       "    </tr>\n",
       "    <tr>\n",
       "      <th>2018-12-27</th>\n",
       "      <td>70.231743</td>\n",
       "      <td>120.435165</td>\n",
       "      <td>216.403305</td>\n",
       "      <td>37.896721</td>\n",
       "    </tr>\n",
       "    <tr>\n",
       "      <th>2018-12-28</th>\n",
       "      <td>70.186363</td>\n",
       "      <td>120.282959</td>\n",
       "      <td>216.128128</td>\n",
       "      <td>37.916138</td>\n",
       "    </tr>\n",
       "    <tr>\n",
       "      <th>2018-12-31</th>\n",
       "      <td>70.794540</td>\n",
       "      <td>121.424606</td>\n",
       "      <td>218.073410</td>\n",
       "      <td>38.282600</td>\n",
       "    </tr>\n",
       "  </tbody>\n",
       "</table>\n",
       "</div>"
      ],
      "text/plain": [
       "                  VYM         VTI         VOO       AAPL\n",
       "Date                                                    \n",
       "2018-12-24  66.909416  113.880165  204.086212  35.634811\n",
       "2018-12-26  69.550941  119.360130  214.410553  38.144268\n",
       "2018-12-27  70.231743  120.435165  216.403305  37.896721\n",
       "2018-12-28  70.186363  120.282959  216.128128  37.916138\n",
       "2018-12-31  70.794540  121.424606  218.073410  38.282600"
      ]
     },
     "execution_count": 4,
     "metadata": {},
     "output_type": "execute_result"
    }
   ],
   "source": [
    "pf_data.tail() #check companies still open and public at ending date"
   ]
  },
  {
   "cell_type": "code",
   "execution_count": 5,
   "metadata": {},
   "outputs": [
    {
     "data": {
      "text/plain": [
       "<AxesSubplot:xlabel='Date'>"
      ]
     },
     "execution_count": 5,
     "metadata": {},
     "output_type": "execute_result"
    },
    {
     "data": {
      "image/png": "[encoded data removed]",
      "text/plain": [
       "<Figure size 720x360 with 1 Axes>"
      ]
     },
     "metadata": {
      "needs_background": "light"
     },
     "output_type": "display_data"
    }
   ],
   "source": [
    "(pf_data / pf_data.iloc[0] * 100).plot(figsize=(10, 5)) #Plot of company performance without considering dividends"
   ]
  },
  {
   "cell_type": "code",
   "execution_count": 6,
   "metadata": {},
   "outputs": [],
   "source": [
    "log_returns = np.log(pf_data / pf_data.shift(1)) #get average daily log returns"
   ]
  },
  {
   "cell_type": "code",
   "execution_count": 7,
   "metadata": {},
   "outputs": [
    {
     "data": {
      "text/plain": [
       "VYM     0.086438\n",
       "VTI     0.091065\n",
       "VOO     0.092919\n",
       "AAPL    0.151567\n",
       "dtype: float64"
      ]
     },
     "execution_count": 7,
     "metadata": {},
     "output_type": "execute_result"
    }
   ],
   "source": [
    "log_returns.mean() * 250 #get yearly returns(daily return x # of days a year). Market open roughly 250 days a year, so I do not use 365. "
   ]
  },
  {
   "cell_type": "code",
   "execution_count": 8,
   "metadata": {},
   "outputs": [
    {
     "data": {
      "text/html": [
       "<div>\n",
       "<style scoped>\n",
       "    .dataframe tbody tr th:only-of-type {\n",
       "        vertical-align: middle;\n",
       "    }\n",
       "\n",
       "    .dataframe tbody tr th {\n",
       "        vertical-align: top;\n",
       "    }\n",
       "\n",
       "    .dataframe thead th {\n",
       "        text-align: right;\n",
       "    }\n",
       "</style>\n",
       "<table border=\"1\" class=\"dataframe\">\n",
       "  <thead>\n",
       "    <tr style=\"text-align: right;\">\n",
       "      <th></th>\n",
       "      <th>VYM</th>\n",
       "      <th>VTI</th>\n",
       "      <th>VOO</th>\n",
       "      <th>AAPL</th>\n",
       "    </tr>\n",
       "  </thead>\n",
       "  <tbody>\n",
       "    <tr>\n",
       "      <th>VYM</th>\n",
       "      <td>0.013548</td>\n",
       "      <td>0.014405</td>\n",
       "      <td>0.014429</td>\n",
       "      <td>0.014443</td>\n",
       "    </tr>\n",
       "    <tr>\n",
       "      <th>VTI</th>\n",
       "      <td>0.014405</td>\n",
       "      <td>0.016910</td>\n",
       "      <td>0.016753</td>\n",
       "      <td>0.019614</td>\n",
       "    </tr>\n",
       "    <tr>\n",
       "      <th>VOO</th>\n",
       "      <td>0.014429</td>\n",
       "      <td>0.016753</td>\n",
       "      <td>0.016739</td>\n",
       "      <td>0.019900</td>\n",
       "    </tr>\n",
       "    <tr>\n",
       "      <th>AAPL</th>\n",
       "      <td>0.014443</td>\n",
       "      <td>0.019614</td>\n",
       "      <td>0.019900</td>\n",
       "      <td>0.055666</td>\n",
       "    </tr>\n",
       "  </tbody>\n",
       "</table>\n",
       "</div>"
      ],
      "text/plain": [
       "           VYM       VTI       VOO      AAPL\n",
       "VYM   0.013548  0.014405  0.014429  0.014443\n",
       "VTI   0.014405  0.016910  0.016753  0.019614\n",
       "VOO   0.014429  0.016753  0.016739  0.019900\n",
       "AAPL  0.014443  0.019614  0.019900  0.055666"
      ]
     },
     "execution_count": 8,
     "metadata": {},
     "output_type": "execute_result"
    }
   ],
   "source": [
    "log_returns.cov() * 250 #get coveriance between each pair."
   ]
  },
  {
   "cell_type": "code",
   "execution_count": 9,
   "metadata": {},
   "outputs": [
    {
     "data": {
      "text/html": [
       "<div>\n",
       "<style scoped>\n",
       "    .dataframe tbody tr th:only-of-type {\n",
       "        vertical-align: middle;\n",
       "    }\n",
       "\n",
       "    .dataframe tbody tr th {\n",
       "        vertical-align: top;\n",
       "    }\n",
       "\n",
       "    .dataframe thead th {\n",
       "        text-align: right;\n",
       "    }\n",
       "</style>\n",
       "<table border=\"1\" class=\"dataframe\">\n",
       "  <thead>\n",
       "    <tr style=\"text-align: right;\">\n",
       "      <th></th>\n",
       "      <th>VYM</th>\n",
       "      <th>VTI</th>\n",
       "      <th>VOO</th>\n",
       "      <th>AAPL</th>\n",
       "    </tr>\n",
       "  </thead>\n",
       "  <tbody>\n",
       "    <tr>\n",
       "      <th>VYM</th>\n",
       "      <td>1.000000</td>\n",
       "      <td>0.951673</td>\n",
       "      <td>0.958134</td>\n",
       "      <td>0.525931</td>\n",
       "    </tr>\n",
       "    <tr>\n",
       "      <th>VTI</th>\n",
       "      <td>0.951673</td>\n",
       "      <td>1.000000</td>\n",
       "      <td>0.995809</td>\n",
       "      <td>0.639298</td>\n",
       "    </tr>\n",
       "    <tr>\n",
       "      <th>VOO</th>\n",
       "      <td>0.958134</td>\n",
       "      <td>0.995809</td>\n",
       "      <td>1.000000</td>\n",
       "      <td>0.651918</td>\n",
       "    </tr>\n",
       "    <tr>\n",
       "      <th>AAPL</th>\n",
       "      <td>0.525931</td>\n",
       "      <td>0.639298</td>\n",
       "      <td>0.651918</td>\n",
       "      <td>1.000000</td>\n",
       "    </tr>\n",
       "  </tbody>\n",
       "</table>\n",
       "</div>"
      ],
      "text/plain": [
       "           VYM       VTI       VOO      AAPL\n",
       "VYM   1.000000  0.951673  0.958134  0.525931\n",
       "VTI   0.951673  1.000000  0.995809  0.639298\n",
       "VOO   0.958134  0.995809  1.000000  0.651918\n",
       "AAPL  0.525931  0.639298  0.651918  1.000000"
      ]
     },
     "execution_count": 9,
     "metadata": {},
     "output_type": "execute_result"
    }
   ],
   "source": [
    "log_returns.corr() #get correlation between each pair."
   ]
  },
  {
   "cell_type": "markdown",
   "metadata": {},
   "source": [
    "***"
   ]
  },
  {
   "cell_type": "code",
   "execution_count": 10,
   "metadata": {},
   "outputs": [],
   "source": [
    "num_assets = len(assets)\n",
    "pfolio_returns = []\n",
    "pfolio_volatilities = []\n",
    "\n",
    "w_lst = []\n",
    "\n",
    "for i in range(num_assets):\n",
    "    w_lst.append([])\n",
    "\n",
    "# Followig generate the simulation\n",
    "for x in range (num_simulation):\n",
    "    weights = np.random.random(num_assets)\n",
    "    weights /= np.sum(weights)\n",
    "    for i in range(num_assets):\n",
    "        w_lst[i].append(weights[i])\n",
    "\n",
    "    pfolio_returns.append(np.sum(weights * log_returns.mean()) * 250)\n",
    "    pfolio_volatilities.append(np.sqrt(np.dot(weights.T,np.dot(log_returns.cov() * 250, weights))))\n",
    "    \n",
    "pfolio_returns = np.array(pfolio_returns)\n",
    "pfolio_volatilities = np.array(pfolio_volatilities)\n",
    "\n",
    "for i in range(num_assets):\n",
    "    w_lst[i] = np.array(w_lst[i])\n",
    "\n",
    "# pfolio_returns, pfolio_volatilities, w_lst[0], w_lst[1], w_lst[2]"
   ]
  },
  {
   "cell_type": "code",
   "execution_count": 11,
   "metadata": {},
   "outputs": [],
   "source": [
    "# build simulated portfolios.\n",
    "df_build = {'Return': pfolio_returns, 'Volatility': pfolio_volatilities}\n",
    "for w in range(num_assets):\n",
    "    df_build[assets[w]] = w_lst[w]\n",
    "portfolios = pd.DataFrame(df_build)"
   ]
  },
  {
   "cell_type": "code",
   "execution_count": 12,
   "metadata": {},
   "outputs": [
    {
     "data": {
      "text/html": [
       "<div>\n",
       "<style scoped>\n",
       "    .dataframe tbody tr th:only-of-type {\n",
       "        vertical-align: middle;\n",
       "    }\n",
       "\n",
       "    .dataframe tbody tr th {\n",
       "        vertical-align: top;\n",
       "    }\n",
       "\n",
       "    .dataframe thead th {\n",
       "        text-align: right;\n",
       "    }\n",
       "</style>\n",
       "<table border=\"1\" class=\"dataframe\">\n",
       "  <thead>\n",
       "    <tr style=\"text-align: right;\">\n",
       "      <th></th>\n",
       "      <th>Return</th>\n",
       "      <th>Volatility</th>\n",
       "      <th>VYM</th>\n",
       "      <th>VTI</th>\n",
       "      <th>VOO</th>\n",
       "      <th>AAPL</th>\n",
       "    </tr>\n",
       "  </thead>\n",
       "  <tbody>\n",
       "    <tr>\n",
       "      <th>0</th>\n",
       "      <td>0.115249</td>\n",
       "      <td>0.155456</td>\n",
       "      <td>0.046451</td>\n",
       "      <td>0.531043</td>\n",
       "      <td>0.019847</td>\n",
       "      <td>0.402658</td>\n",
       "    </tr>\n",
       "    <tr>\n",
       "      <th>1</th>\n",
       "      <td>0.112351</td>\n",
       "      <td>0.150872</td>\n",
       "      <td>0.012993</td>\n",
       "      <td>0.502196</td>\n",
       "      <td>0.136170</td>\n",
       "      <td>0.348641</td>\n",
       "    </tr>\n",
       "    <tr>\n",
       "      <th>2</th>\n",
       "      <td>0.120659</td>\n",
       "      <td>0.164200</td>\n",
       "      <td>0.044313</td>\n",
       "      <td>0.097761</td>\n",
       "      <td>0.376950</td>\n",
       "      <td>0.480976</td>\n",
       "    </tr>\n",
       "    <tr>\n",
       "      <th>3</th>\n",
       "      <td>0.104634</td>\n",
       "      <td>0.139683</td>\n",
       "      <td>0.025827</td>\n",
       "      <td>0.510489</td>\n",
       "      <td>0.244946</td>\n",
       "      <td>0.218738</td>\n",
       "    </tr>\n",
       "    <tr>\n",
       "      <th>4</th>\n",
       "      <td>0.111298</td>\n",
       "      <td>0.145126</td>\n",
       "      <td>0.271455</td>\n",
       "      <td>0.064680</td>\n",
       "      <td>0.318444</td>\n",
       "      <td>0.345420</td>\n",
       "    </tr>\n",
       "  </tbody>\n",
       "</table>\n",
       "</div>"
      ],
      "text/plain": [
       "     Return  Volatility       VYM       VTI       VOO      AAPL\n",
       "0  0.115249    0.155456  0.046451  0.531043  0.019847  0.402658\n",
       "1  0.112351    0.150872  0.012993  0.502196  0.136170  0.348641\n",
       "2  0.120659    0.164200  0.044313  0.097761  0.376950  0.480976\n",
       "3  0.104634    0.139683  0.025827  0.510489  0.244946  0.218738\n",
       "4  0.111298    0.145126  0.271455  0.064680  0.318444  0.345420"
      ]
     },
     "execution_count": 12,
     "metadata": {},
     "output_type": "execute_result"
    }
   ],
   "source": [
    "portfolios.head() #checking to see if any error"
   ]
  },
  {
   "cell_type": "code",
   "execution_count": 13,
   "metadata": {},
   "outputs": [
    {
     "data": {
      "text/html": [
       "<div>\n",
       "<style scoped>\n",
       "    .dataframe tbody tr th:only-of-type {\n",
       "        vertical-align: middle;\n",
       "    }\n",
       "\n",
       "    .dataframe tbody tr th {\n",
       "        vertical-align: top;\n",
       "    }\n",
       "\n",
       "    .dataframe thead th {\n",
       "        text-align: right;\n",
       "    }\n",
       "</style>\n",
       "<table border=\"1\" class=\"dataframe\">\n",
       "  <thead>\n",
       "    <tr style=\"text-align: right;\">\n",
       "      <th></th>\n",
       "      <th>Return</th>\n",
       "      <th>Volatility</th>\n",
       "      <th>VYM</th>\n",
       "      <th>VTI</th>\n",
       "      <th>VOO</th>\n",
       "      <th>AAPL</th>\n",
       "    </tr>\n",
       "  </thead>\n",
       "  <tbody>\n",
       "    <tr>\n",
       "      <th>1995</th>\n",
       "      <td>0.113190</td>\n",
       "      <td>0.150543</td>\n",
       "      <td>0.119771</td>\n",
       "      <td>0.336559</td>\n",
       "      <td>0.174163</td>\n",
       "      <td>0.369507</td>\n",
       "    </tr>\n",
       "    <tr>\n",
       "      <th>1996</th>\n",
       "      <td>0.105601</td>\n",
       "      <td>0.136853</td>\n",
       "      <td>0.319638</td>\n",
       "      <td>0.310687</td>\n",
       "      <td>0.108292</td>\n",
       "      <td>0.261384</td>\n",
       "    </tr>\n",
       "    <tr>\n",
       "      <th>1997</th>\n",
       "      <td>0.105983</td>\n",
       "      <td>0.137676</td>\n",
       "      <td>0.242943</td>\n",
       "      <td>0.049337</td>\n",
       "      <td>0.456559</td>\n",
       "      <td>0.251161</td>\n",
       "    </tr>\n",
       "    <tr>\n",
       "      <th>1998</th>\n",
       "      <td>0.094052</td>\n",
       "      <td>0.125005</td>\n",
       "      <td>0.383907</td>\n",
       "      <td>0.322751</td>\n",
       "      <td>0.221403</td>\n",
       "      <td>0.071939</td>\n",
       "    </tr>\n",
       "    <tr>\n",
       "      <th>1999</th>\n",
       "      <td>0.098361</td>\n",
       "      <td>0.126891</td>\n",
       "      <td>0.471984</td>\n",
       "      <td>0.160626</td>\n",
       "      <td>0.217362</td>\n",
       "      <td>0.150028</td>\n",
       "    </tr>\n",
       "  </tbody>\n",
       "</table>\n",
       "</div>"
      ],
      "text/plain": [
       "        Return  Volatility       VYM       VTI       VOO      AAPL\n",
       "1995  0.113190    0.150543  0.119771  0.336559  0.174163  0.369507\n",
       "1996  0.105601    0.136853  0.319638  0.310687  0.108292  0.261384\n",
       "1997  0.105983    0.137676  0.242943  0.049337  0.456559  0.251161\n",
       "1998  0.094052    0.125005  0.383907  0.322751  0.221403  0.071939\n",
       "1999  0.098361    0.126891  0.471984  0.160626  0.217362  0.150028"
      ]
     },
     "execution_count": 13,
     "metadata": {},
     "output_type": "execute_result"
    }
   ],
   "source": [
    "portfolios.tail() #checking to see if any error"
   ]
  },
  {
   "cell_type": "code",
   "execution_count": 14,
   "metadata": {},
   "outputs": [
    {
     "data": {
      "text/html": [
       "<div>\n",
       "<style scoped>\n",
       "    .dataframe tbody tr th:only-of-type {\n",
       "        vertical-align: middle;\n",
       "    }\n",
       "\n",
       "    .dataframe tbody tr th {\n",
       "        vertical-align: top;\n",
       "    }\n",
       "\n",
       "    .dataframe thead th {\n",
       "        text-align: right;\n",
       "    }\n",
       "</style>\n",
       "<table border=\"1\" class=\"dataframe\">\n",
       "  <thead>\n",
       "    <tr style=\"text-align: right;\">\n",
       "      <th></th>\n",
       "      <th>Return</th>\n",
       "      <th>Volatility</th>\n",
       "      <th>VYM</th>\n",
       "      <th>VTI</th>\n",
       "      <th>VOO</th>\n",
       "      <th>AAPL</th>\n",
       "    </tr>\n",
       "  </thead>\n",
       "  <tbody>\n",
       "    <tr>\n",
       "      <th>1553</th>\n",
       "      <td>0.089819</td>\n",
       "      <td>0.118282</td>\n",
       "      <td>0.826126</td>\n",
       "      <td>0.023995</td>\n",
       "      <td>0.110686</td>\n",
       "      <td>0.039194</td>\n",
       "    </tr>\n",
       "    <tr>\n",
       "      <th>401</th>\n",
       "      <td>0.090198</td>\n",
       "      <td>0.120201</td>\n",
       "      <td>0.649172</td>\n",
       "      <td>0.233403</td>\n",
       "      <td>0.084715</td>\n",
       "      <td>0.032710</td>\n",
       "    </tr>\n",
       "    <tr>\n",
       "      <th>927</th>\n",
       "      <td>0.093655</td>\n",
       "      <td>0.120240</td>\n",
       "      <td>0.785081</td>\n",
       "      <td>0.037175</td>\n",
       "      <td>0.077269</td>\n",
       "      <td>0.100475</td>\n",
       "    </tr>\n",
       "    <tr>\n",
       "      <th>1248</th>\n",
       "      <td>0.089657</td>\n",
       "      <td>0.120408</td>\n",
       "      <td>0.615326</td>\n",
       "      <td>0.227175</td>\n",
       "      <td>0.137938</td>\n",
       "      <td>0.019561</td>\n",
       "    </tr>\n",
       "    <tr>\n",
       "      <th>970</th>\n",
       "      <td>0.090008</td>\n",
       "      <td>0.120418</td>\n",
       "      <td>0.623581</td>\n",
       "      <td>0.234470</td>\n",
       "      <td>0.115259</td>\n",
       "      <td>0.026689</td>\n",
       "    </tr>\n",
       "    <tr>\n",
       "      <th>...</th>\n",
       "      <td>...</td>\n",
       "      <td>...</td>\n",
       "      <td>...</td>\n",
       "      <td>...</td>\n",
       "      <td>...</td>\n",
       "      <td>...</td>\n",
       "    </tr>\n",
       "    <tr>\n",
       "      <th>1469</th>\n",
       "      <td>0.132627</td>\n",
       "      <td>0.189268</td>\n",
       "      <td>0.076276</td>\n",
       "      <td>0.083590</td>\n",
       "      <td>0.152001</td>\n",
       "      <td>0.688134</td>\n",
       "    </tr>\n",
       "    <tr>\n",
       "      <th>1092</th>\n",
       "      <td>0.133104</td>\n",
       "      <td>0.190492</td>\n",
       "      <td>0.098643</td>\n",
       "      <td>0.179369</td>\n",
       "      <td>0.020233</td>\n",
       "      <td>0.701755</td>\n",
       "    </tr>\n",
       "    <tr>\n",
       "      <th>639</th>\n",
       "      <td>0.134708</td>\n",
       "      <td>0.194046</td>\n",
       "      <td>0.090621</td>\n",
       "      <td>0.112170</td>\n",
       "      <td>0.071106</td>\n",
       "      <td>0.726103</td>\n",
       "    </tr>\n",
       "    <tr>\n",
       "      <th>825</th>\n",
       "      <td>0.134327</td>\n",
       "      <td>0.194118</td>\n",
       "      <td>0.028978</td>\n",
       "      <td>0.247298</td>\n",
       "      <td>0.006666</td>\n",
       "      <td>0.717058</td>\n",
       "    </tr>\n",
       "    <tr>\n",
       "      <th>44</th>\n",
       "      <td>0.141646</td>\n",
       "      <td>0.210392</td>\n",
       "      <td>0.090758</td>\n",
       "      <td>0.030886</td>\n",
       "      <td>0.036517</td>\n",
       "      <td>0.841839</td>\n",
       "    </tr>\n",
       "  </tbody>\n",
       "</table>\n",
       "<p>2000 rows × 6 columns</p>\n",
       "</div>"
      ],
      "text/plain": [
       "        Return  Volatility       VYM       VTI       VOO      AAPL\n",
       "1553  0.089819    0.118282  0.826126  0.023995  0.110686  0.039194\n",
       "401   0.090198    0.120201  0.649172  0.233403  0.084715  0.032710\n",
       "927   0.093655    0.120240  0.785081  0.037175  0.077269  0.100475\n",
       "1248  0.089657    0.120408  0.615326  0.227175  0.137938  0.019561\n",
       "970   0.090008    0.120418  0.623581  0.234470  0.115259  0.026689\n",
       "...        ...         ...       ...       ...       ...       ...\n",
       "1469  0.132627    0.189268  0.076276  0.083590  0.152001  0.688134\n",
       "1092  0.133104    0.190492  0.098643  0.179369  0.020233  0.701755\n",
       "639   0.134708    0.194046  0.090621  0.112170  0.071106  0.726103\n",
       "825   0.134327    0.194118  0.028978  0.247298  0.006666  0.717058\n",
       "44    0.141646    0.210392  0.090758  0.030886  0.036517  0.841839\n",
       "\n",
       "[2000 rows x 6 columns]"
      ]
     },
     "execution_count": 14,
     "metadata": {},
     "output_type": "execute_result"
    }
   ],
   "source": [
    "portfolios.sort_values(by=['Volatility']) # Sort by volatility. Theoretically the portfolio with lowest valatility is the best one."
   ]
  },
  {
   "cell_type": "code",
   "execution_count": 15,
   "metadata": {},
   "outputs": [
    {
     "data": {
      "text/plain": [
       "Text(0, 0.5, 'Expected Return')"
      ]
     },
     "execution_count": 15,
     "metadata": {},
     "output_type": "execute_result"
    },
    {
     "data": {
      "image/png": "[encoded data removed]",
      "text/plain": [
       "<Figure size 720x432 with 1 Axes>"
      ]
     },
     "metadata": {
      "needs_background": "light"
     },
     "output_type": "display_data"
    }
   ],
   "source": [
    "# check the plot\n",
    "portfolios.plot(x='Volatility', y='Return', kind='scatter', figsize=(10, 6));\n",
    "plt.xlabel('Expected Volatility')\n",
    "plt.ylabel('Expected Return')"
   ]
  },
  {
   "cell_type": "code",
   "execution_count": 16,
   "metadata": {},
   "outputs": [],
   "source": [
    "# #generate path and name then export\n",
    "# path = 'results/'\n",
    "# name = '_'.join(assets) + '.csv'\n",
    "# path_name = path + name \n",
    "# portfolios.sort_values(by=['Volatility']).to_csv(path_name)"
   ]
  },
  {
   "cell_type": "code",
   "execution_count": 17,
   "metadata": {},
   "outputs": [
    {
     "name": "stdout",
     "output_type": "stream",
     "text": [
      "money amount calculation for demo use only, please don't simply invest on this results alone.\n",
      "Intend to invest $25000.00 total.\n",
      "\tinvest in VYM for $20653.14.\n",
      "\tinvest in VTI for $599.86.\n",
      "\tinvest in VOO for $2767.15.\n",
      "\tinvest in AAPL for $979.84.\n",
      "Expected annual portfolio return is 9.0%\n",
      "Expected annual portfolio volatility is 11.8%\n"
     ]
    }
   ],
   "source": [
    "# calculation\n",
    "print(\"money amount calculation for demo use only, please don't simply invest on this results alone.\")\n",
    "\n",
    "sorted_portfolios = portfolios.sort_values(by=['Volatility']).head(1)\n",
    "\n",
    "total_investment = 25000\n",
    "print(\"Intend to invest ${:.2f}\".format(total_investment) + \" total.\")\n",
    "\n",
    "for i in range(num_assets):\n",
    "    inv = total_investment * sorted_portfolios[assets[i]].iloc[0]\n",
    "    print(\"\\tinvest in \" + assets[i] + \" for ${:.2f}\".format(inv) + \".\")\n",
    "\n",
    "print(\"Expected annual portfolio return is {:.1f}\".format(sorted_portfolios['Return'].iloc[0]*100) + \"%\")\n",
    "print(\"Expected annual portfolio volatility is {:.1f}\".format(sorted_portfolios['Volatility'].iloc[0]*100) + \"%\")"
   ]
  },
  {
   "cell_type": "markdown",
   "metadata": {},
   "source": [
    "# above is the expected return using 3-year data\n",
    "# below is the actual return using 1 year data."
   ]
  },
  {
   "cell_type": "code",
   "execution_count": 19,
   "metadata": {},
   "outputs": [
    {
     "name": "stdout",
     "output_type": "stream",
     "text": [
      "Actual annual portfolio return is 14.3%\n",
      "Actual annual portfolio volatility is 25.6%\n"
     ]
    }
   ],
   "source": [
    "pf_data_actual = pd.DataFrame()\n",
    "invested_weights = []\n",
    "\n",
    "for i in range(num_assets):\n",
    "    invested_weights.append(sorted_portfolios[assets[i]].iloc[0])\n",
    "invested_weights = np.array(invested_weights)\n",
    "\n",
    "for a in assets:\n",
    "    pf_data_actual[a] = wb.DataReader(a, data_source = 'yahoo', start = '2021-1-1', end = '2022-1-1')['Adj Close'] \n",
    "\n",
    "log_returns_actual = np.log(pf_data_actual / pf_data_actual.shift(1))   #compute actual daily log return for all stocks\n",
    "\n",
    "#get actual portfolio return\n",
    "print(\"Actual annual portfolio return is {:.1f}\".format(np.sum(invested_weights * log_returns_actual.mean()) * 250 *100) + \"%\")\n",
    "#get actual portfolio volatility\n",
    "print(\"Actual annual portfolio volatility is {:.1f}\".format(np.sqrt(np.dot(invested_weights.T,np.dot(log_returns_actual.cov() * 250, invested_weights)))*100) +\"%\")\n"
   ]
  },
  {
   "cell_type": "code",
   "execution_count": null,
   "metadata": {},
   "outputs": [],
   "source": []
  }
 ],
 "metadata": {
  "kernelspec": {
   "display_name": "Python 3 (ipykernel)",
   "language": "python",
   "name": "python3"
  },
  "language_info": {
   "codemirror_mode": {
    "name": "ipython",
    "version": 3
   },
   "file_extension": ".py",
   "mimetype": "text/x-python",
   "name": "python",
   "nbconvert_exporter": "python",
   "pygments_lexer": "ipython3",
   "version": "3.9.7"
  }
 },
 "nbformat": 4,
 "nbformat_minor": 2
}
