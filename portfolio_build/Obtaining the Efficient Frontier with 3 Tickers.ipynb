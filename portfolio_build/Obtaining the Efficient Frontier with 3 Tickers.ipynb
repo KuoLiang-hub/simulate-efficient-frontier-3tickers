{
 "cells": [
  {
   "cell_type": "code",
   "execution_count": 1,
   "metadata": {},
   "outputs": [],
   "source": [
    "# This program is based on the Udemy course \"Python for Finance: Investment Fundamentals & Data Analytics\" \n",
    "# by Martin and Ned from 365\n",
    "# Link to the course: https://www.udemy.com/course/python-for-finance-investment-fundamentals-data-analytics/\n",
    "# This is a jupyter notebook file, better to run in jupyter notebook enviorment.\n",
    "# Author: Martin and Ned, 365 Team. \n",
    "# Updated by: Kuo L. 2022-02-02\n",
    "\n",
    "import numpy as np\n",
    "import pandas as pd\n",
    "from pandas_datareader import data as wb\n",
    "import matplotlib.pyplot as plt\n",
    "%matplotlib inline"
   ]
  },
  {
   "cell_type": "code",
   "execution_count": 2,
   "metadata": {},
   "outputs": [],
   "source": [
    "# It uses yahoo finance api to get close price for each ticker stock/ETF.\n",
    "# you can put more than 3 tickers, just note that the more tickers in, \n",
    "# the more calculation needed to plot efficient frontier. change num_simulation to a higher number as needed.\n",
    "\n",
    "num_simulation = 3000\n",
    "assets = ['AAPL','AMZN','GOOGL']\n",
    "pf_data = pd.DataFrame()\n",
    "\n",
    "for a in assets:\n",
    "    #you can chagne the start date to any date in 'yyyy-mm-dd' format.\n",
    "    pf_data[a] = wb.DataReader(a, data_source = 'yahoo', start = '2020-1-1')['Adj Close'] "
   ]
  },
  {
   "cell_type": "code",
   "execution_count": 3,
   "metadata": {},
   "outputs": [
    {
     "data": {
      "text/html": [
       "<div>\n",
       "<style scoped>\n",
       "    .dataframe tbody tr th:only-of-type {\n",
       "        vertical-align: middle;\n",
       "    }\n",
       "\n",
       "    .dataframe tbody tr th {\n",
       "        vertical-align: top;\n",
       "    }\n",
       "\n",
       "    .dataframe thead th {\n",
       "        text-align: right;\n",
       "    }\n",
       "</style>\n",
       "<table border=\"1\" class=\"dataframe\">\n",
       "  <thead>\n",
       "    <tr style=\"text-align: right;\">\n",
       "      <th></th>\n",
       "      <th>AAPL</th>\n",
       "      <th>AMZN</th>\n",
       "      <th>GOOGL</th>\n",
       "    </tr>\n",
       "    <tr>\n",
       "      <th>Date</th>\n",
       "      <th></th>\n",
       "      <th></th>\n",
       "      <th></th>\n",
       "    </tr>\n",
       "  </thead>\n",
       "  <tbody>\n",
       "    <tr>\n",
       "      <th>2020-01-02</th>\n",
       "      <td>73.894318</td>\n",
       "      <td>1898.010010</td>\n",
       "      <td>1368.680054</td>\n",
       "    </tr>\n",
       "    <tr>\n",
       "      <th>2020-01-03</th>\n",
       "      <td>73.175926</td>\n",
       "      <td>1874.969971</td>\n",
       "      <td>1361.520020</td>\n",
       "    </tr>\n",
       "    <tr>\n",
       "      <th>2020-01-06</th>\n",
       "      <td>73.759003</td>\n",
       "      <td>1902.880005</td>\n",
       "      <td>1397.810059</td>\n",
       "    </tr>\n",
       "    <tr>\n",
       "      <th>2020-01-07</th>\n",
       "      <td>73.412125</td>\n",
       "      <td>1906.859985</td>\n",
       "      <td>1395.109985</td>\n",
       "    </tr>\n",
       "    <tr>\n",
       "      <th>2020-01-08</th>\n",
       "      <td>74.593040</td>\n",
       "      <td>1891.969971</td>\n",
       "      <td>1405.040039</td>\n",
       "    </tr>\n",
       "  </tbody>\n",
       "</table>\n",
       "</div>"
      ],
      "text/plain": [
       "                 AAPL         AMZN        GOOGL\n",
       "Date                                           \n",
       "2020-01-02  73.894318  1898.010010  1368.680054\n",
       "2020-01-03  73.175926  1874.969971  1361.520020\n",
       "2020-01-06  73.759003  1902.880005  1397.810059\n",
       "2020-01-07  73.412125  1906.859985  1395.109985\n",
       "2020-01-08  74.593040  1891.969971  1405.040039"
      ]
     },
     "execution_count": 3,
     "metadata": {},
     "output_type": "execute_result"
    }
   ],
   "source": [
    "pf_data.head() #makre sure companies were public at starting date"
   ]
  },
  {
   "cell_type": "code",
   "execution_count": 4,
   "metadata": {},
   "outputs": [
    {
     "data": {
      "text/html": [
       "<div>\n",
       "<style scoped>\n",
       "    .dataframe tbody tr th:only-of-type {\n",
       "        vertical-align: middle;\n",
       "    }\n",
       "\n",
       "    .dataframe tbody tr th {\n",
       "        vertical-align: top;\n",
       "    }\n",
       "\n",
       "    .dataframe thead th {\n",
       "        text-align: right;\n",
       "    }\n",
       "</style>\n",
       "<table border=\"1\" class=\"dataframe\">\n",
       "  <thead>\n",
       "    <tr style=\"text-align: right;\">\n",
       "      <th></th>\n",
       "      <th>AAPL</th>\n",
       "      <th>AMZN</th>\n",
       "      <th>GOOGL</th>\n",
       "    </tr>\n",
       "    <tr>\n",
       "      <th>Date</th>\n",
       "      <th></th>\n",
       "      <th></th>\n",
       "      <th></th>\n",
       "    </tr>\n",
       "  </thead>\n",
       "  <tbody>\n",
       "    <tr>\n",
       "      <th>2022-04-29</th>\n",
       "      <td>157.649994</td>\n",
       "      <td>2485.629883</td>\n",
       "      <td>2282.189941</td>\n",
       "    </tr>\n",
       "    <tr>\n",
       "      <th>2022-05-02</th>\n",
       "      <td>157.960007</td>\n",
       "      <td>2490.000000</td>\n",
       "      <td>2331.659912</td>\n",
       "    </tr>\n",
       "    <tr>\n",
       "      <th>2022-05-03</th>\n",
       "      <td>159.479996</td>\n",
       "      <td>2485.070068</td>\n",
       "      <td>2346.679932</td>\n",
       "    </tr>\n",
       "    <tr>\n",
       "      <th>2022-05-04</th>\n",
       "      <td>166.020004</td>\n",
       "      <td>2518.570068</td>\n",
       "      <td>2445.219971</td>\n",
       "    </tr>\n",
       "    <tr>\n",
       "      <th>2022-05-05</th>\n",
       "      <td>155.910004</td>\n",
       "      <td>2325.000000</td>\n",
       "      <td>2322.969971</td>\n",
       "    </tr>\n",
       "  </tbody>\n",
       "</table>\n",
       "</div>"
      ],
      "text/plain": [
       "                  AAPL         AMZN        GOOGL\n",
       "Date                                            \n",
       "2022-04-29  157.649994  2485.629883  2282.189941\n",
       "2022-05-02  157.960007  2490.000000  2331.659912\n",
       "2022-05-03  159.479996  2485.070068  2346.679932\n",
       "2022-05-04  166.020004  2518.570068  2445.219971\n",
       "2022-05-05  155.910004  2325.000000  2322.969971"
      ]
     },
     "execution_count": 4,
     "metadata": {},
     "output_type": "execute_result"
    }
   ],
   "source": [
    "pf_data.tail() #check companies still open and public at ending date"
   ]
  },
  {
   "cell_type": "code",
   "execution_count": 5,
   "metadata": {},
   "outputs": [
    {
     "data": {
      "text/plain": [
       "<AxesSubplot:xlabel='Date'>"
      ]
     },
     "execution_count": 5,
     "metadata": {},
     "output_type": "execute_result"
    },
    {
     "data": {
      "image/png": "[encoded data removed]",
      "text/plain": [
       "<Figure size 720x360 with 1 Axes>"
      ]
     },
     "metadata": {
      "needs_background": "light"
     },
     "output_type": "display_data"
    }
   ],
   "source": [
    "(pf_data / pf_data.iloc[0] * 100).plot(figsize=(10, 5)) #Plot of company performance without considering dividends"
   ]
  },
  {
   "cell_type": "code",
   "execution_count": 6,
   "metadata": {},
   "outputs": [],
   "source": [
    "log_returns = np.log(pf_data / pf_data.shift(1)) #get average daily log returns"
   ]
  },
  {
   "cell_type": "code",
   "execution_count": 7,
   "metadata": {},
   "outputs": [
    {
     "data": {
      "text/plain": [
       "AAPL     0.316374\n",
       "AMZN     0.085981\n",
       "GOOGL    0.224152\n",
       "dtype: float64"
      ]
     },
     "execution_count": 7,
     "metadata": {},
     "output_type": "execute_result"
    }
   ],
   "source": [
    "log_returns.mean() * 250 #get yearly returns(daily return x # of days a year). Market open roughly 250 days a year, so I do not use 365. "
   ]
  },
  {
   "cell_type": "code",
   "execution_count": 8,
   "metadata": {},
   "outputs": [
    {
     "data": {
      "text/html": [
       "<div>\n",
       "<style scoped>\n",
       "    .dataframe tbody tr th:only-of-type {\n",
       "        vertical-align: middle;\n",
       "    }\n",
       "\n",
       "    .dataframe tbody tr th {\n",
       "        vertical-align: top;\n",
       "    }\n",
       "\n",
       "    .dataframe thead th {\n",
       "        text-align: right;\n",
       "    }\n",
       "</style>\n",
       "<table border=\"1\" class=\"dataframe\">\n",
       "  <thead>\n",
       "    <tr style=\"text-align: right;\">\n",
       "      <th></th>\n",
       "      <th>AAPL</th>\n",
       "      <th>AMZN</th>\n",
       "      <th>GOOGL</th>\n",
       "    </tr>\n",
       "  </thead>\n",
       "  <tbody>\n",
       "    <tr>\n",
       "      <th>AAPL</th>\n",
       "      <td>0.134917</td>\n",
       "      <td>0.085831</td>\n",
       "      <td>0.086633</td>\n",
       "    </tr>\n",
       "    <tr>\n",
       "      <th>AMZN</th>\n",
       "      <td>0.085831</td>\n",
       "      <td>0.129670</td>\n",
       "      <td>0.076496</td>\n",
       "    </tr>\n",
       "    <tr>\n",
       "      <th>GOOGL</th>\n",
       "      <td>0.086633</td>\n",
       "      <td>0.076496</td>\n",
       "      <td>0.108663</td>\n",
       "    </tr>\n",
       "  </tbody>\n",
       "</table>\n",
       "</div>"
      ],
      "text/plain": [
       "           AAPL      AMZN     GOOGL\n",
       "AAPL   0.134917  0.085831  0.086633\n",
       "AMZN   0.085831  0.129670  0.076496\n",
       "GOOGL  0.086633  0.076496  0.108663"
      ]
     },
     "execution_count": 8,
     "metadata": {},
     "output_type": "execute_result"
    }
   ],
   "source": [
    "log_returns.cov() * 250 #get coveriance between each pair."
   ]
  },
  {
   "cell_type": "code",
   "execution_count": 9,
   "metadata": {},
   "outputs": [
    {
     "data": {
      "text/html": [
       "<div>\n",
       "<style scoped>\n",
       "    .dataframe tbody tr th:only-of-type {\n",
       "        vertical-align: middle;\n",
       "    }\n",
       "\n",
       "    .dataframe tbody tr th {\n",
       "        vertical-align: top;\n",
       "    }\n",
       "\n",
       "    .dataframe thead th {\n",
       "        text-align: right;\n",
       "    }\n",
       "</style>\n",
       "<table border=\"1\" class=\"dataframe\">\n",
       "  <thead>\n",
       "    <tr style=\"text-align: right;\">\n",
       "      <th></th>\n",
       "      <th>AAPL</th>\n",
       "      <th>AMZN</th>\n",
       "      <th>GOOGL</th>\n",
       "    </tr>\n",
       "  </thead>\n",
       "  <tbody>\n",
       "    <tr>\n",
       "      <th>AAPL</th>\n",
       "      <td>1.000000</td>\n",
       "      <td>0.648925</td>\n",
       "      <td>0.715501</td>\n",
       "    </tr>\n",
       "    <tr>\n",
       "      <th>AMZN</th>\n",
       "      <td>0.648925</td>\n",
       "      <td>1.000000</td>\n",
       "      <td>0.644436</td>\n",
       "    </tr>\n",
       "    <tr>\n",
       "      <th>GOOGL</th>\n",
       "      <td>0.715501</td>\n",
       "      <td>0.644436</td>\n",
       "      <td>1.000000</td>\n",
       "    </tr>\n",
       "  </tbody>\n",
       "</table>\n",
       "</div>"
      ],
      "text/plain": [
       "           AAPL      AMZN     GOOGL\n",
       "AAPL   1.000000  0.648925  0.715501\n",
       "AMZN   0.648925  1.000000  0.644436\n",
       "GOOGL  0.715501  0.644436  1.000000"
      ]
     },
     "execution_count": 9,
     "metadata": {},
     "output_type": "execute_result"
    }
   ],
   "source": [
    "log_returns.corr() #get correlation between each pair."
   ]
  },
  {
   "cell_type": "markdown",
   "metadata": {},
   "source": [
    "### Expected Portfolio Return:"
   ]
  },
  {
   "cell_type": "markdown",
   "metadata": {},
   "source": [
    "np.sum(weights * log_returns.mean()) * 250"
   ]
  },
  {
   "cell_type": "markdown",
   "metadata": {},
   "source": [
    "### Expected Portfolio Variance:"
   ]
  },
  {
   "cell_type": "markdown",
   "metadata": {},
   "source": [
    "np.dot(weights.T, np.dot(log_returns.cov() * 250, weights))"
   ]
  },
  {
   "cell_type": "markdown",
   "metadata": {},
   "source": [
    "### Expected Portfolio Volatility:"
   ]
  },
  {
   "cell_type": "markdown",
   "metadata": {},
   "source": [
    "np.sqrt(np.dot(weights.T,np.dot(log_returns.cov() * 250, weights)))"
   ]
  },
  {
   "cell_type": "markdown",
   "metadata": {},
   "source": [
    "***"
   ]
  },
  {
   "cell_type": "code",
   "execution_count": 10,
   "metadata": {},
   "outputs": [],
   "source": [
    "num_assets = len(assets)\n",
    "pfolio_returns = []\n",
    "pfolio_volatilities = []\n",
    "\n",
    "w_lst = []\n",
    "\n",
    "for i in range(num_assets):\n",
    "    w_lst.append([])\n",
    "\n",
    "# Followig generate the simulation\n",
    "for x in range (num_simulation):\n",
    "    weights = np.random.random(num_assets)\n",
    "    weights /= np.sum(weights)\n",
    "    for i in range(num_assets):\n",
    "        w_lst[i].append(weights[i])\n",
    "\n",
    "    pfolio_returns.append(np.sum(weights * log_returns.mean()) * 250)\n",
    "    pfolio_volatilities.append(np.sqrt(np.dot(weights.T,np.dot(log_returns.cov() * 250, weights))))\n",
    "    \n",
    "pfolio_returns = np.array(pfolio_returns)\n",
    "pfolio_volatilities = np.array(pfolio_volatilities)\n",
    "\n",
    "for i in range(num_assets):\n",
    "    w_lst[i] = np.array(w_lst[i])\n",
    "\n",
    "# pfolio_returns, pfolio_volatilities, w_lst[0], w_lst[1], w_lst[2]"
   ]
  },
  {
   "cell_type": "code",
   "execution_count": 11,
   "metadata": {},
   "outputs": [],
   "source": [
    "# build simulated portfolios.\n",
    "df_build = {'Return': pfolio_returns, 'Volatility': pfolio_volatilities}\n",
    "for w in range(num_assets):\n",
    "    df_build[assets[w]] = w_lst[w]\n",
    "portfolios = pd.DataFrame(df_build)"
   ]
  },
  {
   "cell_type": "code",
   "execution_count": 12,
   "metadata": {},
   "outputs": [
    {
     "data": {
      "text/html": [
       "<div>\n",
       "<style scoped>\n",
       "    .dataframe tbody tr th:only-of-type {\n",
       "        vertical-align: middle;\n",
       "    }\n",
       "\n",
       "    .dataframe tbody tr th {\n",
       "        vertical-align: top;\n",
       "    }\n",
       "\n",
       "    .dataframe thead th {\n",
       "        text-align: right;\n",
       "    }\n",
       "</style>\n",
       "<table border=\"1\" class=\"dataframe\">\n",
       "  <thead>\n",
       "    <tr style=\"text-align: right;\">\n",
       "      <th></th>\n",
       "      <th>Return</th>\n",
       "      <th>Volatility</th>\n",
       "      <th>AAPL</th>\n",
       "      <th>AMZN</th>\n",
       "      <th>GOOGL</th>\n",
       "    </tr>\n",
       "  </thead>\n",
       "  <tbody>\n",
       "    <tr>\n",
       "      <th>0</th>\n",
       "      <td>0.270153</td>\n",
       "      <td>0.342647</td>\n",
       "      <td>0.782440</td>\n",
       "      <td>0.189313</td>\n",
       "      <td>0.028247</td>\n",
       "    </tr>\n",
       "    <tr>\n",
       "      <th>1</th>\n",
       "      <td>0.241285</td>\n",
       "      <td>0.325418</td>\n",
       "      <td>0.588716</td>\n",
       "      <td>0.268939</td>\n",
       "      <td>0.142345</td>\n",
       "    </tr>\n",
       "    <tr>\n",
       "      <th>2</th>\n",
       "      <td>0.260847</td>\n",
       "      <td>0.319811</td>\n",
       "      <td>0.494733</td>\n",
       "      <td>0.064637</td>\n",
       "      <td>0.440630</td>\n",
       "    </tr>\n",
       "    <tr>\n",
       "      <th>3</th>\n",
       "      <td>0.195755</td>\n",
       "      <td>0.307903</td>\n",
       "      <td>0.153279</td>\n",
       "      <td>0.307826</td>\n",
       "      <td>0.538895</td>\n",
       "    </tr>\n",
       "    <tr>\n",
       "      <th>4</th>\n",
       "      <td>0.130693</td>\n",
       "      <td>0.328333</td>\n",
       "      <td>0.080878</td>\n",
       "      <td>0.730382</td>\n",
       "      <td>0.188740</td>\n",
       "    </tr>\n",
       "  </tbody>\n",
       "</table>\n",
       "</div>"
      ],
      "text/plain": [
       "     Return  Volatility      AAPL      AMZN     GOOGL\n",
       "0  0.270153    0.342647  0.782440  0.189313  0.028247\n",
       "1  0.241285    0.325418  0.588716  0.268939  0.142345\n",
       "2  0.260847    0.319811  0.494733  0.064637  0.440630\n",
       "3  0.195755    0.307903  0.153279  0.307826  0.538895\n",
       "4  0.130693    0.328333  0.080878  0.730382  0.188740"
      ]
     },
     "execution_count": 12,
     "metadata": {},
     "output_type": "execute_result"
    }
   ],
   "source": [
    "portfolios.head() #checking to see if any error"
   ]
  },
  {
   "cell_type": "code",
   "execution_count": 13,
   "metadata": {},
   "outputs": [
    {
     "data": {
      "text/html": [
       "<div>\n",
       "<style scoped>\n",
       "    .dataframe tbody tr th:only-of-type {\n",
       "        vertical-align: middle;\n",
       "    }\n",
       "\n",
       "    .dataframe tbody tr th {\n",
       "        vertical-align: top;\n",
       "    }\n",
       "\n",
       "    .dataframe thead th {\n",
       "        text-align: right;\n",
       "    }\n",
       "</style>\n",
       "<table border=\"1\" class=\"dataframe\">\n",
       "  <thead>\n",
       "    <tr style=\"text-align: right;\">\n",
       "      <th></th>\n",
       "      <th>Return</th>\n",
       "      <th>Volatility</th>\n",
       "      <th>AAPL</th>\n",
       "      <th>AMZN</th>\n",
       "      <th>GOOGL</th>\n",
       "    </tr>\n",
       "  </thead>\n",
       "  <tbody>\n",
       "    <tr>\n",
       "      <th>2995</th>\n",
       "      <td>0.122993</td>\n",
       "      <td>0.341350</td>\n",
       "      <td>0.144038</td>\n",
       "      <td>0.828265</td>\n",
       "      <td>0.027697</td>\n",
       "    </tr>\n",
       "    <tr>\n",
       "      <th>2996</th>\n",
       "      <td>0.175142</td>\n",
       "      <td>0.320595</td>\n",
       "      <td>0.299766</td>\n",
       "      <td>0.554781</td>\n",
       "      <td>0.145454</td>\n",
       "    </tr>\n",
       "    <tr>\n",
       "      <th>2997</th>\n",
       "      <td>0.264194</td>\n",
       "      <td>0.324376</td>\n",
       "      <td>0.589863</td>\n",
       "      <td>0.103903</td>\n",
       "      <td>0.306235</td>\n",
       "    </tr>\n",
       "    <tr>\n",
       "      <th>2998</th>\n",
       "      <td>0.146601</td>\n",
       "      <td>0.320883</td>\n",
       "      <td>0.118046</td>\n",
       "      <td>0.640058</td>\n",
       "      <td>0.241897</td>\n",
       "    </tr>\n",
       "    <tr>\n",
       "      <th>2999</th>\n",
       "      <td>0.213625</td>\n",
       "      <td>0.330788</td>\n",
       "      <td>0.551906</td>\n",
       "      <td>0.444552</td>\n",
       "      <td>0.003542</td>\n",
       "    </tr>\n",
       "  </tbody>\n",
       "</table>\n",
       "</div>"
      ],
      "text/plain": [
       "        Return  Volatility      AAPL      AMZN     GOOGL\n",
       "2995  0.122993    0.341350  0.144038  0.828265  0.027697\n",
       "2996  0.175142    0.320595  0.299766  0.554781  0.145454\n",
       "2997  0.264194    0.324376  0.589863  0.103903  0.306235\n",
       "2998  0.146601    0.320883  0.118046  0.640058  0.241897\n",
       "2999  0.213625    0.330788  0.551906  0.444552  0.003542"
      ]
     },
     "execution_count": 13,
     "metadata": {},
     "output_type": "execute_result"
    }
   ],
   "source": [
    "portfolios.tail() #checking to see if any error"
   ]
  },
  {
   "cell_type": "code",
   "execution_count": 14,
   "metadata": {},
   "outputs": [
    {
     "data": {
      "text/html": [
       "<div>\n",
       "<style scoped>\n",
       "    .dataframe tbody tr th:only-of-type {\n",
       "        vertical-align: middle;\n",
       "    }\n",
       "\n",
       "    .dataframe tbody tr th {\n",
       "        vertical-align: top;\n",
       "    }\n",
       "\n",
       "    .dataframe thead th {\n",
       "        text-align: right;\n",
       "    }\n",
       "</style>\n",
       "<table border=\"1\" class=\"dataframe\">\n",
       "  <thead>\n",
       "    <tr style=\"text-align: right;\">\n",
       "      <th></th>\n",
       "      <th>Return</th>\n",
       "      <th>Volatility</th>\n",
       "      <th>AAPL</th>\n",
       "      <th>AMZN</th>\n",
       "      <th>GOOGL</th>\n",
       "    </tr>\n",
       "  </thead>\n",
       "  <tbody>\n",
       "    <tr>\n",
       "      <th>318</th>\n",
       "      <td>0.197836</td>\n",
       "      <td>0.307844</td>\n",
       "      <td>0.179331</td>\n",
       "      <td>0.310153</td>\n",
       "      <td>0.510516</td>\n",
       "    </tr>\n",
       "    <tr>\n",
       "      <th>1193</th>\n",
       "      <td>0.195562</td>\n",
       "      <td>0.307848</td>\n",
       "      <td>0.165157</td>\n",
       "      <td>0.317152</td>\n",
       "      <td>0.517692</td>\n",
       "    </tr>\n",
       "    <tr>\n",
       "      <th>2966</th>\n",
       "      <td>0.194839</td>\n",
       "      <td>0.307859</td>\n",
       "      <td>0.169958</td>\n",
       "      <td>0.325589</td>\n",
       "      <td>0.504454</td>\n",
       "    </tr>\n",
       "    <tr>\n",
       "      <th>1950</th>\n",
       "      <td>0.198936</td>\n",
       "      <td>0.307885</td>\n",
       "      <td>0.193725</td>\n",
       "      <td>0.311802</td>\n",
       "      <td>0.494473</td>\n",
       "    </tr>\n",
       "    <tr>\n",
       "      <th>1034</th>\n",
       "      <td>0.193642</td>\n",
       "      <td>0.307888</td>\n",
       "      <td>0.168018</td>\n",
       "      <td>0.332960</td>\n",
       "      <td>0.499022</td>\n",
       "    </tr>\n",
       "    <tr>\n",
       "      <th>...</th>\n",
       "      <td>...</td>\n",
       "      <td>...</td>\n",
       "      <td>...</td>\n",
       "      <td>...</td>\n",
       "      <td>...</td>\n",
       "    </tr>\n",
       "    <tr>\n",
       "      <th>220</th>\n",
       "      <td>0.296709</td>\n",
       "      <td>0.356043</td>\n",
       "      <td>0.909899</td>\n",
       "      <td>0.082190</td>\n",
       "      <td>0.007912</td>\n",
       "    </tr>\n",
       "    <tr>\n",
       "      <th>1960</th>\n",
       "      <td>0.304158</td>\n",
       "      <td>0.356457</td>\n",
       "      <td>0.914753</td>\n",
       "      <td>0.031515</td>\n",
       "      <td>0.053731</td>\n",
       "    </tr>\n",
       "    <tr>\n",
       "      <th>2237</th>\n",
       "      <td>0.299898</td>\n",
       "      <td>0.357087</td>\n",
       "      <td>0.919301</td>\n",
       "      <td>0.065382</td>\n",
       "      <td>0.015317</td>\n",
       "    </tr>\n",
       "    <tr>\n",
       "      <th>739</th>\n",
       "      <td>0.307754</td>\n",
       "      <td>0.361271</td>\n",
       "      <td>0.953458</td>\n",
       "      <td>0.031323</td>\n",
       "      <td>0.015219</td>\n",
       "    </tr>\n",
       "    <tr>\n",
       "      <th>2775</th>\n",
       "      <td>0.311002</td>\n",
       "      <td>0.361877</td>\n",
       "      <td>0.958069</td>\n",
       "      <td>0.010892</td>\n",
       "      <td>0.031039</td>\n",
       "    </tr>\n",
       "  </tbody>\n",
       "</table>\n",
       "<p>3000 rows × 5 columns</p>\n",
       "</div>"
      ],
      "text/plain": [
       "        Return  Volatility      AAPL      AMZN     GOOGL\n",
       "318   0.197836    0.307844  0.179331  0.310153  0.510516\n",
       "1193  0.195562    0.307848  0.165157  0.317152  0.517692\n",
       "2966  0.194839    0.307859  0.169958  0.325589  0.504454\n",
       "1950  0.198936    0.307885  0.193725  0.311802  0.494473\n",
       "1034  0.193642    0.307888  0.168018  0.332960  0.499022\n",
       "...        ...         ...       ...       ...       ...\n",
       "220   0.296709    0.356043  0.909899  0.082190  0.007912\n",
       "1960  0.304158    0.356457  0.914753  0.031515  0.053731\n",
       "2237  0.299898    0.357087  0.919301  0.065382  0.015317\n",
       "739   0.307754    0.361271  0.953458  0.031323  0.015219\n",
       "2775  0.311002    0.361877  0.958069  0.010892  0.031039\n",
       "\n",
       "[3000 rows x 5 columns]"
      ]
     },
     "execution_count": 14,
     "metadata": {},
     "output_type": "execute_result"
    }
   ],
   "source": [
    "portfolios.sort_values(by=['Volatility']) # Sort by volatility. Theoretically the portfolio with lowest valatility is the best one."
   ]
  },
  {
   "cell_type": "code",
   "execution_count": 19,
   "metadata": {},
   "outputs": [
    {
     "data": {
      "text/plain": [
       "Text(0, 0.5, 'Expected Return')"
      ]
     },
     "execution_count": 19,
     "metadata": {},
     "output_type": "execute_result"
    },
    {
     "data": {
      "image/png": "[encoded data removed]",
      "text/plain": [
       "<Figure size 720x432 with 1 Axes>"
      ]
     },
     "metadata": {
      "needs_background": "light"
     },
     "output_type": "display_data"
    }
   ],
   "source": [
    "# check the plot\n",
    "portfolios.plot(x='Volatility', y='Return', kind='scatter', figsize=(10, 6), c = 'g');\n",
    "plt.xlabel('Expected Volatility')\n",
    "plt.ylabel('Expected Return')"
   ]
  },
  {
   "cell_type": "code",
   "execution_count": 16,
   "metadata": {},
   "outputs": [],
   "source": [
    "#generate path and name then export\n",
    "path = 'results/'\n",
    "name = '_'.join(assets)\n",
    "path_name = path + name  + '.csv'\n",
    "portfolios.sort_values(by=['Volatility']).to_csv(path_name)"
   ]
  },
  {
   "cell_type": "code",
   "execution_count": 17,
   "metadata": {},
   "outputs": [],
   "source": [
    "# calculation & output\n",
    "path_name2 = 'txt_results/' + name + '.txt'\n",
    "f = open(path_name2, \"a\")\n",
    "\n",
    "print(\"money amount calculation for demo use only, please don't simply invest on this results alone.\", file=f)\n",
    "\n",
    "sorted_portfolios = portfolios.sort_values(by=['Volatility']).head(1)\n",
    "\n",
    "# set money here \n",
    "total_investment = 50000\n",
    "print(\"Intend to invest ${:.2f}\".format(total_investment) + \" total.\", file=f)\n",
    "\n",
    "money_inv = []\n",
    "for i in range(num_assets):\n",
    "    inv = total_investment * sorted_portfolios[assets[i]].iloc[0]\n",
    "    money_inv.append(inv)\n",
    "    print(\"\\t{:.0f}\".format(money_inv[i] // pf_data.iloc[-1][i]) + \" shares should long in ticker:\" + assets[i], file=f)\n",
    "    print(\"\\t price @ ${:.2f} per share\".format(pf_data.iloc[-1][i]), file=f)\n",
    "    print(\"\\t invest in \" + assets[i] + \" for ${:.2f}\".format(inv) + \".\", file=f)\n",
    "    print(\"\\t  represents {:.1f}% of total investment\".format(sorted_portfolios[assets[i]].iloc[0] * 100), file=f)\n",
    "    \n",
    "print(\"Expected annual portfolio return is {:.1f}\".format(sorted_portfolios['Return'].iloc[0]*100) + \"%\", file=f)\n",
    "print(\"Expected annual portfolio volatility is {:.1f}\".format(sorted_portfolios['Volatility'].iloc[0]*100) + \"%\", file=f)\n",
    "\n",
    "f.close()"
   ]
  }
 ],
 "metadata": {
  "kernelspec": {
   "display_name": "Python 3 (ipykernel)",
   "language": "python",
   "name": "python3"
  },
  "language_info": {
   "codemirror_mode": {
    "name": "ipython",
    "version": 3
   },
   "file_extension": ".py",
   "mimetype": "text/x-python",
   "name": "python",
   "nbconvert_exporter": "python",
   "pygments_lexer": "ipython3",
   "version": "3.8.10"
  }
 },
 "nbformat": 4,
 "nbformat_minor": 2
}
