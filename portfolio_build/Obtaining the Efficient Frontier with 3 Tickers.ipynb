{
 "cells": [
  {
   "cell_type": "code",
   "execution_count": 18,
   "metadata": {},
   "outputs": [],
   "source": [
    "# This program is based on the Udemy course \"Python for Finance: Investment Fundamentals & Data Analytics\" \n",
    "# by Martin and Ned from 365\n",
    "# Link to the course: https://www.udemy.com/course/python-for-finance-investment-fundamentals-data-analytics/\n",
    "# This is a jupyter notebook file, better to run in jupyter notebook enviorment.\n",
    "# Author: Martin and Ned, 365 Team. \n",
    "# Updated by: Kuo L. 2022-02-02\n",
    "\n",
    "import numpy as np\n",
    "import pandas as pd\n",
    "from pandas_datareader import data as wb\n",
    "import matplotlib.pyplot as plt\n",
    "%matplotlib inline"
   ]
  },
  {
   "cell_type": "code",
   "execution_count": 19,
   "metadata": {},
   "outputs": [],
   "source": [
    "# It uses yahoo finance api to get close price for each ticker stock/ETF.\n",
    "# you can put more than 3 tickers, just note that the more tickers in, \n",
    "# the more calculation needed to plot efficient frontier. change num_simulation to a higher number as needed.\n",
    "\n",
    "num_simulation = 3000\n",
    "assets = ['AAPL','AMZN','GOOGL']\n",
    "pf_data = pd.DataFrame()\n",
    "\n",
    "for a in assets:\n",
    "    #you can chagne the start date to any date in 'yyyy-mm-dd' format.\n",
    "    pf_data[a] = wb.DataReader(a, data_source = 'yahoo', start = '2020-1-1')['Adj Close'] "
   ]
  },
  {
   "cell_type": "code",
   "execution_count": 20,
   "metadata": {},
   "outputs": [
    {
     "data": {
      "text/html": [
       "<div>\n",
       "<style scoped>\n",
       "    .dataframe tbody tr th:only-of-type {\n",
       "        vertical-align: middle;\n",
       "    }\n",
       "\n",
       "    .dataframe tbody tr th {\n",
       "        vertical-align: top;\n",
       "    }\n",
       "\n",
       "    .dataframe thead th {\n",
       "        text-align: right;\n",
       "    }\n",
       "</style>\n",
       "<table border=\"1\" class=\"dataframe\">\n",
       "  <thead>\n",
       "    <tr style=\"text-align: right;\">\n",
       "      <th></th>\n",
       "      <th>AAPL</th>\n",
       "      <th>AMZN</th>\n",
       "      <th>GOOGL</th>\n",
       "    </tr>\n",
       "    <tr>\n",
       "      <th>Date</th>\n",
       "      <th></th>\n",
       "      <th></th>\n",
       "      <th></th>\n",
       "    </tr>\n",
       "  </thead>\n",
       "  <tbody>\n",
       "    <tr>\n",
       "      <th>2020-01-02</th>\n",
       "      <td>73.785912</td>\n",
       "      <td>1898.010010</td>\n",
       "      <td>1368.680054</td>\n",
       "    </tr>\n",
       "    <tr>\n",
       "      <th>2020-01-03</th>\n",
       "      <td>73.068581</td>\n",
       "      <td>1874.969971</td>\n",
       "      <td>1361.520020</td>\n",
       "    </tr>\n",
       "    <tr>\n",
       "      <th>2020-01-06</th>\n",
       "      <td>73.650787</td>\n",
       "      <td>1902.880005</td>\n",
       "      <td>1397.810059</td>\n",
       "    </tr>\n",
       "    <tr>\n",
       "      <th>2020-01-07</th>\n",
       "      <td>73.304420</td>\n",
       "      <td>1906.859985</td>\n",
       "      <td>1395.109985</td>\n",
       "    </tr>\n",
       "    <tr>\n",
       "      <th>2020-01-08</th>\n",
       "      <td>74.483597</td>\n",
       "      <td>1891.969971</td>\n",
       "      <td>1405.040039</td>\n",
       "    </tr>\n",
       "  </tbody>\n",
       "</table>\n",
       "</div>"
      ],
      "text/plain": [
       "                 AAPL         AMZN        GOOGL\n",
       "Date                                           \n",
       "2020-01-02  73.785912  1898.010010  1368.680054\n",
       "2020-01-03  73.068581  1874.969971  1361.520020\n",
       "2020-01-06  73.650787  1902.880005  1397.810059\n",
       "2020-01-07  73.304420  1906.859985  1395.109985\n",
       "2020-01-08  74.483597  1891.969971  1405.040039"
      ]
     },
     "execution_count": 20,
     "metadata": {},
     "output_type": "execute_result"
    }
   ],
   "source": [
    "pf_data.head() #makre sure companies were public at starting date"
   ]
  },
  {
   "cell_type": "code",
   "execution_count": 21,
   "metadata": {},
   "outputs": [
    {
     "data": {
      "text/html": [
       "<div>\n",
       "<style scoped>\n",
       "    .dataframe tbody tr th:only-of-type {\n",
       "        vertical-align: middle;\n",
       "    }\n",
       "\n",
       "    .dataframe tbody tr th {\n",
       "        vertical-align: top;\n",
       "    }\n",
       "\n",
       "    .dataframe thead th {\n",
       "        text-align: right;\n",
       "    }\n",
       "</style>\n",
       "<table border=\"1\" class=\"dataframe\">\n",
       "  <thead>\n",
       "    <tr style=\"text-align: right;\">\n",
       "      <th></th>\n",
       "      <th>AAPL</th>\n",
       "      <th>AMZN</th>\n",
       "      <th>GOOGL</th>\n",
       "    </tr>\n",
       "    <tr>\n",
       "      <th>Date</th>\n",
       "      <th></th>\n",
       "      <th></th>\n",
       "      <th></th>\n",
       "    </tr>\n",
       "  </thead>\n",
       "  <tbody>\n",
       "    <tr>\n",
       "      <th>2022-05-11</th>\n",
       "      <td>146.500000</td>\n",
       "      <td>2107.439941</td>\n",
       "      <td>2272.050049</td>\n",
       "    </tr>\n",
       "    <tr>\n",
       "      <th>2022-05-12</th>\n",
       "      <td>142.559998</td>\n",
       "      <td>2138.610107</td>\n",
       "      <td>2256.879883</td>\n",
       "    </tr>\n",
       "    <tr>\n",
       "      <th>2022-05-13</th>\n",
       "      <td>147.110001</td>\n",
       "      <td>2261.100098</td>\n",
       "      <td>2321.010010</td>\n",
       "    </tr>\n",
       "    <tr>\n",
       "      <th>2022-05-16</th>\n",
       "      <td>145.539993</td>\n",
       "      <td>2216.209961</td>\n",
       "      <td>2288.899902</td>\n",
       "    </tr>\n",
       "    <tr>\n",
       "      <th>2022-05-17</th>\n",
       "      <td>148.125000</td>\n",
       "      <td>2257.106934</td>\n",
       "      <td>2318.510010</td>\n",
       "    </tr>\n",
       "  </tbody>\n",
       "</table>\n",
       "</div>"
      ],
      "text/plain": [
       "                  AAPL         AMZN        GOOGL\n",
       "Date                                            \n",
       "2022-05-11  146.500000  2107.439941  2272.050049\n",
       "2022-05-12  142.559998  2138.610107  2256.879883\n",
       "2022-05-13  147.110001  2261.100098  2321.010010\n",
       "2022-05-16  145.539993  2216.209961  2288.899902\n",
       "2022-05-17  148.125000  2257.106934  2318.510010"
      ]
     },
     "execution_count": 21,
     "metadata": {},
     "output_type": "execute_result"
    }
   ],
   "source": [
    "pf_data.tail() #check companies still open and public at ending date"
   ]
  },
  {
   "cell_type": "code",
   "execution_count": 22,
   "metadata": {},
   "outputs": [
    {
     "data": {
      "text/plain": [
       "<AxesSubplot:xlabel='Date'>"
      ]
     },
     "execution_count": 22,
     "metadata": {},
     "output_type": "execute_result"
    },
    {
     "data": {
      "image/png": "[encoded data removed]",
      "text/plain": [
       "<Figure size 720x360 with 1 Axes>"
      ]
     },
     "metadata": {
      "needs_background": "light"
     },
     "output_type": "display_data"
    }
   ],
   "source": [
    "(pf_data / pf_data.iloc[0] * 100).plot(figsize=(10, 5)) #Plot of company performance without considering dividends"
   ]
  },
  {
   "cell_type": "code",
   "execution_count": 23,
   "metadata": {},
   "outputs": [],
   "source": [
    "log_returns = np.log(pf_data / pf_data.shift(1)) #get average daily log returns"
   ]
  },
  {
   "cell_type": "code",
   "execution_count": 24,
   "metadata": {},
   "outputs": [
    {
     "data": {
      "text/plain": [
       "AAPL     0.291341\n",
       "AMZN     0.072441\n",
       "GOOGL    0.220350\n",
       "dtype: float64"
      ]
     },
     "execution_count": 24,
     "metadata": {},
     "output_type": "execute_result"
    }
   ],
   "source": [
    "log_returns.mean() * 250 #get yearly returns(daily return x # of days a year). Market open roughly 250 days a year, so I do not use 365. "
   ]
  },
  {
   "cell_type": "code",
   "execution_count": 25,
   "metadata": {},
   "outputs": [
    {
     "data": {
      "text/html": [
       "<div>\n",
       "<style scoped>\n",
       "    .dataframe tbody tr th:only-of-type {\n",
       "        vertical-align: middle;\n",
       "    }\n",
       "\n",
       "    .dataframe tbody tr th {\n",
       "        vertical-align: top;\n",
       "    }\n",
       "\n",
       "    .dataframe thead th {\n",
       "        text-align: right;\n",
       "    }\n",
       "</style>\n",
       "<table border=\"1\" class=\"dataframe\">\n",
       "  <thead>\n",
       "    <tr style=\"text-align: right;\">\n",
       "      <th></th>\n",
       "      <th>AAPL</th>\n",
       "      <th>AMZN</th>\n",
       "      <th>GOOGL</th>\n",
       "    </tr>\n",
       "  </thead>\n",
       "  <tbody>\n",
       "    <tr>\n",
       "      <th>AAPL</th>\n",
       "      <td>0.135570</td>\n",
       "      <td>0.086737</td>\n",
       "      <td>0.086560</td>\n",
       "    </tr>\n",
       "    <tr>\n",
       "      <th>AMZN</th>\n",
       "      <td>0.086737</td>\n",
       "      <td>0.131277</td>\n",
       "      <td>0.076955</td>\n",
       "    </tr>\n",
       "    <tr>\n",
       "      <th>GOOGL</th>\n",
       "      <td>0.086560</td>\n",
       "      <td>0.076955</td>\n",
       "      <td>0.108071</td>\n",
       "    </tr>\n",
       "  </tbody>\n",
       "</table>\n",
       "</div>"
      ],
      "text/plain": [
       "           AAPL      AMZN     GOOGL\n",
       "AAPL   0.135570  0.086737  0.086560\n",
       "AMZN   0.086737  0.131277  0.076955\n",
       "GOOGL  0.086560  0.076955  0.108071"
      ]
     },
     "execution_count": 25,
     "metadata": {},
     "output_type": "execute_result"
    }
   ],
   "source": [
    "log_returns.cov() * 250 #get coveriance between each pair."
   ]
  },
  {
   "cell_type": "code",
   "execution_count": 26,
   "metadata": {},
   "outputs": [
    {
     "data": {
      "text/html": [
       "<div>\n",
       "<style scoped>\n",
       "    .dataframe tbody tr th:only-of-type {\n",
       "        vertical-align: middle;\n",
       "    }\n",
       "\n",
       "    .dataframe tbody tr th {\n",
       "        vertical-align: top;\n",
       "    }\n",
       "\n",
       "    .dataframe thead th {\n",
       "        text-align: right;\n",
       "    }\n",
       "</style>\n",
       "<table border=\"1\" class=\"dataframe\">\n",
       "  <thead>\n",
       "    <tr style=\"text-align: right;\">\n",
       "      <th></th>\n",
       "      <th>AAPL</th>\n",
       "      <th>AMZN</th>\n",
       "      <th>GOOGL</th>\n",
       "    </tr>\n",
       "  </thead>\n",
       "  <tbody>\n",
       "    <tr>\n",
       "      <th>AAPL</th>\n",
       "      <td>1.000000</td>\n",
       "      <td>0.65017</td>\n",
       "      <td>0.715122</td>\n",
       "    </tr>\n",
       "    <tr>\n",
       "      <th>AMZN</th>\n",
       "      <td>0.650170</td>\n",
       "      <td>1.00000</td>\n",
       "      <td>0.646080</td>\n",
       "    </tr>\n",
       "    <tr>\n",
       "      <th>GOOGL</th>\n",
       "      <td>0.715122</td>\n",
       "      <td>0.64608</td>\n",
       "      <td>1.000000</td>\n",
       "    </tr>\n",
       "  </tbody>\n",
       "</table>\n",
       "</div>"
      ],
      "text/plain": [
       "           AAPL     AMZN     GOOGL\n",
       "AAPL   1.000000  0.65017  0.715122\n",
       "AMZN   0.650170  1.00000  0.646080\n",
       "GOOGL  0.715122  0.64608  1.000000"
      ]
     },
     "execution_count": 26,
     "metadata": {},
     "output_type": "execute_result"
    }
   ],
   "source": [
    "log_returns.corr() #get correlation between each pair."
   ]
  },
  {
   "cell_type": "markdown",
   "metadata": {},
   "source": [
    "### Expected Portfolio Return:"
   ]
  },
  {
   "cell_type": "markdown",
   "metadata": {},
   "source": [
    "np.sum(weights * log_returns.mean()) * 250"
   ]
  },
  {
   "cell_type": "markdown",
   "metadata": {},
   "source": [
    "### Expected Portfolio Variance:"
   ]
  },
  {
   "cell_type": "markdown",
   "metadata": {},
   "source": [
    "np.dot(weights.T, np.dot(log_returns.cov() * 250, weights))"
   ]
  },
  {
   "cell_type": "markdown",
   "metadata": {},
   "source": [
    "### Expected Portfolio Volatility:"
   ]
  },
  {
   "cell_type": "markdown",
   "metadata": {},
   "source": [
    "np.sqrt(np.dot(weights.T,np.dot(log_returns.cov() * 250, weights)))"
   ]
  },
  {
   "cell_type": "markdown",
   "metadata": {},
   "source": [
    "***"
   ]
  },
  {
   "cell_type": "code",
   "execution_count": 27,
   "metadata": {},
   "outputs": [],
   "source": [
    "num_assets = len(assets)\n",
    "pfolio_returns = []\n",
    "pfolio_volatilities = []\n",
    "\n",
    "w_lst = []\n",
    "\n",
    "for i in range(num_assets):\n",
    "    w_lst.append([])\n",
    "\n",
    "# Followig generate the simulation\n",
    "for x in range (num_simulation):\n",
    "    weights = np.random.random(num_assets)\n",
    "    weights /= np.sum(weights)\n",
    "    for i in range(num_assets):\n",
    "        w_lst[i].append(weights[i])\n",
    "\n",
    "    pfolio_returns.append(np.sum(weights * log_returns.mean()) * 250)\n",
    "    pfolio_volatilities.append(np.sqrt(np.dot(weights.T,np.dot(log_returns.cov() * 250, weights))))\n",
    "    \n",
    "pfolio_returns = np.array(pfolio_returns)\n",
    "pfolio_volatilities = np.array(pfolio_volatilities)\n",
    "\n",
    "for i in range(num_assets):\n",
    "    w_lst[i] = np.array(w_lst[i])\n",
    "\n",
    "# pfolio_returns, pfolio_volatilities, w_lst[0], w_lst[1], w_lst[2]"
   ]
  },
  {
   "cell_type": "code",
   "execution_count": 28,
   "metadata": {},
   "outputs": [],
   "source": [
    "# build simulated portfolios.\n",
    "df_build = {'Return': pfolio_returns, 'Volatility': pfolio_volatilities}\n",
    "for w in range(num_assets):\n",
    "    df_build[assets[w]] = w_lst[w]\n",
    "portfolios = pd.DataFrame(df_build)"
   ]
  },
  {
   "cell_type": "code",
   "execution_count": 29,
   "metadata": {},
   "outputs": [
    {
     "data": {
      "text/html": [
       "<div>\n",
       "<style scoped>\n",
       "    .dataframe tbody tr th:only-of-type {\n",
       "        vertical-align: middle;\n",
       "    }\n",
       "\n",
       "    .dataframe tbody tr th {\n",
       "        vertical-align: top;\n",
       "    }\n",
       "\n",
       "    .dataframe thead th {\n",
       "        text-align: right;\n",
       "    }\n",
       "</style>\n",
       "<table border=\"1\" class=\"dataframe\">\n",
       "  <thead>\n",
       "    <tr style=\"text-align: right;\">\n",
       "      <th></th>\n",
       "      <th>Return</th>\n",
       "      <th>Volatility</th>\n",
       "      <th>AAPL</th>\n",
       "      <th>AMZN</th>\n",
       "      <th>GOOGL</th>\n",
       "    </tr>\n",
       "  </thead>\n",
       "  <tbody>\n",
       "    <tr>\n",
       "      <th>0</th>\n",
       "      <td>0.174007</td>\n",
       "      <td>0.327414</td>\n",
       "      <td>0.428268</td>\n",
       "      <td>0.518873</td>\n",
       "      <td>0.052858</td>\n",
       "    </tr>\n",
       "    <tr>\n",
       "      <th>1</th>\n",
       "      <td>0.206005</td>\n",
       "      <td>0.309393</td>\n",
       "      <td>0.272144</td>\n",
       "      <td>0.227603</td>\n",
       "      <td>0.500252</td>\n",
       "    </tr>\n",
       "    <tr>\n",
       "      <th>2</th>\n",
       "      <td>0.250126</td>\n",
       "      <td>0.330211</td>\n",
       "      <td>0.658604</td>\n",
       "      <td>0.114797</td>\n",
       "      <td>0.226599</td>\n",
       "    </tr>\n",
       "    <tr>\n",
       "      <th>3</th>\n",
       "      <td>0.208103</td>\n",
       "      <td>0.313169</td>\n",
       "      <td>0.391221</td>\n",
       "      <td>0.270577</td>\n",
       "      <td>0.338202</td>\n",
       "    </tr>\n",
       "    <tr>\n",
       "      <th>4</th>\n",
       "      <td>0.155710</td>\n",
       "      <td>0.311448</td>\n",
       "      <td>0.034635</td>\n",
       "      <td>0.453651</td>\n",
       "      <td>0.511714</td>\n",
       "    </tr>\n",
       "  </tbody>\n",
       "</table>\n",
       "</div>"
      ],
      "text/plain": [
       "     Return  Volatility      AAPL      AMZN     GOOGL\n",
       "0  0.174007    0.327414  0.428268  0.518873  0.052858\n",
       "1  0.206005    0.309393  0.272144  0.227603  0.500252\n",
       "2  0.250126    0.330211  0.658604  0.114797  0.226599\n",
       "3  0.208103    0.313169  0.391221  0.270577  0.338202\n",
       "4  0.155710    0.311448  0.034635  0.453651  0.511714"
      ]
     },
     "execution_count": 29,
     "metadata": {},
     "output_type": "execute_result"
    }
   ],
   "source": [
    "portfolios.head() #checking to see if any error"
   ]
  },
  {
   "cell_type": "code",
   "execution_count": 30,
   "metadata": {},
   "outputs": [
    {
     "data": {
      "text/html": [
       "<div>\n",
       "<style scoped>\n",
       "    .dataframe tbody tr th:only-of-type {\n",
       "        vertical-align: middle;\n",
       "    }\n",
       "\n",
       "    .dataframe tbody tr th {\n",
       "        vertical-align: top;\n",
       "    }\n",
       "\n",
       "    .dataframe thead th {\n",
       "        text-align: right;\n",
       "    }\n",
       "</style>\n",
       "<table border=\"1\" class=\"dataframe\">\n",
       "  <thead>\n",
       "    <tr style=\"text-align: right;\">\n",
       "      <th></th>\n",
       "      <th>Return</th>\n",
       "      <th>Volatility</th>\n",
       "      <th>AAPL</th>\n",
       "      <th>AMZN</th>\n",
       "      <th>GOOGL</th>\n",
       "    </tr>\n",
       "  </thead>\n",
       "  <tbody>\n",
       "    <tr>\n",
       "      <th>2995</th>\n",
       "      <td>0.193575</td>\n",
       "      <td>0.331027</td>\n",
       "      <td>0.541645</td>\n",
       "      <td>0.440994</td>\n",
       "      <td>0.017361</td>\n",
       "    </tr>\n",
       "    <tr>\n",
       "      <th>2996</th>\n",
       "      <td>0.190889</td>\n",
       "      <td>0.308929</td>\n",
       "      <td>0.124698</td>\n",
       "      <td>0.259037</td>\n",
       "      <td>0.616265</td>\n",
       "    </tr>\n",
       "    <tr>\n",
       "      <th>2997</th>\n",
       "      <td>0.181008</td>\n",
       "      <td>0.313622</td>\n",
       "      <td>0.307839</td>\n",
       "      <td>0.413741</td>\n",
       "      <td>0.278420</td>\n",
       "    </tr>\n",
       "    <tr>\n",
       "      <th>2998</th>\n",
       "      <td>0.223242</td>\n",
       "      <td>0.312931</td>\n",
       "      <td>0.380984</td>\n",
       "      <td>0.163310</td>\n",
       "      <td>0.455705</td>\n",
       "    </tr>\n",
       "    <tr>\n",
       "      <th>2999</th>\n",
       "      <td>0.159664</td>\n",
       "      <td>0.317208</td>\n",
       "      <td>0.240674</td>\n",
       "      <td>0.525805</td>\n",
       "      <td>0.233521</td>\n",
       "    </tr>\n",
       "  </tbody>\n",
       "</table>\n",
       "</div>"
      ],
      "text/plain": [
       "        Return  Volatility      AAPL      AMZN     GOOGL\n",
       "2995  0.193575    0.331027  0.541645  0.440994  0.017361\n",
       "2996  0.190889    0.308929  0.124698  0.259037  0.616265\n",
       "2997  0.181008    0.313622  0.307839  0.413741  0.278420\n",
       "2998  0.223242    0.312931  0.380984  0.163310  0.455705\n",
       "2999  0.159664    0.317208  0.240674  0.525805  0.233521"
      ]
     },
     "execution_count": 30,
     "metadata": {},
     "output_type": "execute_result"
    }
   ],
   "source": [
    "portfolios.tail() #checking to see if any error"
   ]
  },
  {
   "cell_type": "code",
   "execution_count": 31,
   "metadata": {},
   "outputs": [
    {
     "data": {
      "text/html": [
       "<div>\n",
       "<style scoped>\n",
       "    .dataframe tbody tr th:only-of-type {\n",
       "        vertical-align: middle;\n",
       "    }\n",
       "\n",
       "    .dataframe tbody tr th {\n",
       "        vertical-align: top;\n",
       "    }\n",
       "\n",
       "    .dataframe thead th {\n",
       "        text-align: right;\n",
       "    }\n",
       "</style>\n",
       "<table border=\"1\" class=\"dataframe\">\n",
       "  <thead>\n",
       "    <tr style=\"text-align: right;\">\n",
       "      <th></th>\n",
       "      <th>Return</th>\n",
       "      <th>Volatility</th>\n",
       "      <th>AAPL</th>\n",
       "      <th>AMZN</th>\n",
       "      <th>GOOGL</th>\n",
       "    </tr>\n",
       "  </thead>\n",
       "  <tbody>\n",
       "    <tr>\n",
       "      <th>429</th>\n",
       "      <td>0.188206</td>\n",
       "      <td>0.308236</td>\n",
       "      <td>0.167839</td>\n",
       "      <td>0.297883</td>\n",
       "      <td>0.534278</td>\n",
       "    </tr>\n",
       "    <tr>\n",
       "      <th>1917</th>\n",
       "      <td>0.188451</td>\n",
       "      <td>0.308239</td>\n",
       "      <td>0.179417</td>\n",
       "      <td>0.301779</td>\n",
       "      <td>0.518804</td>\n",
       "    </tr>\n",
       "    <tr>\n",
       "      <th>1423</th>\n",
       "      <td>0.186515</td>\n",
       "      <td>0.308243</td>\n",
       "      <td>0.159992</td>\n",
       "      <td>0.305545</td>\n",
       "      <td>0.534463</td>\n",
       "    </tr>\n",
       "    <tr>\n",
       "      <th>841</th>\n",
       "      <td>0.188072</td>\n",
       "      <td>0.308245</td>\n",
       "      <td>0.180247</td>\n",
       "      <td>0.304740</td>\n",
       "      <td>0.515012</td>\n",
       "    </tr>\n",
       "    <tr>\n",
       "      <th>2003</th>\n",
       "      <td>0.189850</td>\n",
       "      <td>0.308247</td>\n",
       "      <td>0.174738</td>\n",
       "      <td>0.290078</td>\n",
       "      <td>0.535184</td>\n",
       "    </tr>\n",
       "    <tr>\n",
       "      <th>...</th>\n",
       "      <td>...</td>\n",
       "      <td>...</td>\n",
       "      <td>...</td>\n",
       "      <td>...</td>\n",
       "      <td>...</td>\n",
       "    </tr>\n",
       "    <tr>\n",
       "      <th>1240</th>\n",
       "      <td>0.080337</td>\n",
       "      <td>0.356774</td>\n",
       "      <td>0.023464</td>\n",
       "      <td>0.957877</td>\n",
       "      <td>0.018659</td>\n",
       "    </tr>\n",
       "    <tr>\n",
       "      <th>1427</th>\n",
       "      <td>0.274781</td>\n",
       "      <td>0.358224</td>\n",
       "      <td>0.920258</td>\n",
       "      <td>0.073691</td>\n",
       "      <td>0.006050</td>\n",
       "    </tr>\n",
       "    <tr>\n",
       "      <th>838</th>\n",
       "      <td>0.279933</td>\n",
       "      <td>0.358552</td>\n",
       "      <td>0.924758</td>\n",
       "      <td>0.041018</td>\n",
       "      <td>0.034223</td>\n",
       "    </tr>\n",
       "    <tr>\n",
       "      <th>2417</th>\n",
       "      <td>0.275739</td>\n",
       "      <td>0.358555</td>\n",
       "      <td>0.923272</td>\n",
       "      <td>0.068658</td>\n",
       "      <td>0.008070</td>\n",
       "    </tr>\n",
       "    <tr>\n",
       "      <th>2237</th>\n",
       "      <td>0.074785</td>\n",
       "      <td>0.360367</td>\n",
       "      <td>0.004131</td>\n",
       "      <td>0.986131</td>\n",
       "      <td>0.009739</td>\n",
       "    </tr>\n",
       "  </tbody>\n",
       "</table>\n",
       "<p>3000 rows × 5 columns</p>\n",
       "</div>"
      ],
      "text/plain": [
       "        Return  Volatility      AAPL      AMZN     GOOGL\n",
       "429   0.188206    0.308236  0.167839  0.297883  0.534278\n",
       "1917  0.188451    0.308239  0.179417  0.301779  0.518804\n",
       "1423  0.186515    0.308243  0.159992  0.305545  0.534463\n",
       "841   0.188072    0.308245  0.180247  0.304740  0.515012\n",
       "2003  0.189850    0.308247  0.174738  0.290078  0.535184\n",
       "...        ...         ...       ...       ...       ...\n",
       "1240  0.080337    0.356774  0.023464  0.957877  0.018659\n",
       "1427  0.274781    0.358224  0.920258  0.073691  0.006050\n",
       "838   0.279933    0.358552  0.924758  0.041018  0.034223\n",
       "2417  0.275739    0.358555  0.923272  0.068658  0.008070\n",
       "2237  0.074785    0.360367  0.004131  0.986131  0.009739\n",
       "\n",
       "[3000 rows x 5 columns]"
      ]
     },
     "execution_count": 31,
     "metadata": {},
     "output_type": "execute_result"
    }
   ],
   "source": [
    "portfolios.sort_values(by=['Volatility']) # Sort by volatility. Theoretically the portfolio with lowest valatility is the best one."
   ]
  },
  {
   "cell_type": "code",
   "execution_count": 32,
   "metadata": {},
   "outputs": [
    {
     "data": {
      "text/plain": [
       "Text(0, 0.5, 'Expected Return')"
      ]
     },
     "execution_count": 32,
     "metadata": {},
     "output_type": "execute_result"
    },
    {
     "data": {
      "image/png": "[encoded data removed]",
      "text/plain": [
       "<Figure size 720x432 with 1 Axes>"
      ]
     },
     "metadata": {
      "needs_background": "light"
     },
     "output_type": "display_data"
    }
   ],
   "source": [
    "# check the plot\n",
    "portfolios.plot(x='Volatility', y='Return', kind='scatter', figsize=(10, 6), c = 'g');\n",
    "plt.xlabel('Expected Volatility')\n",
    "plt.ylabel('Expected Return')"
   ]
  },
  {
   "cell_type": "code",
   "execution_count": 33,
   "metadata": {},
   "outputs": [],
   "source": [
    "#generate path and name then export\n",
    "path = 'csv_results/'\n",
    "name = '_'.join(assets)\n",
    "path_name = path + name  + '.csv'\n",
    "portfolios.sort_values(by=['Volatility']).to_csv(path_name)"
   ]
  },
  {
   "cell_type": "code",
   "execution_count": 34,
   "metadata": {},
   "outputs": [],
   "source": [
    "# calculation & output\n",
    "path_name2 = 'txt_results/' + name + '.txt'\n",
    "f = open(path_name2, \"a\")\n",
    "\n",
    "print(\"money amount calculation for demo use only, please don't simply invest on this results alone.\", file=f)\n",
    "\n",
    "sorted_portfolios = portfolios.sort_values(by=['Volatility']).head(1)\n",
    "\n",
    "# set money here \n",
    "total_investment = 50000\n",
    "print(\"Intend to invest ${:.2f}\".format(total_investment) + \" total.\", file=f)\n",
    "\n",
    "money_inv = []\n",
    "for i in range(num_assets):\n",
    "    inv = total_investment * sorted_portfolios[assets[i]].iloc[0]\n",
    "    money_inv.append(inv)\n",
    "    print(\"\\t{:.0f}\".format(money_inv[i] // pf_data.iloc[-1][i]) + \" shares should long in ticker:\" + assets[i], file=f)\n",
    "    print(\"\\t price @ ${:.2f} per share\".format(pf_data.iloc[-1][i]), file=f)\n",
    "    print(\"\\t invest in \" + assets[i] + \" for ${:.2f}\".format(inv) + \".\", file=f)\n",
    "    print(\"\\t  represents {:.1f}% of total investment\".format(sorted_portfolios[assets[i]].iloc[0] * 100), file=f)\n",
    "    \n",
    "print(\"Expected annual portfolio return is {:.1f}\".format(sorted_portfolios['Return'].iloc[0]*100) + \"%\", file=f)\n",
    "print(\"Expected annual portfolio volatility is {:.1f}\".format(sorted_portfolios['Volatility'].iloc[0]*100) + \"%\", file=f)\n",
    "\n",
    "f.close()"
   ]
  }
 ],
 "metadata": {
  "interpreter": {
   "hash": "2168721610e37bc7f61df443ec5b0e4c0f19b4815a2a65d59e426b62ab5678c1"
  },
  "kernelspec": {
   "display_name": "Python 3.9.7 ('base')",
   "language": "python",
   "name": "python3"
  },
  "language_info": {
   "codemirror_mode": {
    "name": "ipython",
    "version": 3
   },
   "file_extension": ".py",
   "mimetype": "text/x-python",
   "name": "python",
   "nbconvert_exporter": "python",
   "pygments_lexer": "ipython3",
   "version": "3.9.7"
  }
 },
 "nbformat": 4,
 "nbformat_minor": 2
}
