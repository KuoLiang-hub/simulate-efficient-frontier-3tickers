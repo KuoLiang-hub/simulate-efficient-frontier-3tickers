{
 "cells": [
  {
   "cell_type": "code",
   "execution_count": 1,
   "metadata": {},
   "outputs": [],
   "source": [
    "# This script compares performance against the market index. \n",
    "# Updated by: Kuo L. 2022-05-02\n",
    "\n",
    "import numpy as np\n",
    "import pandas as pd\n",
    "from pandas_datareader import data as wb\n",
    "import matplotlib.pyplot as plt\n",
    "%matplotlib inline"
   ]
  },
  {
   "cell_type": "code",
   "execution_count": 2,
   "metadata": {},
   "outputs": [],
   "source": [
    "# Using pands-datareader module to connect to  yahoo finance api \n",
    "# to get close price for each ticker stock/ETF.\n",
    "# for Market Index: NASDAQ Composite (^IXIC), \n",
    "#                   S&P 500 (^GSPC), \n",
    "#                   Dow Jones Industrial Average (^DJI)\n",
    "#                   Russell 2000 (^RUT)\n",
    "\n",
    "market_inx = '^GSPC' # ^GSPC for S&P 500\n",
    "assets = [market_inx, 'AAPL','AMZN','GOOGL', 'DVN']\n",
    "start_date = '2020-1-1'\n",
    "pf_data = pd.DataFrame()\n",
    "\n",
    "for a in assets:\n",
    "    #you can chagne the start date to any date in 'yyyy-mm-dd' format.\n",
    "    pf_data[a] = wb.DataReader(a, data_source = 'yahoo', start = start_date)['Adj Close'] "
   ]
  },
  {
   "cell_type": "code",
   "execution_count": 3,
   "metadata": {},
   "outputs": [
    {
     "data": {
      "text/html": [
       "<div>\n",
       "<style scoped>\n",
       "    .dataframe tbody tr th:only-of-type {\n",
       "        vertical-align: middle;\n",
       "    }\n",
       "\n",
       "    .dataframe tbody tr th {\n",
       "        vertical-align: top;\n",
       "    }\n",
       "\n",
       "    .dataframe thead th {\n",
       "        text-align: right;\n",
       "    }\n",
       "</style>\n",
       "<table border=\"1\" class=\"dataframe\">\n",
       "  <thead>\n",
       "    <tr style=\"text-align: right;\">\n",
       "      <th></th>\n",
       "      <th>^GSPC</th>\n",
       "      <th>AAPL</th>\n",
       "      <th>AMZN</th>\n",
       "      <th>GOOGL</th>\n",
       "      <th>DVN</th>\n",
       "    </tr>\n",
       "    <tr>\n",
       "      <th>Date</th>\n",
       "      <th></th>\n",
       "      <th></th>\n",
       "      <th></th>\n",
       "      <th></th>\n",
       "      <th></th>\n",
       "    </tr>\n",
       "  </thead>\n",
       "  <tbody>\n",
       "    <tr>\n",
       "      <th>2020-01-02</th>\n",
       "      <td>3257.850098</td>\n",
       "      <td>73.785919</td>\n",
       "      <td>94.900497</td>\n",
       "      <td>1368.680054</td>\n",
       "      <td>22.118767</td>\n",
       "    </tr>\n",
       "    <tr>\n",
       "      <th>2020-01-03</th>\n",
       "      <td>3234.850098</td>\n",
       "      <td>73.068573</td>\n",
       "      <td>93.748497</td>\n",
       "      <td>1361.520020</td>\n",
       "      <td>22.384640</td>\n",
       "    </tr>\n",
       "    <tr>\n",
       "      <th>2020-01-06</th>\n",
       "      <td>3246.280029</td>\n",
       "      <td>73.650787</td>\n",
       "      <td>95.143997</td>\n",
       "      <td>1397.810059</td>\n",
       "      <td>22.650507</td>\n",
       "    </tr>\n",
       "    <tr>\n",
       "      <th>2020-01-07</th>\n",
       "      <td>3237.179932</td>\n",
       "      <td>73.304413</td>\n",
       "      <td>95.343002</td>\n",
       "      <td>1395.109985</td>\n",
       "      <td>22.719122</td>\n",
       "    </tr>\n",
       "    <tr>\n",
       "      <th>2020-01-08</th>\n",
       "      <td>3253.050049</td>\n",
       "      <td>74.483612</td>\n",
       "      <td>94.598503</td>\n",
       "      <td>1405.040039</td>\n",
       "      <td>21.912931</td>\n",
       "    </tr>\n",
       "  </tbody>\n",
       "</table>\n",
       "</div>"
      ],
      "text/plain": [
       "                  ^GSPC       AAPL       AMZN        GOOGL        DVN\n",
       "Date                                                                 \n",
       "2020-01-02  3257.850098  73.785919  94.900497  1368.680054  22.118767\n",
       "2020-01-03  3234.850098  73.068573  93.748497  1361.520020  22.384640\n",
       "2020-01-06  3246.280029  73.650787  95.143997  1397.810059  22.650507\n",
       "2020-01-07  3237.179932  73.304413  95.343002  1395.109985  22.719122\n",
       "2020-01-08  3253.050049  74.483612  94.598503  1405.040039  21.912931"
      ]
     },
     "execution_count": 3,
     "metadata": {},
     "output_type": "execute_result"
    }
   ],
   "source": [
    "pf_data.head() #makre sure companies were public at starting date"
   ]
  },
  {
   "cell_type": "code",
   "execution_count": 4,
   "metadata": {},
   "outputs": [
    {
     "data": {
      "text/html": [
       "<div>\n",
       "<style scoped>\n",
       "    .dataframe tbody tr th:only-of-type {\n",
       "        vertical-align: middle;\n",
       "    }\n",
       "\n",
       "    .dataframe tbody tr th {\n",
       "        vertical-align: top;\n",
       "    }\n",
       "\n",
       "    .dataframe thead th {\n",
       "        text-align: right;\n",
       "    }\n",
       "</style>\n",
       "<table border=\"1\" class=\"dataframe\">\n",
       "  <thead>\n",
       "    <tr style=\"text-align: right;\">\n",
       "      <th></th>\n",
       "      <th>^GSPC</th>\n",
       "      <th>AAPL</th>\n",
       "      <th>AMZN</th>\n",
       "      <th>GOOGL</th>\n",
       "      <th>DVN</th>\n",
       "    </tr>\n",
       "    <tr>\n",
       "      <th>Date</th>\n",
       "      <th></th>\n",
       "      <th></th>\n",
       "      <th></th>\n",
       "      <th></th>\n",
       "      <th></th>\n",
       "    </tr>\n",
       "  </thead>\n",
       "  <tbody>\n",
       "    <tr>\n",
       "      <th>2022-07-05</th>\n",
       "      <td>3831.389893</td>\n",
       "      <td>141.559998</td>\n",
       "      <td>113.500000</td>\n",
       "      <td>2265.260010</td>\n",
       "      <td>51.889999</td>\n",
       "    </tr>\n",
       "    <tr>\n",
       "      <th>2022-07-06</th>\n",
       "      <td>3845.080078</td>\n",
       "      <td>142.919998</td>\n",
       "      <td>114.330002</td>\n",
       "      <td>2291.439941</td>\n",
       "      <td>51.000000</td>\n",
       "    </tr>\n",
       "    <tr>\n",
       "      <th>2022-07-07</th>\n",
       "      <td>3902.620117</td>\n",
       "      <td>146.350006</td>\n",
       "      <td>116.330002</td>\n",
       "      <td>2375.659912</td>\n",
       "      <td>53.669998</td>\n",
       "    </tr>\n",
       "    <tr>\n",
       "      <th>2022-07-08</th>\n",
       "      <td>3899.379883</td>\n",
       "      <td>147.039993</td>\n",
       "      <td>115.540001</td>\n",
       "      <td>2387.070068</td>\n",
       "      <td>54.480000</td>\n",
       "    </tr>\n",
       "    <tr>\n",
       "      <th>2022-07-11</th>\n",
       "      <td>3862.149902</td>\n",
       "      <td>145.510101</td>\n",
       "      <td>112.805000</td>\n",
       "      <td>2326.330078</td>\n",
       "      <td>53.160000</td>\n",
       "    </tr>\n",
       "  </tbody>\n",
       "</table>\n",
       "</div>"
      ],
      "text/plain": [
       "                  ^GSPC        AAPL        AMZN        GOOGL        DVN\n",
       "Date                                                                   \n",
       "2022-07-05  3831.389893  141.559998  113.500000  2265.260010  51.889999\n",
       "2022-07-06  3845.080078  142.919998  114.330002  2291.439941  51.000000\n",
       "2022-07-07  3902.620117  146.350006  116.330002  2375.659912  53.669998\n",
       "2022-07-08  3899.379883  147.039993  115.540001  2387.070068  54.480000\n",
       "2022-07-11  3862.149902  145.510101  112.805000  2326.330078  53.160000"
      ]
     },
     "execution_count": 4,
     "metadata": {},
     "output_type": "execute_result"
    }
   ],
   "source": [
    "pf_data.tail() #check companies still open and public at ending date"
   ]
  },
  {
   "cell_type": "code",
   "execution_count": 5,
   "metadata": {},
   "outputs": [
    {
     "data": {
      "text/plain": [
       "<AxesSubplot:xlabel='Date'>"
      ]
     },
     "execution_count": 5,
     "metadata": {},
     "output_type": "execute_result"
    },
    {
     "data": {
      "image/png": "[encoded data removed]",
      "text/plain": [
       "<Figure size 720x360 with 1 Axes>"
      ]
     },
     "metadata": {
      "needs_background": "light"
     },
     "output_type": "display_data"
    }
   ],
   "source": [
    "(pf_data / pf_data.iloc[0] * 100).plot(figsize=(10, 5)) #Plot of company performance without considering dividends"
   ]
  },
  {
   "cell_type": "code",
   "execution_count": 6,
   "metadata": {},
   "outputs": [],
   "source": [
    "log_returns = np.log(pf_data / pf_data.shift(1)) #get average daily log returns"
   ]
  },
  {
   "cell_type": "code",
   "execution_count": 7,
   "metadata": {},
   "outputs": [
    {
     "data": {
      "text/plain": [
       "^GSPC    0.067096\n",
       "AAPL     0.267775\n",
       "AMZN     0.068151\n",
       "GOOGL    0.209166\n",
       "DVN      0.345773\n",
       "dtype: float64"
      ]
     },
     "execution_count": 7,
     "metadata": {},
     "output_type": "execute_result"
    }
   ],
   "source": [
    "log_returns.mean() * 250 #get yearly returns(daily return x # of days a year). Market open roughly 250 days a year, so I do not use 365. "
   ]
  },
  {
   "cell_type": "code",
   "execution_count": 8,
   "metadata": {},
   "outputs": [
    {
     "data": {
      "text/html": [
       "<div>\n",
       "<style scoped>\n",
       "    .dataframe tbody tr th:only-of-type {\n",
       "        vertical-align: middle;\n",
       "    }\n",
       "\n",
       "    .dataframe tbody tr th {\n",
       "        vertical-align: top;\n",
       "    }\n",
       "\n",
       "    .dataframe thead th {\n",
       "        text-align: right;\n",
       "    }\n",
       "</style>\n",
       "<table border=\"1\" class=\"dataframe\">\n",
       "  <thead>\n",
       "    <tr style=\"text-align: right;\">\n",
       "      <th></th>\n",
       "      <th>^GSPC</th>\n",
       "      <th>AAPL</th>\n",
       "      <th>AMZN</th>\n",
       "      <th>GOOGL</th>\n",
       "      <th>DVN</th>\n",
       "    </tr>\n",
       "  </thead>\n",
       "  <tbody>\n",
       "    <tr>\n",
       "      <th>^GSPC</th>\n",
       "      <td>0.066918</td>\n",
       "      <td>0.078407</td>\n",
       "      <td>0.061011</td>\n",
       "      <td>0.070609</td>\n",
       "      <td>0.103220</td>\n",
       "    </tr>\n",
       "    <tr>\n",
       "      <th>AAPL</th>\n",
       "      <td>0.078407</td>\n",
       "      <td>0.136624</td>\n",
       "      <td>0.091392</td>\n",
       "      <td>0.089712</td>\n",
       "      <td>0.090023</td>\n",
       "    </tr>\n",
       "    <tr>\n",
       "      <th>AMZN</th>\n",
       "      <td>0.061011</td>\n",
       "      <td>0.091392</td>\n",
       "      <td>0.139312</td>\n",
       "      <td>0.083001</td>\n",
       "      <td>0.053090</td>\n",
       "    </tr>\n",
       "    <tr>\n",
       "      <th>GOOGL</th>\n",
       "      <td>0.070609</td>\n",
       "      <td>0.089712</td>\n",
       "      <td>0.083001</td>\n",
       "      <td>0.111849</td>\n",
       "      <td>0.096894</td>\n",
       "    </tr>\n",
       "    <tr>\n",
       "      <th>DVN</th>\n",
       "      <td>0.103220</td>\n",
       "      <td>0.090023</td>\n",
       "      <td>0.053090</td>\n",
       "      <td>0.096894</td>\n",
       "      <td>0.563623</td>\n",
       "    </tr>\n",
       "  </tbody>\n",
       "</table>\n",
       "</div>"
      ],
      "text/plain": [
       "          ^GSPC      AAPL      AMZN     GOOGL       DVN\n",
       "^GSPC  0.066918  0.078407  0.061011  0.070609  0.103220\n",
       "AAPL   0.078407  0.136624  0.091392  0.089712  0.090023\n",
       "AMZN   0.061011  0.091392  0.139312  0.083001  0.053090\n",
       "GOOGL  0.070609  0.089712  0.083001  0.111849  0.096894\n",
       "DVN    0.103220  0.090023  0.053090  0.096894  0.563623"
      ]
     },
     "execution_count": 8,
     "metadata": {},
     "output_type": "execute_result"
    }
   ],
   "source": [
    "log_returns.cov() * 250 #get coveriance between each pair."
   ]
  },
  {
   "cell_type": "code",
   "execution_count": 9,
   "metadata": {},
   "outputs": [
    {
     "data": {
      "text/html": [
       "<div>\n",
       "<style scoped>\n",
       "    .dataframe tbody tr th:only-of-type {\n",
       "        vertical-align: middle;\n",
       "    }\n",
       "\n",
       "    .dataframe tbody tr th {\n",
       "        vertical-align: top;\n",
       "    }\n",
       "\n",
       "    .dataframe thead th {\n",
       "        text-align: right;\n",
       "    }\n",
       "</style>\n",
       "<table border=\"1\" class=\"dataframe\">\n",
       "  <thead>\n",
       "    <tr style=\"text-align: right;\">\n",
       "      <th></th>\n",
       "      <th>^GSPC</th>\n",
       "      <th>AAPL</th>\n",
       "      <th>AMZN</th>\n",
       "      <th>GOOGL</th>\n",
       "      <th>DVN</th>\n",
       "    </tr>\n",
       "  </thead>\n",
       "  <tbody>\n",
       "    <tr>\n",
       "      <th>^GSPC</th>\n",
       "      <td>1.000000</td>\n",
       "      <td>0.820013</td>\n",
       "      <td>0.631889</td>\n",
       "      <td>0.816156</td>\n",
       "      <td>0.531491</td>\n",
       "    </tr>\n",
       "    <tr>\n",
       "      <th>AAPL</th>\n",
       "      <td>0.820013</td>\n",
       "      <td>1.000000</td>\n",
       "      <td>0.662444</td>\n",
       "      <td>0.725726</td>\n",
       "      <td>0.324411</td>\n",
       "    </tr>\n",
       "    <tr>\n",
       "      <th>AMZN</th>\n",
       "      <td>0.631889</td>\n",
       "      <td>0.662444</td>\n",
       "      <td>1.000000</td>\n",
       "      <td>0.664928</td>\n",
       "      <td>0.189462</td>\n",
       "    </tr>\n",
       "    <tr>\n",
       "      <th>GOOGL</th>\n",
       "      <td>0.816156</td>\n",
       "      <td>0.725726</td>\n",
       "      <td>0.664928</td>\n",
       "      <td>1.000000</td>\n",
       "      <td>0.385908</td>\n",
       "    </tr>\n",
       "    <tr>\n",
       "      <th>DVN</th>\n",
       "      <td>0.531491</td>\n",
       "      <td>0.324411</td>\n",
       "      <td>0.189462</td>\n",
       "      <td>0.385908</td>\n",
       "      <td>1.000000</td>\n",
       "    </tr>\n",
       "  </tbody>\n",
       "</table>\n",
       "</div>"
      ],
      "text/plain": [
       "          ^GSPC      AAPL      AMZN     GOOGL       DVN\n",
       "^GSPC  1.000000  0.820013  0.631889  0.816156  0.531491\n",
       "AAPL   0.820013  1.000000  0.662444  0.725726  0.324411\n",
       "AMZN   0.631889  0.662444  1.000000  0.664928  0.189462\n",
       "GOOGL  0.816156  0.725726  0.664928  1.000000  0.385908\n",
       "DVN    0.531491  0.324411  0.189462  0.385908  1.000000"
      ]
     },
     "execution_count": 9,
     "metadata": {},
     "output_type": "execute_result"
    }
   ],
   "source": [
    "log_returns.corr() #get correlation between each pair."
   ]
  },
  {
   "cell_type": "markdown",
   "metadata": {},
   "source": [
    "***"
   ]
  }
 ],
 "metadata": {
  "kernelspec": {
   "display_name": "Python 3.9.12 ('base')",
   "language": "python",
   "name": "python3"
  },
  "language_info": {
   "codemirror_mode": {
    "name": "ipython",
    "version": 3
   },
   "file_extension": ".py",
   "mimetype": "text/x-python",
   "name": "python",
   "nbconvert_exporter": "python",
   "pygments_lexer": "ipython3",
   "version": "3.9.12"
  },
  "vscode": {
   "interpreter": {
    "hash": "2168721610e37bc7f61df443ec5b0e4c0f19b4815a2a65d59e426b62ab5678c1"
   }
  }
 },
 "nbformat": 4,
 "nbformat_minor": 2
}
