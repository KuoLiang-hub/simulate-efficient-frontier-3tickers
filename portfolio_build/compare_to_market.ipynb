{
 "cells": [
  {
   "cell_type": "code",
   "execution_count": 1,
   "metadata": {},
   "outputs": [],
   "source": [
    "# This script compares performance against the market index. \n",
    "# Updated by: Kuo L. 2022-05-02\n",
    "\n",
    "import numpy as np\n",
    "import pandas as pd\n",
    "from pandas_datareader import data as wb\n",
    "import matplotlib.pyplot as plt\n",
    "%matplotlib inline"
   ]
  },
  {
   "cell_type": "code",
   "execution_count": 2,
   "metadata": {},
   "outputs": [],
   "source": [
    "# Using pands-datareader module to connect to  yahoo finance api \n",
    "# to get close price for each ticker stock/ETF.\n",
    "# for Market Index: NASDAQ Composite (^IXIC), \n",
    "#                   S&P 500 (^GSPC), \n",
    "#                   Dow Jones Industrial Average (^DJI)\n",
    "#                   Russell 2000 (^RUT)\n",
    "\n",
    "market_inx = '^GSPC' # ^GSPC for S&P 500\n",
    "assets = [market_inx, 'AAPL','AMZN','GOOGL', 'DVN']\n",
    "start_date = '2020-1-1'\n",
    "pf_data = pd.DataFrame()\n",
    "\n",
    "for a in assets:\n",
    "    #you can chagne the start date to any date in 'yyyy-mm-dd' format.\n",
    "    pf_data[a] = wb.DataReader(a, data_source = 'yahoo', start = start_date)['Adj Close'] "
   ]
  },
  {
   "cell_type": "code",
   "execution_count": 3,
   "metadata": {},
   "outputs": [
    {
     "data": {
      "text/html": [
       "<div>\n",
       "<style scoped>\n",
       "    .dataframe tbody tr th:only-of-type {\n",
       "        vertical-align: middle;\n",
       "    }\n",
       "\n",
       "    .dataframe tbody tr th {\n",
       "        vertical-align: top;\n",
       "    }\n",
       "\n",
       "    .dataframe thead th {\n",
       "        text-align: right;\n",
       "    }\n",
       "</style>\n",
       "<table border=\"1\" class=\"dataframe\">\n",
       "  <thead>\n",
       "    <tr style=\"text-align: right;\">\n",
       "      <th></th>\n",
       "      <th>^GSPC</th>\n",
       "      <th>AAPL</th>\n",
       "      <th>AMZN</th>\n",
       "      <th>GOOGL</th>\n",
       "      <th>DVN</th>\n",
       "    </tr>\n",
       "    <tr>\n",
       "      <th>Date</th>\n",
       "      <th></th>\n",
       "      <th></th>\n",
       "      <th></th>\n",
       "      <th></th>\n",
       "      <th></th>\n",
       "    </tr>\n",
       "  </thead>\n",
       "  <tbody>\n",
       "    <tr>\n",
       "      <th>2020-01-02</th>\n",
       "      <td>3257.850098</td>\n",
       "      <td>73.785919</td>\n",
       "      <td>94.900497</td>\n",
       "      <td>1368.680054</td>\n",
       "      <td>22.118767</td>\n",
       "    </tr>\n",
       "    <tr>\n",
       "      <th>2020-01-03</th>\n",
       "      <td>3234.850098</td>\n",
       "      <td>73.068565</td>\n",
       "      <td>93.748497</td>\n",
       "      <td>1361.520020</td>\n",
       "      <td>22.384640</td>\n",
       "    </tr>\n",
       "    <tr>\n",
       "      <th>2020-01-06</th>\n",
       "      <td>3246.280029</td>\n",
       "      <td>73.650787</td>\n",
       "      <td>95.143997</td>\n",
       "      <td>1397.810059</td>\n",
       "      <td>22.650509</td>\n",
       "    </tr>\n",
       "    <tr>\n",
       "      <th>2020-01-07</th>\n",
       "      <td>3237.179932</td>\n",
       "      <td>73.304405</td>\n",
       "      <td>95.343002</td>\n",
       "      <td>1395.109985</td>\n",
       "      <td>22.719126</td>\n",
       "    </tr>\n",
       "    <tr>\n",
       "      <th>2020-01-08</th>\n",
       "      <td>3253.050049</td>\n",
       "      <td>74.483604</td>\n",
       "      <td>94.598503</td>\n",
       "      <td>1405.040039</td>\n",
       "      <td>21.912930</td>\n",
       "    </tr>\n",
       "  </tbody>\n",
       "</table>\n",
       "</div>"
      ],
      "text/plain": [
       "                  ^GSPC       AAPL       AMZN        GOOGL        DVN\n",
       "Date                                                                 \n",
       "2020-01-02  3257.850098  73.785919  94.900497  1368.680054  22.118767\n",
       "2020-01-03  3234.850098  73.068565  93.748497  1361.520020  22.384640\n",
       "2020-01-06  3246.280029  73.650787  95.143997  1397.810059  22.650509\n",
       "2020-01-07  3237.179932  73.304405  95.343002  1395.109985  22.719126\n",
       "2020-01-08  3253.050049  74.483604  94.598503  1405.040039  21.912930"
      ]
     },
     "execution_count": 3,
     "metadata": {},
     "output_type": "execute_result"
    }
   ],
   "source": [
    "pf_data.head() #makre sure companies were public at starting date"
   ]
  },
  {
   "cell_type": "code",
   "execution_count": 4,
   "metadata": {},
   "outputs": [
    {
     "data": {
      "text/html": [
       "<div>\n",
       "<style scoped>\n",
       "    .dataframe tbody tr th:only-of-type {\n",
       "        vertical-align: middle;\n",
       "    }\n",
       "\n",
       "    .dataframe tbody tr th {\n",
       "        vertical-align: top;\n",
       "    }\n",
       "\n",
       "    .dataframe thead th {\n",
       "        text-align: right;\n",
       "    }\n",
       "</style>\n",
       "<table border=\"1\" class=\"dataframe\">\n",
       "  <thead>\n",
       "    <tr style=\"text-align: right;\">\n",
       "      <th></th>\n",
       "      <th>^GSPC</th>\n",
       "      <th>AAPL</th>\n",
       "      <th>AMZN</th>\n",
       "      <th>GOOGL</th>\n",
       "      <th>DVN</th>\n",
       "    </tr>\n",
       "    <tr>\n",
       "      <th>Date</th>\n",
       "      <th></th>\n",
       "      <th></th>\n",
       "      <th></th>\n",
       "      <th></th>\n",
       "      <th></th>\n",
       "    </tr>\n",
       "  </thead>\n",
       "  <tbody>\n",
       "    <tr>\n",
       "      <th>2022-06-07</th>\n",
       "      <td>4160.680176</td>\n",
       "      <td>148.710007</td>\n",
       "      <td>123.000000</td>\n",
       "      <td>2342.989990</td>\n",
       "      <td>76.766899</td>\n",
       "    </tr>\n",
       "    <tr>\n",
       "      <th>2022-06-08</th>\n",
       "      <td>4115.770020</td>\n",
       "      <td>147.960007</td>\n",
       "      <td>121.180000</td>\n",
       "      <td>2343.879883</td>\n",
       "      <td>76.658691</td>\n",
       "    </tr>\n",
       "    <tr>\n",
       "      <th>2022-06-09</th>\n",
       "      <td>4017.820068</td>\n",
       "      <td>142.639999</td>\n",
       "      <td>116.150002</td>\n",
       "      <td>2296.709961</td>\n",
       "      <td>76.579994</td>\n",
       "    </tr>\n",
       "    <tr>\n",
       "      <th>2022-06-10</th>\n",
       "      <td>3900.860107</td>\n",
       "      <td>137.130005</td>\n",
       "      <td>109.650002</td>\n",
       "      <td>2223.229980</td>\n",
       "      <td>74.059998</td>\n",
       "    </tr>\n",
       "    <tr>\n",
       "      <th>2022-06-13</th>\n",
       "      <td>3749.629883</td>\n",
       "      <td>131.880005</td>\n",
       "      <td>103.669998</td>\n",
       "      <td>2127.850098</td>\n",
       "      <td>69.239998</td>\n",
       "    </tr>\n",
       "  </tbody>\n",
       "</table>\n",
       "</div>"
      ],
      "text/plain": [
       "                  ^GSPC        AAPL        AMZN        GOOGL        DVN\n",
       "Date                                                                   \n",
       "2022-06-07  4160.680176  148.710007  123.000000  2342.989990  76.766899\n",
       "2022-06-08  4115.770020  147.960007  121.180000  2343.879883  76.658691\n",
       "2022-06-09  4017.820068  142.639999  116.150002  2296.709961  76.579994\n",
       "2022-06-10  3900.860107  137.130005  109.650002  2223.229980  74.059998\n",
       "2022-06-13  3749.629883  131.880005  103.669998  2127.850098  69.239998"
      ]
     },
     "execution_count": 4,
     "metadata": {},
     "output_type": "execute_result"
    }
   ],
   "source": [
    "pf_data.tail() #check companies still open and public at ending date"
   ]
  },
  {
   "cell_type": "code",
   "execution_count": 5,
   "metadata": {},
   "outputs": [
    {
     "data": {
      "text/plain": [
       "<AxesSubplot:xlabel='Date'>"
      ]
     },
     "execution_count": 5,
     "metadata": {},
     "output_type": "execute_result"
    },
    {
     "data": {
      "image/png": "[encoded data removed]",
      "text/plain": [
       "<Figure size 720x360 with 1 Axes>"
      ]
     },
     "metadata": {
      "needs_background": "light"
     },
     "output_type": "display_data"
    }
   ],
   "source": [
    "(pf_data / pf_data.iloc[0] * 100).plot(figsize=(10, 5)) #Plot of company performance without considering dividends"
   ]
  },
  {
   "cell_type": "code",
   "execution_count": 6,
   "metadata": {},
   "outputs": [],
   "source": [
    "log_returns = np.log(pf_data / pf_data.shift(1)) #get average daily log returns"
   ]
  },
  {
   "cell_type": "code",
   "execution_count": 7,
   "metadata": {},
   "outputs": [
    {
     "data": {
      "text/plain": [
       "^GSPC    0.057057\n",
       "AAPL     0.235684\n",
       "AMZN     0.035870\n",
       "GOOGL    0.179085\n",
       "DVN      0.463130\n",
       "dtype: float64"
      ]
     },
     "execution_count": 7,
     "metadata": {},
     "output_type": "execute_result"
    }
   ],
   "source": [
    "log_returns.mean() * 250 #get yearly returns(daily return x # of days a year). Market open roughly 250 days a year, so I do not use 365. "
   ]
  },
  {
   "cell_type": "code",
   "execution_count": 8,
   "metadata": {},
   "outputs": [
    {
     "data": {
      "text/html": [
       "<div>\n",
       "<style scoped>\n",
       "    .dataframe tbody tr th:only-of-type {\n",
       "        vertical-align: middle;\n",
       "    }\n",
       "\n",
       "    .dataframe tbody tr th {\n",
       "        vertical-align: top;\n",
       "    }\n",
       "\n",
       "    .dataframe thead th {\n",
       "        text-align: right;\n",
       "    }\n",
       "</style>\n",
       "<table border=\"1\" class=\"dataframe\">\n",
       "  <thead>\n",
       "    <tr style=\"text-align: right;\">\n",
       "      <th></th>\n",
       "      <th>^GSPC</th>\n",
       "      <th>AAPL</th>\n",
       "      <th>AMZN</th>\n",
       "      <th>GOOGL</th>\n",
       "      <th>DVN</th>\n",
       "    </tr>\n",
       "  </thead>\n",
       "  <tbody>\n",
       "    <tr>\n",
       "      <th>^GSPC</th>\n",
       "      <td>0.067320</td>\n",
       "      <td>0.078776</td>\n",
       "      <td>0.060256</td>\n",
       "      <td>0.070286</td>\n",
       "      <td>0.105346</td>\n",
       "    </tr>\n",
       "    <tr>\n",
       "      <th>AAPL</th>\n",
       "      <td>0.078776</td>\n",
       "      <td>0.137804</td>\n",
       "      <td>0.090411</td>\n",
       "      <td>0.089078</td>\n",
       "      <td>0.092364</td>\n",
       "    </tr>\n",
       "    <tr>\n",
       "      <th>AMZN</th>\n",
       "      <td>0.060256</td>\n",
       "      <td>0.090411</td>\n",
       "      <td>0.137234</td>\n",
       "      <td>0.080832</td>\n",
       "      <td>0.057633</td>\n",
       "    </tr>\n",
       "    <tr>\n",
       "      <th>GOOGL</th>\n",
       "      <td>0.070286</td>\n",
       "      <td>0.089078</td>\n",
       "      <td>0.080832</td>\n",
       "      <td>0.110244</td>\n",
       "      <td>0.099839</td>\n",
       "    </tr>\n",
       "    <tr>\n",
       "      <th>DVN</th>\n",
       "      <td>0.105346</td>\n",
       "      <td>0.092364</td>\n",
       "      <td>0.057633</td>\n",
       "      <td>0.099839</td>\n",
       "      <td>0.563571</td>\n",
       "    </tr>\n",
       "  </tbody>\n",
       "</table>\n",
       "</div>"
      ],
      "text/plain": [
       "          ^GSPC      AAPL      AMZN     GOOGL       DVN\n",
       "^GSPC  0.067320  0.078776  0.060256  0.070286  0.105346\n",
       "AAPL   0.078776  0.137804  0.090411  0.089078  0.092364\n",
       "AMZN   0.060256  0.090411  0.137234  0.080832  0.057633\n",
       "GOOGL  0.070286  0.089078  0.080832  0.110244  0.099839\n",
       "DVN    0.105346  0.092364  0.057633  0.099839  0.563571"
      ]
     },
     "execution_count": 8,
     "metadata": {},
     "output_type": "execute_result"
    }
   ],
   "source": [
    "log_returns.cov() * 250 #get coveriance between each pair."
   ]
  },
  {
   "cell_type": "code",
   "execution_count": 9,
   "metadata": {},
   "outputs": [
    {
     "data": {
      "text/html": [
       "<div>\n",
       "<style scoped>\n",
       "    .dataframe tbody tr th:only-of-type {\n",
       "        vertical-align: middle;\n",
       "    }\n",
       "\n",
       "    .dataframe tbody tr th {\n",
       "        vertical-align: top;\n",
       "    }\n",
       "\n",
       "    .dataframe thead th {\n",
       "        text-align: right;\n",
       "    }\n",
       "</style>\n",
       "<table border=\"1\" class=\"dataframe\">\n",
       "  <thead>\n",
       "    <tr style=\"text-align: right;\">\n",
       "      <th></th>\n",
       "      <th>^GSPC</th>\n",
       "      <th>AAPL</th>\n",
       "      <th>AMZN</th>\n",
       "      <th>GOOGL</th>\n",
       "      <th>DVN</th>\n",
       "    </tr>\n",
       "  </thead>\n",
       "  <tbody>\n",
       "    <tr>\n",
       "      <th>^GSPC</th>\n",
       "      <td>1.000000</td>\n",
       "      <td>0.817878</td>\n",
       "      <td>0.626901</td>\n",
       "      <td>0.815866</td>\n",
       "      <td>0.540847</td>\n",
       "    </tr>\n",
       "    <tr>\n",
       "      <th>AAPL</th>\n",
       "      <td>0.817878</td>\n",
       "      <td>1.000000</td>\n",
       "      <td>0.657448</td>\n",
       "      <td>0.722711</td>\n",
       "      <td>0.331433</td>\n",
       "    </tr>\n",
       "    <tr>\n",
       "      <th>AMZN</th>\n",
       "      <td>0.626901</td>\n",
       "      <td>0.657448</td>\n",
       "      <td>1.000000</td>\n",
       "      <td>0.657163</td>\n",
       "      <td>0.207236</td>\n",
       "    </tr>\n",
       "    <tr>\n",
       "      <th>GOOGL</th>\n",
       "      <td>0.815866</td>\n",
       "      <td>0.722711</td>\n",
       "      <td>0.657163</td>\n",
       "      <td>1.000000</td>\n",
       "      <td>0.400543</td>\n",
       "    </tr>\n",
       "    <tr>\n",
       "      <th>DVN</th>\n",
       "      <td>0.540847</td>\n",
       "      <td>0.331433</td>\n",
       "      <td>0.207236</td>\n",
       "      <td>0.400543</td>\n",
       "      <td>1.000000</td>\n",
       "    </tr>\n",
       "  </tbody>\n",
       "</table>\n",
       "</div>"
      ],
      "text/plain": [
       "          ^GSPC      AAPL      AMZN     GOOGL       DVN\n",
       "^GSPC  1.000000  0.817878  0.626901  0.815866  0.540847\n",
       "AAPL   0.817878  1.000000  0.657448  0.722711  0.331433\n",
       "AMZN   0.626901  0.657448  1.000000  0.657163  0.207236\n",
       "GOOGL  0.815866  0.722711  0.657163  1.000000  0.400543\n",
       "DVN    0.540847  0.331433  0.207236  0.400543  1.000000"
      ]
     },
     "execution_count": 9,
     "metadata": {},
     "output_type": "execute_result"
    }
   ],
   "source": [
    "log_returns.corr() #get correlation between each pair."
   ]
  },
  {
   "cell_type": "markdown",
   "metadata": {},
   "source": [
    "***"
   ]
  }
 ],
 "metadata": {
  "interpreter": {
   "hash": "31f2aee4e71d21fbe5cf8b01ff0e069b9275f58929596ceb00d14d90e3e16cd6"
  },
  "kernelspec": {
   "display_name": "Python 3.10.4 64-bit",
   "language": "python",
   "name": "python3"
  },
  "language_info": {
   "codemirror_mode": {
    "name": "ipython",
    "version": 3
   },
   "file_extension": ".py",
   "mimetype": "text/x-python",
   "name": "python",
   "nbconvert_exporter": "python",
   "pygments_lexer": "ipython3",
   "version": "3.10.4"
  }
 },
 "nbformat": 4,
 "nbformat_minor": 2
}
