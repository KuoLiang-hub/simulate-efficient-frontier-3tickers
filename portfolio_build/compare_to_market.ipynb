{
 "cells": [
  {
   "cell_type": "code",
   "execution_count": 1,
   "metadata": {},
   "outputs": [],
   "source": [
    "# This script compares performance against the market index. \n",
    "# Updated by: Kuo L. 2022-05-02\n",
    "\n",
    "import numpy as np\n",
    "import pandas as pd\n",
    "from pandas_datareader import data as wb\n",
    "import matplotlib.pyplot as plt\n",
    "%matplotlib inline"
   ]
  },
  {
   "cell_type": "code",
   "execution_count": 2,
   "metadata": {},
   "outputs": [],
   "source": [
    "# Using pands-datareader module to connect to  yahoo finance api \n",
    "# to get close price for each ticker stock/ETF.\n",
    "# for Market Index: NASDAQ Composite (^IXIC), \n",
    "#                   S&P 500 (^GSPC), \n",
    "#                   Dow Jones Industrial Average (^DJI)\n",
    "#                   Russell 2000 (^RUT)\n",
    "\n",
    "market_inx = '^GSPC' # ^GSPC for S&P 500\n",
    "assets = [market_inx, 'AAPL','AMZN','GOOGL', 'DVN']\n",
    "start_date = '2020-1-1'\n",
    "pf_data = pd.DataFrame()\n",
    "\n",
    "for a in assets:\n",
    "    #you can chagne the start date to any date in 'yyyy-mm-dd' format.\n",
    "    pf_data[a] = wb.DataReader(a, data_source = 'yahoo', start = start_date)['Adj Close'] "
   ]
  },
  {
   "cell_type": "code",
   "execution_count": 3,
   "metadata": {},
   "outputs": [
    {
     "data": {
      "text/html": [
       "<div>\n",
       "<style scoped>\n",
       "    .dataframe tbody tr th:only-of-type {\n",
       "        vertical-align: middle;\n",
       "    }\n",
       "\n",
       "    .dataframe tbody tr th {\n",
       "        vertical-align: top;\n",
       "    }\n",
       "\n",
       "    .dataframe thead th {\n",
       "        text-align: right;\n",
       "    }\n",
       "</style>\n",
       "<table border=\"1\" class=\"dataframe\">\n",
       "  <thead>\n",
       "    <tr style=\"text-align: right;\">\n",
       "      <th></th>\n",
       "      <th>^GSPC</th>\n",
       "      <th>AAPL</th>\n",
       "      <th>AMZN</th>\n",
       "      <th>GOOGL</th>\n",
       "      <th>DVN</th>\n",
       "    </tr>\n",
       "    <tr>\n",
       "      <th>Date</th>\n",
       "      <th></th>\n",
       "      <th></th>\n",
       "      <th></th>\n",
       "      <th></th>\n",
       "      <th></th>\n",
       "    </tr>\n",
       "  </thead>\n",
       "  <tbody>\n",
       "    <tr>\n",
       "      <th>2020-01-02</th>\n",
       "      <td>3257.850098</td>\n",
       "      <td>73.785904</td>\n",
       "      <td>94.900497</td>\n",
       "      <td>1368.680054</td>\n",
       "      <td>22.118769</td>\n",
       "    </tr>\n",
       "    <tr>\n",
       "      <th>2020-01-03</th>\n",
       "      <td>3234.850098</td>\n",
       "      <td>73.068558</td>\n",
       "      <td>93.748497</td>\n",
       "      <td>1361.520020</td>\n",
       "      <td>22.384638</td>\n",
       "    </tr>\n",
       "    <tr>\n",
       "      <th>2020-01-06</th>\n",
       "      <td>3246.280029</td>\n",
       "      <td>73.650803</td>\n",
       "      <td>95.143997</td>\n",
       "      <td>1397.810059</td>\n",
       "      <td>22.650507</td>\n",
       "    </tr>\n",
       "    <tr>\n",
       "      <th>2020-01-07</th>\n",
       "      <td>3237.179932</td>\n",
       "      <td>73.304413</td>\n",
       "      <td>95.343002</td>\n",
       "      <td>1395.109985</td>\n",
       "      <td>22.719124</td>\n",
       "    </tr>\n",
       "    <tr>\n",
       "      <th>2020-01-08</th>\n",
       "      <td>3253.050049</td>\n",
       "      <td>74.483597</td>\n",
       "      <td>94.598503</td>\n",
       "      <td>1405.040039</td>\n",
       "      <td>21.912931</td>\n",
       "    </tr>\n",
       "  </tbody>\n",
       "</table>\n",
       "</div>"
      ],
      "text/plain": [
       "                  ^GSPC       AAPL       AMZN        GOOGL        DVN\n",
       "Date                                                                 \n",
       "2020-01-02  3257.850098  73.785904  94.900497  1368.680054  22.118769\n",
       "2020-01-03  3234.850098  73.068558  93.748497  1361.520020  22.384638\n",
       "2020-01-06  3246.280029  73.650803  95.143997  1397.810059  22.650507\n",
       "2020-01-07  3237.179932  73.304413  95.343002  1395.109985  22.719124\n",
       "2020-01-08  3253.050049  74.483597  94.598503  1405.040039  21.912931"
      ]
     },
     "execution_count": 3,
     "metadata": {},
     "output_type": "execute_result"
    }
   ],
   "source": [
    "pf_data.head() #makre sure companies were public at starting date"
   ]
  },
  {
   "cell_type": "code",
   "execution_count": 4,
   "metadata": {},
   "outputs": [
    {
     "data": {
      "text/html": [
       "<div>\n",
       "<style scoped>\n",
       "    .dataframe tbody tr th:only-of-type {\n",
       "        vertical-align: middle;\n",
       "    }\n",
       "\n",
       "    .dataframe tbody tr th {\n",
       "        vertical-align: top;\n",
       "    }\n",
       "\n",
       "    .dataframe thead th {\n",
       "        text-align: right;\n",
       "    }\n",
       "</style>\n",
       "<table border=\"1\" class=\"dataframe\">\n",
       "  <thead>\n",
       "    <tr style=\"text-align: right;\">\n",
       "      <th></th>\n",
       "      <th>^GSPC</th>\n",
       "      <th>AAPL</th>\n",
       "      <th>AMZN</th>\n",
       "      <th>GOOGL</th>\n",
       "      <th>DVN</th>\n",
       "    </tr>\n",
       "    <tr>\n",
       "      <th>Date</th>\n",
       "      <th></th>\n",
       "      <th></th>\n",
       "      <th></th>\n",
       "      <th></th>\n",
       "      <th></th>\n",
       "    </tr>\n",
       "  </thead>\n",
       "  <tbody>\n",
       "    <tr>\n",
       "      <th>2022-06-30</th>\n",
       "      <td>3785.379883</td>\n",
       "      <td>136.720001</td>\n",
       "      <td>106.209999</td>\n",
       "      <td>2179.260010</td>\n",
       "      <td>55.110001</td>\n",
       "    </tr>\n",
       "    <tr>\n",
       "      <th>2022-07-01</th>\n",
       "      <td>3825.330078</td>\n",
       "      <td>138.929993</td>\n",
       "      <td>109.559998</td>\n",
       "      <td>2174.750000</td>\n",
       "      <td>55.110001</td>\n",
       "    </tr>\n",
       "    <tr>\n",
       "      <th>2022-07-05</th>\n",
       "      <td>3831.389893</td>\n",
       "      <td>141.559998</td>\n",
       "      <td>113.500000</td>\n",
       "      <td>2265.260010</td>\n",
       "      <td>51.889999</td>\n",
       "    </tr>\n",
       "    <tr>\n",
       "      <th>2022-07-06</th>\n",
       "      <td>3845.080078</td>\n",
       "      <td>142.919998</td>\n",
       "      <td>114.330002</td>\n",
       "      <td>2291.439941</td>\n",
       "      <td>51.000000</td>\n",
       "    </tr>\n",
       "    <tr>\n",
       "      <th>2022-07-07</th>\n",
       "      <td>3902.620117</td>\n",
       "      <td>146.350006</td>\n",
       "      <td>116.330002</td>\n",
       "      <td>2375.659912</td>\n",
       "      <td>53.669998</td>\n",
       "    </tr>\n",
       "  </tbody>\n",
       "</table>\n",
       "</div>"
      ],
      "text/plain": [
       "                  ^GSPC        AAPL        AMZN        GOOGL        DVN\n",
       "Date                                                                   \n",
       "2022-06-30  3785.379883  136.720001  106.209999  2179.260010  55.110001\n",
       "2022-07-01  3825.330078  138.929993  109.559998  2174.750000  55.110001\n",
       "2022-07-05  3831.389893  141.559998  113.500000  2265.260010  51.889999\n",
       "2022-07-06  3845.080078  142.919998  114.330002  2291.439941  51.000000\n",
       "2022-07-07  3902.620117  146.350006  116.330002  2375.659912  53.669998"
      ]
     },
     "execution_count": 4,
     "metadata": {},
     "output_type": "execute_result"
    }
   ],
   "source": [
    "pf_data.tail() #check companies still open and public at ending date"
   ]
  },
  {
   "cell_type": "code",
   "execution_count": 5,
   "metadata": {},
   "outputs": [
    {
     "data": {
      "text/plain": [
       "<AxesSubplot:xlabel='Date'>"
      ]
     },
     "execution_count": 5,
     "metadata": {},
     "output_type": "execute_result"
    },
    {
     "data": {
      "image/png": "[encoded data removed]",
      "text/plain": [
       "<Figure size 720x360 with 1 Axes>"
      ]
     },
     "metadata": {
      "needs_background": "light"
     },
     "output_type": "display_data"
    }
   ],
   "source": [
    "(pf_data / pf_data.iloc[0] * 100).plot(figsize=(10, 5)) #Plot of company performance without considering dividends"
   ]
  },
  {
   "cell_type": "code",
   "execution_count": 6,
   "metadata": {},
   "outputs": [],
   "source": [
    "log_returns = np.log(pf_data / pf_data.shift(1)) #get average daily log returns"
   ]
  },
  {
   "cell_type": "code",
   "execution_count": 7,
   "metadata": {},
   "outputs": [
    {
     "data": {
      "text/plain": [
       "^GSPC    0.071432\n",
       "AAPL     0.270899\n",
       "AMZN     0.080539\n",
       "GOOGL    0.218128\n",
       "DVN      0.350644\n",
       "dtype: float64"
      ]
     },
     "execution_count": 7,
     "metadata": {},
     "output_type": "execute_result"
    }
   ],
   "source": [
    "log_returns.mean() * 250 #get yearly returns(daily return x # of days a year). Market open roughly 250 days a year, so I do not use 365. "
   ]
  },
  {
   "cell_type": "code",
   "execution_count": 8,
   "metadata": {},
   "outputs": [
    {
     "data": {
      "text/html": [
       "<div>\n",
       "<style scoped>\n",
       "    .dataframe tbody tr th:only-of-type {\n",
       "        vertical-align: middle;\n",
       "    }\n",
       "\n",
       "    .dataframe tbody tr th {\n",
       "        vertical-align: top;\n",
       "    }\n",
       "\n",
       "    .dataframe thead th {\n",
       "        text-align: right;\n",
       "    }\n",
       "</style>\n",
       "<table border=\"1\" class=\"dataframe\">\n",
       "  <thead>\n",
       "    <tr style=\"text-align: right;\">\n",
       "      <th></th>\n",
       "      <th>^GSPC</th>\n",
       "      <th>AAPL</th>\n",
       "      <th>AMZN</th>\n",
       "      <th>GOOGL</th>\n",
       "      <th>DVN</th>\n",
       "    </tr>\n",
       "  </thead>\n",
       "  <tbody>\n",
       "    <tr>\n",
       "      <th>^GSPC</th>\n",
       "      <td>0.067091</td>\n",
       "      <td>0.078612</td>\n",
       "      <td>0.061106</td>\n",
       "      <td>0.070731</td>\n",
       "      <td>0.103451</td>\n",
       "    </tr>\n",
       "    <tr>\n",
       "      <th>AAPL</th>\n",
       "      <td>0.078612</td>\n",
       "      <td>0.136999</td>\n",
       "      <td>0.091581</td>\n",
       "      <td>0.089869</td>\n",
       "      <td>0.090170</td>\n",
       "    </tr>\n",
       "    <tr>\n",
       "      <th>AMZN</th>\n",
       "      <td>0.061106</td>\n",
       "      <td>0.091581</td>\n",
       "      <td>0.139500</td>\n",
       "      <td>0.083020</td>\n",
       "      <td>0.053047</td>\n",
       "    </tr>\n",
       "    <tr>\n",
       "      <th>GOOGL</th>\n",
       "      <td>0.070731</td>\n",
       "      <td>0.089869</td>\n",
       "      <td>0.083020</td>\n",
       "      <td>0.111917</td>\n",
       "      <td>0.096906</td>\n",
       "    </tr>\n",
       "    <tr>\n",
       "      <th>DVN</th>\n",
       "      <td>0.103451</td>\n",
       "      <td>0.090170</td>\n",
       "      <td>0.053047</td>\n",
       "      <td>0.096906</td>\n",
       "      <td>0.565070</td>\n",
       "    </tr>\n",
       "  </tbody>\n",
       "</table>\n",
       "</div>"
      ],
      "text/plain": [
       "          ^GSPC      AAPL      AMZN     GOOGL       DVN\n",
       "^GSPC  0.067091  0.078612  0.061106  0.070731  0.103451\n",
       "AAPL   0.078612  0.136999  0.091581  0.089869  0.090170\n",
       "AMZN   0.061106  0.091581  0.139500  0.083020  0.053047\n",
       "GOOGL  0.070731  0.089869  0.083020  0.111917  0.096906\n",
       "DVN    0.103451  0.090170  0.053047  0.096906  0.565070"
      ]
     },
     "execution_count": 8,
     "metadata": {},
     "output_type": "execute_result"
    }
   ],
   "source": [
    "log_returns.cov() * 250 #get coveriance between each pair."
   ]
  },
  {
   "cell_type": "code",
   "execution_count": 9,
   "metadata": {},
   "outputs": [
    {
     "data": {
      "text/html": [
       "<div>\n",
       "<style scoped>\n",
       "    .dataframe tbody tr th:only-of-type {\n",
       "        vertical-align: middle;\n",
       "    }\n",
       "\n",
       "    .dataframe tbody tr th {\n",
       "        vertical-align: top;\n",
       "    }\n",
       "\n",
       "    .dataframe thead th {\n",
       "        text-align: right;\n",
       "    }\n",
       "</style>\n",
       "<table border=\"1\" class=\"dataframe\">\n",
       "  <thead>\n",
       "    <tr style=\"text-align: right;\">\n",
       "      <th></th>\n",
       "      <th>^GSPC</th>\n",
       "      <th>AAPL</th>\n",
       "      <th>AMZN</th>\n",
       "      <th>GOOGL</th>\n",
       "      <th>DVN</th>\n",
       "    </tr>\n",
       "  </thead>\n",
       "  <tbody>\n",
       "    <tr>\n",
       "      <th>^GSPC</th>\n",
       "      <td>1.000000</td>\n",
       "      <td>0.819971</td>\n",
       "      <td>0.631633</td>\n",
       "      <td>0.816259</td>\n",
       "      <td>0.531315</td>\n",
       "    </tr>\n",
       "    <tr>\n",
       "      <th>AAPL</th>\n",
       "      <td>0.819971</td>\n",
       "      <td>1.000000</td>\n",
       "      <td>0.662457</td>\n",
       "      <td>0.725781</td>\n",
       "      <td>0.324081</td>\n",
       "    </tr>\n",
       "    <tr>\n",
       "      <th>AMZN</th>\n",
       "      <td>0.631633</td>\n",
       "      <td>0.662457</td>\n",
       "      <td>1.000000</td>\n",
       "      <td>0.664425</td>\n",
       "      <td>0.188940</td>\n",
       "    </tr>\n",
       "    <tr>\n",
       "      <th>GOOGL</th>\n",
       "      <td>0.816259</td>\n",
       "      <td>0.725781</td>\n",
       "      <td>0.664425</td>\n",
       "      <td>1.000000</td>\n",
       "      <td>0.385347</td>\n",
       "    </tr>\n",
       "    <tr>\n",
       "      <th>DVN</th>\n",
       "      <td>0.531315</td>\n",
       "      <td>0.324081</td>\n",
       "      <td>0.188940</td>\n",
       "      <td>0.385347</td>\n",
       "      <td>1.000000</td>\n",
       "    </tr>\n",
       "  </tbody>\n",
       "</table>\n",
       "</div>"
      ],
      "text/plain": [
       "          ^GSPC      AAPL      AMZN     GOOGL       DVN\n",
       "^GSPC  1.000000  0.819971  0.631633  0.816259  0.531315\n",
       "AAPL   0.819971  1.000000  0.662457  0.725781  0.324081\n",
       "AMZN   0.631633  0.662457  1.000000  0.664425  0.188940\n",
       "GOOGL  0.816259  0.725781  0.664425  1.000000  0.385347\n",
       "DVN    0.531315  0.324081  0.188940  0.385347  1.000000"
      ]
     },
     "execution_count": 9,
     "metadata": {},
     "output_type": "execute_result"
    }
   ],
   "source": [
    "log_returns.corr() #get correlation between each pair."
   ]
  },
  {
   "cell_type": "markdown",
   "metadata": {},
   "source": [
    "***"
   ]
  }
 ],
 "metadata": {
  "kernelspec": {
   "display_name": "Python 3.9.12 ('base')",
   "language": "python",
   "name": "python3"
  },
  "language_info": {
   "codemirror_mode": {
    "name": "ipython",
    "version": 3
   },
   "file_extension": ".py",
   "mimetype": "text/x-python",
   "name": "python",
   "nbconvert_exporter": "python",
   "pygments_lexer": "ipython3",
   "version": "3.9.12"
  },
  "vscode": {
   "interpreter": {
    "hash": "2168721610e37bc7f61df443ec5b0e4c0f19b4815a2a65d59e426b62ab5678c1"
   }
  }
 },
 "nbformat": 4,
 "nbformat_minor": 2
}
