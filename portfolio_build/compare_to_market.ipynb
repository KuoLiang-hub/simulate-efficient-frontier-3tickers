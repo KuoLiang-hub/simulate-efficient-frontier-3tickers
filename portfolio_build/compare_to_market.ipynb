{
 "cells": [
  {
   "cell_type": "code",
   "execution_count": 1,
   "metadata": {},
   "outputs": [],
   "source": [
    "# This script compares performance against the market index. \n",
    "# Updated by: Kuo L. 2022-05-02\n",
    "\n",
    "import numpy as np\n",
    "import pandas as pd\n",
    "from pandas_datareader import data as wb\n",
    "import matplotlib.pyplot as plt\n",
    "%matplotlib inline"
   ]
  },
  {
   "cell_type": "code",
   "execution_count": 2,
   "metadata": {},
   "outputs": [],
   "source": [
    "# Using pands-datareader module to connect to  yahoo finance api \n",
    "# to get close price for each ticker stock/ETF.\n",
    "# for Market Index: NASDAQ Composite (^IXIC), \n",
    "#                   S&P 500 (^GSPC), \n",
    "#                   Dow Jones Industrial Average (^DJI)\n",
    "#                   Russell 2000 (^RUT)\n",
    "\n",
    "market_inx = '^GSPC' # ^GSPC for S&P 500\n",
    "assets = [market_inx, 'AAPL','AMZN','GOOGL', 'DVN']\n",
    "start_date = '2020-1-1'\n",
    "pf_data = pd.DataFrame()\n",
    "\n",
    "for a in assets:\n",
    "    #you can chagne the start date to any date in 'yyyy-mm-dd' format.\n",
    "    pf_data[a] = wb.DataReader(a, data_source = 'yahoo', start = start_date)['Adj Close'] "
   ]
  },
  {
   "cell_type": "code",
   "execution_count": 3,
   "metadata": {},
   "outputs": [
    {
     "data": {
      "text/html": [
       "<div>\n",
       "<style scoped>\n",
       "    .dataframe tbody tr th:only-of-type {\n",
       "        vertical-align: middle;\n",
       "    }\n",
       "\n",
       "    .dataframe tbody tr th {\n",
       "        vertical-align: top;\n",
       "    }\n",
       "\n",
       "    .dataframe thead th {\n",
       "        text-align: right;\n",
       "    }\n",
       "</style>\n",
       "<table border=\"1\" class=\"dataframe\">\n",
       "  <thead>\n",
       "    <tr style=\"text-align: right;\">\n",
       "      <th></th>\n",
       "      <th>^GSPC</th>\n",
       "      <th>AAPL</th>\n",
       "      <th>AMZN</th>\n",
       "      <th>GOOGL</th>\n",
       "      <th>DVN</th>\n",
       "    </tr>\n",
       "    <tr>\n",
       "      <th>Date</th>\n",
       "      <th></th>\n",
       "      <th></th>\n",
       "      <th></th>\n",
       "      <th></th>\n",
       "      <th></th>\n",
       "    </tr>\n",
       "  </thead>\n",
       "  <tbody>\n",
       "    <tr>\n",
       "      <th>2020-01-02</th>\n",
       "      <td>3257.850098</td>\n",
       "      <td>73.785919</td>\n",
       "      <td>94.900497</td>\n",
       "      <td>1368.680054</td>\n",
       "      <td>22.485584</td>\n",
       "    </tr>\n",
       "    <tr>\n",
       "      <th>2020-01-03</th>\n",
       "      <td>3234.850098</td>\n",
       "      <td>73.068565</td>\n",
       "      <td>93.748497</td>\n",
       "      <td>1361.520020</td>\n",
       "      <td>22.755865</td>\n",
       "    </tr>\n",
       "    <tr>\n",
       "      <th>2020-01-06</th>\n",
       "      <td>3246.280029</td>\n",
       "      <td>73.650787</td>\n",
       "      <td>95.143997</td>\n",
       "      <td>1397.810059</td>\n",
       "      <td>23.026148</td>\n",
       "    </tr>\n",
       "    <tr>\n",
       "      <th>2020-01-07</th>\n",
       "      <td>3237.179932</td>\n",
       "      <td>73.304420</td>\n",
       "      <td>95.343002</td>\n",
       "      <td>1395.109985</td>\n",
       "      <td>23.095894</td>\n",
       "    </tr>\n",
       "    <tr>\n",
       "      <th>2020-01-08</th>\n",
       "      <td>3253.050049</td>\n",
       "      <td>74.483589</td>\n",
       "      <td>94.598503</td>\n",
       "      <td>1405.040039</td>\n",
       "      <td>22.276337</td>\n",
       "    </tr>\n",
       "  </tbody>\n",
       "</table>\n",
       "</div>"
      ],
      "text/plain": [
       "                  ^GSPC       AAPL       AMZN        GOOGL        DVN\n",
       "Date                                                                 \n",
       "2020-01-02  3257.850098  73.785919  94.900497  1368.680054  22.485584\n",
       "2020-01-03  3234.850098  73.068565  93.748497  1361.520020  22.755865\n",
       "2020-01-06  3246.280029  73.650787  95.143997  1397.810059  23.026148\n",
       "2020-01-07  3237.179932  73.304420  95.343002  1395.109985  23.095894\n",
       "2020-01-08  3253.050049  74.483589  94.598503  1405.040039  22.276337"
      ]
     },
     "execution_count": 3,
     "metadata": {},
     "output_type": "execute_result"
    }
   ],
   "source": [
    "pf_data.head() #makre sure companies were public at starting date"
   ]
  },
  {
   "cell_type": "code",
   "execution_count": 4,
   "metadata": {},
   "outputs": [
    {
     "data": {
      "text/html": [
       "<div>\n",
       "<style scoped>\n",
       "    .dataframe tbody tr th:only-of-type {\n",
       "        vertical-align: middle;\n",
       "    }\n",
       "\n",
       "    .dataframe tbody tr th {\n",
       "        vertical-align: top;\n",
       "    }\n",
       "\n",
       "    .dataframe thead th {\n",
       "        text-align: right;\n",
       "    }\n",
       "</style>\n",
       "<table border=\"1\" class=\"dataframe\">\n",
       "  <thead>\n",
       "    <tr style=\"text-align: right;\">\n",
       "      <th></th>\n",
       "      <th>^GSPC</th>\n",
       "      <th>AAPL</th>\n",
       "      <th>AMZN</th>\n",
       "      <th>GOOGL</th>\n",
       "      <th>DVN</th>\n",
       "    </tr>\n",
       "    <tr>\n",
       "      <th>Date</th>\n",
       "      <th></th>\n",
       "      <th></th>\n",
       "      <th></th>\n",
       "      <th></th>\n",
       "      <th></th>\n",
       "    </tr>\n",
       "  </thead>\n",
       "  <tbody>\n",
       "    <tr>\n",
       "      <th>2022-06-01</th>\n",
       "      <td>4101.229980</td>\n",
       "      <td>148.710007</td>\n",
       "      <td>121.683998</td>\n",
       "      <td>2277.840088</td>\n",
       "      <td>76.480003</td>\n",
       "    </tr>\n",
       "    <tr>\n",
       "      <th>2022-06-02</th>\n",
       "      <td>4176.819824</td>\n",
       "      <td>151.210007</td>\n",
       "      <td>125.511002</td>\n",
       "      <td>2352.449951</td>\n",
       "      <td>76.309998</td>\n",
       "    </tr>\n",
       "    <tr>\n",
       "      <th>2022-06-03</th>\n",
       "      <td>4108.540039</td>\n",
       "      <td>145.380005</td>\n",
       "      <td>122.349998</td>\n",
       "      <td>2290.820068</td>\n",
       "      <td>77.019997</td>\n",
       "    </tr>\n",
       "    <tr>\n",
       "      <th>2022-06-06</th>\n",
       "      <td>4121.430176</td>\n",
       "      <td>146.139999</td>\n",
       "      <td>124.790001</td>\n",
       "      <td>2336.409912</td>\n",
       "      <td>77.050003</td>\n",
       "    </tr>\n",
       "    <tr>\n",
       "      <th>2022-06-07</th>\n",
       "      <td>4160.680176</td>\n",
       "      <td>148.710007</td>\n",
       "      <td>123.000000</td>\n",
       "      <td>2342.989990</td>\n",
       "      <td>78.040001</td>\n",
       "    </tr>\n",
       "  </tbody>\n",
       "</table>\n",
       "</div>"
      ],
      "text/plain": [
       "                  ^GSPC        AAPL        AMZN        GOOGL        DVN\n",
       "Date                                                                   \n",
       "2022-06-01  4101.229980  148.710007  121.683998  2277.840088  76.480003\n",
       "2022-06-02  4176.819824  151.210007  125.511002  2352.449951  76.309998\n",
       "2022-06-03  4108.540039  145.380005  122.349998  2290.820068  77.019997\n",
       "2022-06-06  4121.430176  146.139999  124.790001  2336.409912  77.050003\n",
       "2022-06-07  4160.680176  148.710007  123.000000  2342.989990  78.040001"
      ]
     },
     "execution_count": 4,
     "metadata": {},
     "output_type": "execute_result"
    }
   ],
   "source": [
    "pf_data.tail() #check companies still open and public at ending date"
   ]
  },
  {
   "cell_type": "code",
   "execution_count": 5,
   "metadata": {},
   "outputs": [
    {
     "data": {
      "text/plain": [
       "<AxesSubplot:xlabel='Date'>"
      ]
     },
     "execution_count": 5,
     "metadata": {},
     "output_type": "execute_result"
    },
    {
     "data": {
      "image/png": "[encoded data removed]",
      "text/plain": [
       "<Figure size 720x360 with 1 Axes>"
      ]
     },
     "metadata": {
      "needs_background": "light"
     },
     "output_type": "display_data"
    }
   ],
   "source": [
    "(pf_data / pf_data.iloc[0] * 100).plot(figsize=(10, 5)) #Plot of company performance without considering dividends"
   ]
  },
  {
   "cell_type": "code",
   "execution_count": 6,
   "metadata": {},
   "outputs": [],
   "source": [
    "log_returns = np.log(pf_data / pf_data.shift(1)) #get average daily log returns"
   ]
  },
  {
   "cell_type": "code",
   "execution_count": 7,
   "metadata": {},
   "outputs": [
    {
     "data": {
      "text/plain": [
       "^GSPC    0.099923\n",
       "AAPL     0.286287\n",
       "AMZN     0.105946\n",
       "GOOGL    0.219600\n",
       "DVN      0.508312\n",
       "dtype: float64"
      ]
     },
     "execution_count": 7,
     "metadata": {},
     "output_type": "execute_result"
    }
   ],
   "source": [
    "log_returns.mean() * 250 #get yearly returns(daily return x # of days a year). Market open roughly 250 days a year, so I do not use 365. "
   ]
  },
  {
   "cell_type": "code",
   "execution_count": 8,
   "metadata": {},
   "outputs": [
    {
     "data": {
      "text/html": [
       "<div>\n",
       "<style scoped>\n",
       "    .dataframe tbody tr th:only-of-type {\n",
       "        vertical-align: middle;\n",
       "    }\n",
       "\n",
       "    .dataframe tbody tr th {\n",
       "        vertical-align: top;\n",
       "    }\n",
       "\n",
       "    .dataframe thead th {\n",
       "        text-align: right;\n",
       "    }\n",
       "</style>\n",
       "<table border=\"1\" class=\"dataframe\">\n",
       "  <thead>\n",
       "    <tr style=\"text-align: right;\">\n",
       "      <th></th>\n",
       "      <th>^GSPC</th>\n",
       "      <th>AAPL</th>\n",
       "      <th>AMZN</th>\n",
       "      <th>GOOGL</th>\n",
       "      <th>DVN</th>\n",
       "    </tr>\n",
       "  </thead>\n",
       "  <tbody>\n",
       "    <tr>\n",
       "      <th>^GSPC</th>\n",
       "      <td>0.066451</td>\n",
       "      <td>0.077740</td>\n",
       "      <td>0.058529</td>\n",
       "      <td>0.069398</td>\n",
       "      <td>0.104430</td>\n",
       "    </tr>\n",
       "    <tr>\n",
       "      <th>AAPL</th>\n",
       "      <td>0.077740</td>\n",
       "      <td>0.136784</td>\n",
       "      <td>0.088426</td>\n",
       "      <td>0.088052</td>\n",
       "      <td>0.091193</td>\n",
       "    </tr>\n",
       "    <tr>\n",
       "      <th>AMZN</th>\n",
       "      <td>0.058529</td>\n",
       "      <td>0.088426</td>\n",
       "      <td>0.134622</td>\n",
       "      <td>0.079171</td>\n",
       "      <td>0.055502</td>\n",
       "    </tr>\n",
       "    <tr>\n",
       "      <th>GOOGL</th>\n",
       "      <td>0.069398</td>\n",
       "      <td>0.088052</td>\n",
       "      <td>0.079171</td>\n",
       "      <td>0.109513</td>\n",
       "      <td>0.098719</td>\n",
       "    </tr>\n",
       "    <tr>\n",
       "      <th>DVN</th>\n",
       "      <td>0.104430</td>\n",
       "      <td>0.091193</td>\n",
       "      <td>0.055502</td>\n",
       "      <td>0.098719</td>\n",
       "      <td>0.564777</td>\n",
       "    </tr>\n",
       "  </tbody>\n",
       "</table>\n",
       "</div>"
      ],
      "text/plain": [
       "          ^GSPC      AAPL      AMZN     GOOGL       DVN\n",
       "^GSPC  0.066451  0.077740  0.058529  0.069398  0.104430\n",
       "AAPL   0.077740  0.136784  0.088426  0.088052  0.091193\n",
       "AMZN   0.058529  0.088426  0.134622  0.079171  0.055502\n",
       "GOOGL  0.069398  0.088052  0.079171  0.109513  0.098719\n",
       "DVN    0.104430  0.091193  0.055502  0.098719  0.564777"
      ]
     },
     "execution_count": 8,
     "metadata": {},
     "output_type": "execute_result"
    }
   ],
   "source": [
    "log_returns.cov() * 250 #get coveriance between each pair."
   ]
  },
  {
   "cell_type": "code",
   "execution_count": 9,
   "metadata": {},
   "outputs": [
    {
     "data": {
      "text/html": [
       "<div>\n",
       "<style scoped>\n",
       "    .dataframe tbody tr th:only-of-type {\n",
       "        vertical-align: middle;\n",
       "    }\n",
       "\n",
       "    .dataframe tbody tr th {\n",
       "        vertical-align: top;\n",
       "    }\n",
       "\n",
       "    .dataframe thead th {\n",
       "        text-align: right;\n",
       "    }\n",
       "</style>\n",
       "<table border=\"1\" class=\"dataframe\">\n",
       "  <thead>\n",
       "    <tr style=\"text-align: right;\">\n",
       "      <th></th>\n",
       "      <th>^GSPC</th>\n",
       "      <th>AAPL</th>\n",
       "      <th>AMZN</th>\n",
       "      <th>GOOGL</th>\n",
       "      <th>DVN</th>\n",
       "    </tr>\n",
       "  </thead>\n",
       "  <tbody>\n",
       "    <tr>\n",
       "      <th>^GSPC</th>\n",
       "      <td>1.000000</td>\n",
       "      <td>0.815404</td>\n",
       "      <td>0.618815</td>\n",
       "      <td>0.813509</td>\n",
       "      <td>0.539055</td>\n",
       "    </tr>\n",
       "    <tr>\n",
       "      <th>AAPL</th>\n",
       "      <td>0.815404</td>\n",
       "      <td>1.000000</td>\n",
       "      <td>0.651632</td>\n",
       "      <td>0.719426</td>\n",
       "      <td>0.328099</td>\n",
       "    </tr>\n",
       "    <tr>\n",
       "      <th>AMZN</th>\n",
       "      <td>0.618815</td>\n",
       "      <td>0.651632</td>\n",
       "      <td>1.000000</td>\n",
       "      <td>0.652038</td>\n",
       "      <td>0.201286</td>\n",
       "    </tr>\n",
       "    <tr>\n",
       "      <th>GOOGL</th>\n",
       "      <td>0.813509</td>\n",
       "      <td>0.719426</td>\n",
       "      <td>0.652038</td>\n",
       "      <td>1.000000</td>\n",
       "      <td>0.396944</td>\n",
       "    </tr>\n",
       "    <tr>\n",
       "      <th>DVN</th>\n",
       "      <td>0.539055</td>\n",
       "      <td>0.328099</td>\n",
       "      <td>0.201286</td>\n",
       "      <td>0.396944</td>\n",
       "      <td>1.000000</td>\n",
       "    </tr>\n",
       "  </tbody>\n",
       "</table>\n",
       "</div>"
      ],
      "text/plain": [
       "          ^GSPC      AAPL      AMZN     GOOGL       DVN\n",
       "^GSPC  1.000000  0.815404  0.618815  0.813509  0.539055\n",
       "AAPL   0.815404  1.000000  0.651632  0.719426  0.328099\n",
       "AMZN   0.618815  0.651632  1.000000  0.652038  0.201286\n",
       "GOOGL  0.813509  0.719426  0.652038  1.000000  0.396944\n",
       "DVN    0.539055  0.328099  0.201286  0.396944  1.000000"
      ]
     },
     "execution_count": 9,
     "metadata": {},
     "output_type": "execute_result"
    }
   ],
   "source": [
    "log_returns.corr() #get correlation between each pair."
   ]
  },
  {
   "cell_type": "markdown",
   "metadata": {},
   "source": [
    "***"
   ]
  }
 ],
 "metadata": {
  "interpreter": {
   "hash": "31f2aee4e71d21fbe5cf8b01ff0e069b9275f58929596ceb00d14d90e3e16cd6"
  },
  "kernelspec": {
   "display_name": "Python 3.10.4 64-bit",
   "language": "python",
   "name": "python3"
  },
  "language_info": {
   "codemirror_mode": {
    "name": "ipython",
    "version": 3
   },
   "file_extension": ".py",
   "mimetype": "text/x-python",
   "name": "python",
   "nbconvert_exporter": "python",
   "pygments_lexer": "ipython3",
   "version": "3.10.4"
  }
 },
 "nbformat": 4,
 "nbformat_minor": 2
}
